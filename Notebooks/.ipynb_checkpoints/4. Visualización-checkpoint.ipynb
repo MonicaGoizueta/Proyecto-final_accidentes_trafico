{
 "cells": [
  {
   "cell_type": "code",
   "execution_count": 1,
   "id": "ab4a8e73",
   "metadata": {},
   "outputs": [],
   "source": [
    "import pandas as pd\n",
    "import numpy as np\n",
    "import matplotlib.pyplot as plt\n",
    "import seaborn as sns\n",
    "import plotly.express as px\n",
    "import datetime\n",
    "import sidetable\n",
    "import plotly.express as px\n",
    "\n",
    "import folium\n",
    "import matplotlib\n"
   ]
  },
  {
   "cell_type": "code",
   "execution_count": 3,
   "id": "8fe3e667",
   "metadata": {
    "scrolled": true
   },
   "outputs": [
    {
     "data": {
      "text/html": [
       "<div>\n",
       "<style scoped>\n",
       "    .dataframe tbody tr th:only-of-type {\n",
       "        vertical-align: middle;\n",
       "    }\n",
       "\n",
       "    .dataframe tbody tr th {\n",
       "        vertical-align: top;\n",
       "    }\n",
       "\n",
       "    .dataframe thead th {\n",
       "        text-align: right;\n",
       "    }\n",
       "</style>\n",
       "<table border=\"1\" class=\"dataframe\">\n",
       "  <thead>\n",
       "    <tr style=\"text-align: right;\">\n",
       "      <th></th>\n",
       "      <th>Unnamed: 0</th>\n",
       "      <th>num_expediente</th>\n",
       "      <th>fecha</th>\n",
       "      <th>hora</th>\n",
       "      <th>distrito</th>\n",
       "      <th>tipo_accidente</th>\n",
       "      <th>estado_meteorológico</th>\n",
       "      <th>tipo_vehiculo</th>\n",
       "      <th>tipo_persona</th>\n",
       "      <th>rango_edad</th>\n",
       "      <th>...</th>\n",
       "      <th>humedad(%)_max</th>\n",
       "      <th>humedad(%)_avg</th>\n",
       "      <th>humedad(%)_min</th>\n",
       "      <th>vel_viento_max</th>\n",
       "      <th>vel_viento_avg</th>\n",
       "      <th>vel_viento_min</th>\n",
       "      <th>presion(Hg)_max</th>\n",
       "      <th>presion(Hg)_avg</th>\n",
       "      <th>presion(Hg)_min</th>\n",
       "      <th>mes</th>\n",
       "    </tr>\n",
       "  </thead>\n",
       "  <tbody>\n",
       "    <tr>\n",
       "      <th>0</th>\n",
       "      <td>0</td>\n",
       "      <td>2020S019534</td>\n",
       "      <td>2021-01-01</td>\n",
       "      <td>04:30:00</td>\n",
       "      <td>Puente de vallecas</td>\n",
       "      <td>Colisión fronto-lateral</td>\n",
       "      <td>Despejado</td>\n",
       "      <td>Turismo</td>\n",
       "      <td>Conductor</td>\n",
       "      <td>De 30 a 34 años</td>\n",
       "      <td>...</td>\n",
       "      <td>100</td>\n",
       "      <td>80.1</td>\n",
       "      <td>53</td>\n",
       "      <td>22</td>\n",
       "      <td>7.0</td>\n",
       "      <td>0</td>\n",
       "      <td>27.8</td>\n",
       "      <td>27.7</td>\n",
       "      <td>27.7</td>\n",
       "      <td>1</td>\n",
       "    </tr>\n",
       "  </tbody>\n",
       "</table>\n",
       "<p>1 rows × 33 columns</p>\n",
       "</div>"
      ],
      "text/plain": [
       "   Unnamed: 0 num_expediente      fecha      hora            distrito  \\\n",
       "0           0    2020S019534 2021-01-01  04:30:00  Puente de vallecas   \n",
       "\n",
       "            tipo_accidente estado_meteorológico tipo_vehiculo tipo_persona  \\\n",
       "0  Colisión fronto-lateral            Despejado       Turismo    Conductor   \n",
       "\n",
       "        rango_edad  ... humedad(%)_max humedad(%)_avg humedad(%)_min  \\\n",
       "0  De 30 a 34 años  ...            100           80.1             53   \n",
       "\n",
       "  vel_viento_max  vel_viento_avg  vel_viento_min presion(Hg)_max  \\\n",
       "0             22             7.0               0            27.8   \n",
       "\n",
       "   presion(Hg)_avg  presion(Hg)_min  mes  \n",
       "0             27.7             27.7    1  \n",
       "\n",
       "[1 rows x 33 columns]"
      ]
     },
     "execution_count": 3,
     "metadata": {},
     "output_type": "execute_result"
    }
   ],
   "source": [
    "df_limpio = pd.read_excel(\"../Data/df_mergeado.xlsx\")\n",
    "df_limpio.head(1)"
   ]
  },
  {
   "cell_type": "code",
   "execution_count": null,
   "id": "35bba1bc",
   "metadata": {
    "scrolled": true
   },
   "outputs": [],
   "source": [
    "df_limpio = df_limpio.drop([\"Unnamed: 0\"], axis = 1)\n",
    "df_limpio.head(1)"
   ]
  },
  {
   "cell_type": "markdown",
   "id": "52d194fc",
   "metadata": {},
   "source": [
    "# Agrupación por número de expediente"
   ]
  },
  {
   "cell_type": "code",
   "execution_count": null,
   "id": "696b830a",
   "metadata": {
    "scrolled": true
   },
   "outputs": [],
   "source": [
    "df_pie = pd.DataFrame(df_limpio.groupby(['num_expediente', 'distrito'])[\"tipo_vehiculo\", \"tipo_accidente\", \"tipo_persona\"].count())\n",
    "df_pie.reset_index(inplace = True)\n",
    "df_pie.head(2)"
   ]
  },
  {
   "cell_type": "markdown",
   "id": "14be87fe",
   "metadata": {},
   "source": [
    "# Agrupación por Distrito"
   ]
  },
  {
   "cell_type": "code",
   "execution_count": null,
   "id": "8d924c8b",
   "metadata": {
    "scrolled": true
   },
   "outputs": [],
   "source": [
    "df_pie_1 = pd.DataFrame(df_pie.groupby(['distrito'])[\"num_expediente\"].count())\n",
    "df_pie_1.reset_index(inplace = True)\n",
    "df_pie_1.head(2)"
   ]
  },
  {
   "cell_type": "code",
   "execution_count": null,
   "id": "34f3e438",
   "metadata": {
    "scrolled": true
   },
   "outputs": [],
   "source": [
    "sns.barplot(x='num_expediente', y='distrito',data=df_pie_1);"
   ]
  },
  {
   "cell_type": "code",
   "execution_count": null,
   "id": "5c9daf1e",
   "metadata": {},
   "outputs": [],
   "source": [
    "fig2 = px.histogram(df_pie_1, x = \"num_expediente\", \n",
    "                        y = \"distrito\", \n",
    "                           nbins = 30)\n",
    "\n",
    "fig2.show()"
   ]
  },
  {
   "cell_type": "markdown",
   "id": "491ae40a",
   "metadata": {},
   "source": [
    "# Agrupación por dia de la semana"
   ]
  },
  {
   "cell_type": "code",
   "execution_count": null,
   "id": "7e0786dd",
   "metadata": {
    "scrolled": true
   },
   "outputs": [],
   "source": [
    "df_pie_3 = pd.DataFrame(df_limpio.groupby(['num_expediente', 'dia_semana'])[\"tipo_vehiculo\", \"tipo_accidente\", \"tipo_persona\"].count())\n",
    "df_pie_3.reset_index(inplace = True)\n",
    "df_pie_3.head(1)"
   ]
  },
  {
   "cell_type": "code",
   "execution_count": null,
   "id": "c8a508f3",
   "metadata": {
    "scrolled": false
   },
   "outputs": [],
   "source": [
    "df_pie_4 = pd.DataFrame(df_pie_3.groupby(['dia_semana'])[\"num_expediente\"].count())\n",
    "df_pie_4.reset_index(inplace = True)\n",
    "df_pie_4.head(7)"
   ]
  },
  {
   "cell_type": "code",
   "execution_count": null,
   "id": "a4e231a3",
   "metadata": {
    "scrolled": false
   },
   "outputs": [],
   "source": [
    "fig4 = px.histogram(df_pie_4, x = \"dia_semana\", \n",
    "                        y = \"num_expediente\", nbins = 20, width=900, height=500)\n",
    "\n",
    "fig4.update_layout(title_text='Accidentes por día de la semana')\n",
    "\n",
    "\n",
    "fig4.update_traces(marker=dict(color='blue')) # establecer el color de las barras\n",
    "\n",
    "fig4.show()\n"
   ]
  },
  {
   "cell_type": "markdown",
   "id": "f40199d4",
   "metadata": {},
   "source": [
    "# Agrupación por hora del dia"
   ]
  },
  {
   "cell_type": "code",
   "execution_count": null,
   "id": "62a1143f",
   "metadata": {},
   "outputs": [],
   "source": [
    "df_pie_7 = pd.DataFrame(df_limpio.groupby(['num_expediente', 'hora'])[\"tipo_vehiculo\", \"tipo_accidente\", \"tipo_persona\"].count())\n",
    "df_pie_7.reset_index(inplace = True)\n",
    "df_pie_7.head(1)"
   ]
  },
  {
   "cell_type": "code",
   "execution_count": null,
   "id": "f9756674",
   "metadata": {},
   "outputs": [],
   "source": [
    "df_pie_8 = pd.DataFrame(df_pie_7.groupby(['hora'])[\"num_expediente\"].count())\n",
    "df_pie_8.reset_index(inplace = True)\n",
    "df_pie_8.head(7)"
   ]
  },
  {
   "cell_type": "code",
   "execution_count": null,
   "id": "12124452",
   "metadata": {},
   "outputs": [],
   "source": [
    "fig7 = sns.lineplot(data=df_pie_8, x=\"hora\", y=\"num_expediente\",\n",
    "                    color = \"black\",\n",
    "                    marker = \"o\",\n",
    "                    markersize = 7, # para cambiar el tamaño del marcador\n",
    "                   linewidth = 2); # anchura de la línea\n",
    "\n",
    "                     \n",
    "\n",
    "plt.show();"
   ]
  },
  {
   "cell_type": "markdown",
   "id": "16af600c",
   "metadata": {},
   "source": [
    "# Por tipo de accidente"
   ]
  },
  {
   "cell_type": "code",
   "execution_count": null,
   "id": "d929325b",
   "metadata": {},
   "outputs": [],
   "source": [
    "df_pie_5 = pd.DataFrame(df_limpio.groupby(['num_expediente', 'tipo_accidente'])[\"tipo_vehiculo\", \"tipo_persona\"].count())\n",
    "df_pie_5.reset_index(inplace = True)\n",
    "df_pie_5.head(2)"
   ]
  },
  {
   "cell_type": "code",
   "execution_count": null,
   "id": "e673f054",
   "metadata": {},
   "outputs": [],
   "source": [
    "df_pie_6 = pd.DataFrame(df_pie_5.groupby(['tipo_accidente'])[\"num_expediente\"].count())\n",
    "df_pie_6.reset_index(inplace = True)\n",
    "df_pie_6.head(2)"
   ]
  },
  {
   "cell_type": "code",
   "execution_count": null,
   "id": "11ebf610",
   "metadata": {},
   "outputs": [],
   "source": [
    "fig6 = px.histogram(df_pie_6, x = \"tipo_accidente\", \n",
    "                        y = \"num_expediente\", nbins = 20, width=900, height=500)\n",
    "\n",
    "fig6.update_layout(title_text='Accidentes por día de la semana')\n",
    "\n",
    "\n",
    "fig6.update_traces(marker=dict(color='blue')) # establecer el color de las barras\n",
    "\n",
    "fig6.show()"
   ]
  },
  {
   "cell_type": "markdown",
   "id": "f6f5412b",
   "metadata": {},
   "source": [
    "# Relación numero de accidentes y temperatura"
   ]
  },
  {
   "cell_type": "code",
   "execution_count": null,
   "id": "3757d2ed",
   "metadata": {},
   "outputs": [],
   "source": [
    "df_limpio.columns"
   ]
  },
  {
   "cell_type": "code",
   "execution_count": null,
   "id": "56d53cd5",
   "metadata": {},
   "outputs": [],
   "source": [
    "df_pie1 = pd.DataFrame(df_limpio.groupby(['fecha', \"temperatura(°C)_avg\"])[\"num_expediente\"].count())\n",
    "\n",
    "df_pie1.reset_index(inplace = True)\n",
    "\n",
    "df_pie1.head(2)"
   ]
  },
  {
   "cell_type": "code",
   "execution_count": null,
   "id": "a66b108b",
   "metadata": {
    "scrolled": false
   },
   "outputs": [],
   "source": [
    "fig7 = px.scatter(df_pie1, x= 'num_expediente', y= 'temperatura(°C)_avg', \n",
    "                width=900, height=500) # es como el hue del scatterplot\n",
    "\n",
    "fig7.update_layout(title_text='Relación numero de accidentes y temperatura') "
   ]
  },
  {
   "cell_type": "markdown",
   "id": "cceeeabb",
   "metadata": {},
   "source": [
    "# Relación numero de accidentes y humedad"
   ]
  },
  {
   "cell_type": "code",
   "execution_count": null,
   "id": "52665da7",
   "metadata": {
    "scrolled": true
   },
   "outputs": [],
   "source": [
    "df_pie12 = pd.DataFrame(df_limpio.groupby(['fecha', \"humedad(%)_avg\"])[\"num_expediente\"].count())\n",
    "\n",
    "df_pie12.reset_index(inplace = True)\n",
    "\n",
    "df_pie12.head(2)"
   ]
  },
  {
   "cell_type": "code",
   "execution_count": null,
   "id": "d062184a",
   "metadata": {
    "scrolled": true
   },
   "outputs": [],
   "source": [
    "fig8 = px.scatter(df_pie12, x= 'num_expediente', y= 'humedad(%)_avg', \n",
    "                width=900, height=500) # es como el hue del scatterplot\n",
    "\n",
    "fig8.update_layout(title_text='Relación numero de accidentes y humedad') "
   ]
  },
  {
   "cell_type": "markdown",
   "id": "45595931",
   "metadata": {},
   "source": [
    "# Relación numero de accidentes y velocidad viento"
   ]
  },
  {
   "cell_type": "code",
   "execution_count": null,
   "id": "0130185c",
   "metadata": {},
   "outputs": [],
   "source": [
    "df_pie2 = pd.DataFrame(df_limpio.groupby(['fecha', \"vel_viento_avg\"])[\"num_expediente\"].count())\n",
    "\n",
    "df_pie2.reset_index(inplace = True)\n",
    "\n",
    "df_pie2.head(2)"
   ]
  },
  {
   "cell_type": "code",
   "execution_count": null,
   "id": "77784591",
   "metadata": {},
   "outputs": [],
   "source": [
    "fig9 = px.scatter(df_pie2, x= 'num_expediente', y= 'vel_viento_avg', \n",
    "                width=900, height=500) # es como el hue del scatterplot\n",
    "\n",
    "fig8.update_layout(title_text='Relación numero de accidentes y velocidad del vientp') "
   ]
  },
  {
   "cell_type": "code",
   "execution_count": null,
   "id": "60b4a40f",
   "metadata": {},
   "outputs": [],
   "source": []
  }
 ],
 "metadata": {
  "kernelspec": {
   "display_name": "Python 3 (ipykernel)",
   "language": "python",
   "name": "python3"
  },
  "language_info": {
   "codemirror_mode": {
    "name": "ipython",
    "version": 3
   },
   "file_extension": ".py",
   "mimetype": "text/x-python",
   "name": "python",
   "nbconvert_exporter": "python",
   "pygments_lexer": "ipython3",
   "version": "3.9.7"
  }
 },
 "nbformat": 4,
 "nbformat_minor": 5
}
