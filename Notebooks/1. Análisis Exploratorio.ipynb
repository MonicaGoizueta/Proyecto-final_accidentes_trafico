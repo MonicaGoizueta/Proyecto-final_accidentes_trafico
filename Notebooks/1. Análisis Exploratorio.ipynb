{
 "cells": [
  {
   "cell_type": "code",
   "execution_count": 1,
   "id": "9d43d1e9",
   "metadata": {},
   "outputs": [],
   "source": [
    "import pandas as pd\n",
    "import numpy as np\n",
    "import datetime\n",
    "\n",
    "pd.options.display.max_columns = None"
   ]
  },
  {
   "cell_type": "code",
   "execution_count": 2,
   "id": "a0dc5d9e",
   "metadata": {
    "scrolled": true
   },
   "outputs": [
    {
     "data": {
      "text/html": [
       "<div>\n",
       "<style scoped>\n",
       "    .dataframe tbody tr th:only-of-type {\n",
       "        vertical-align: middle;\n",
       "    }\n",
       "\n",
       "    .dataframe tbody tr th {\n",
       "        vertical-align: top;\n",
       "    }\n",
       "\n",
       "    .dataframe thead th {\n",
       "        text-align: right;\n",
       "    }\n",
       "</style>\n",
       "<table border=\"1\" class=\"dataframe\">\n",
       "  <thead>\n",
       "    <tr style=\"text-align: right;\">\n",
       "      <th></th>\n",
       "      <th>num_expediente</th>\n",
       "      <th>fecha</th>\n",
       "      <th>hora</th>\n",
       "      <th>localizacion</th>\n",
       "      <th>numero</th>\n",
       "      <th>cod_distrito</th>\n",
       "      <th>distrito</th>\n",
       "      <th>tipo_accidente</th>\n",
       "      <th>estado_meteorológico</th>\n",
       "      <th>tipo_vehiculo</th>\n",
       "      <th>tipo_persona</th>\n",
       "      <th>rango_edad</th>\n",
       "      <th>sexo</th>\n",
       "      <th>cod_lesividad</th>\n",
       "      <th>lesividad</th>\n",
       "      <th>coordenada_x_utm</th>\n",
       "      <th>coordenada_y_utm</th>\n",
       "      <th>positiva_alcohol</th>\n",
       "      <th>positiva_droga</th>\n",
       "    </tr>\n",
       "  </thead>\n",
       "  <tbody>\n",
       "    <tr>\n",
       "      <th>0</th>\n",
       "      <td>2020S019534</td>\n",
       "      <td>2021-01-01</td>\n",
       "      <td>04:30:00</td>\n",
       "      <td>AVDA. PABLO NERUDA / CALL. LEONESES</td>\n",
       "      <td>57</td>\n",
       "      <td>13.0</td>\n",
       "      <td>PUENTE DE VALLECAS</td>\n",
       "      <td>Colisión fronto-lateral</td>\n",
       "      <td>Despejado</td>\n",
       "      <td>Turismo</td>\n",
       "      <td>Conductor</td>\n",
       "      <td>De 30 a 34 años</td>\n",
       "      <td>Mujer</td>\n",
       "      <td>14.0</td>\n",
       "      <td>Sin asistencia sanitaria</td>\n",
       "      <td>444976.463</td>\n",
       "      <td>4470508.259</td>\n",
       "      <td>N</td>\n",
       "      <td>NaN</td>\n",
       "    </tr>\n",
       "    <tr>\n",
       "      <th>1</th>\n",
       "      <td>2020S019534</td>\n",
       "      <td>2021-01-01</td>\n",
       "      <td>04:30:00</td>\n",
       "      <td>AVDA. PABLO NERUDA / CALL. LEONESES</td>\n",
       "      <td>57</td>\n",
       "      <td>13.0</td>\n",
       "      <td>PUENTE DE VALLECAS</td>\n",
       "      <td>Colisión fronto-lateral</td>\n",
       "      <td>Despejado</td>\n",
       "      <td>Turismo</td>\n",
       "      <td>Conductor</td>\n",
       "      <td>De 35 a 39 años</td>\n",
       "      <td>Hombre</td>\n",
       "      <td>7.0</td>\n",
       "      <td>Asistencia sanitaria sólo en el lugar del acci...</td>\n",
       "      <td>444976.463</td>\n",
       "      <td>4470508.259</td>\n",
       "      <td>N</td>\n",
       "      <td>NaN</td>\n",
       "    </tr>\n",
       "    <tr>\n",
       "      <th>2</th>\n",
       "      <td>2020S019534</td>\n",
       "      <td>2021-01-01</td>\n",
       "      <td>04:30:00</td>\n",
       "      <td>AVDA. PABLO NERUDA / CALL. LEONESES</td>\n",
       "      <td>57</td>\n",
       "      <td>13.0</td>\n",
       "      <td>PUENTE DE VALLECAS</td>\n",
       "      <td>Colisión fronto-lateral</td>\n",
       "      <td>Despejado</td>\n",
       "      <td>Turismo</td>\n",
       "      <td>Conductor</td>\n",
       "      <td>Desconocido</td>\n",
       "      <td>Desconocido</td>\n",
       "      <td>NaN</td>\n",
       "      <td>NaN</td>\n",
       "      <td>444976.463</td>\n",
       "      <td>4470508.259</td>\n",
       "      <td>N</td>\n",
       "      <td>NaN</td>\n",
       "    </tr>\n",
       "  </tbody>\n",
       "</table>\n",
       "</div>"
      ],
      "text/plain": [
       "  num_expediente      fecha      hora                         localizacion  \\\n",
       "0    2020S019534 2021-01-01  04:30:00  AVDA. PABLO NERUDA / CALL. LEONESES   \n",
       "1    2020S019534 2021-01-01  04:30:00  AVDA. PABLO NERUDA / CALL. LEONESES   \n",
       "2    2020S019534 2021-01-01  04:30:00  AVDA. PABLO NERUDA / CALL. LEONESES   \n",
       "\n",
       "  numero  cod_distrito            distrito           tipo_accidente  \\\n",
       "0     57          13.0  PUENTE DE VALLECAS  Colisión fronto-lateral   \n",
       "1     57          13.0  PUENTE DE VALLECAS  Colisión fronto-lateral   \n",
       "2     57          13.0  PUENTE DE VALLECAS  Colisión fronto-lateral   \n",
       "\n",
       "  estado_meteorológico tipo_vehiculo tipo_persona       rango_edad  \\\n",
       "0            Despejado       Turismo    Conductor  De 30 a 34 años   \n",
       "1            Despejado       Turismo    Conductor  De 35 a 39 años   \n",
       "2            Despejado       Turismo    Conductor      Desconocido   \n",
       "\n",
       "          sexo  cod_lesividad  \\\n",
       "0        Mujer           14.0   \n",
       "1       Hombre            7.0   \n",
       "2  Desconocido            NaN   \n",
       "\n",
       "                                           lesividad  coordenada_x_utm  \\\n",
       "0                           Sin asistencia sanitaria        444976.463   \n",
       "1  Asistencia sanitaria sólo en el lugar del acci...        444976.463   \n",
       "2                                                NaN        444976.463   \n",
       "\n",
       "   coordenada_y_utm positiva_alcohol  positiva_droga  \n",
       "0       4470508.259                N             NaN  \n",
       "1       4470508.259                N             NaN  \n",
       "2       4470508.259                N             NaN  "
      ]
     },
     "execution_count": 2,
     "metadata": {},
     "output_type": "execute_result"
    }
   ],
   "source": [
    "df = pd.read_excel(\"../Data/2021_Accidentalidad.xlsx\")\n",
    "df.head(3)"
   ]
  },
  {
   "cell_type": "markdown",
   "id": "d0a8e608",
   "metadata": {},
   "source": [
    "# Exploración inicial de nuestros datos"
   ]
  },
  {
   "cell_type": "markdown",
   "id": "09fc8f5f",
   "metadata": {},
   "source": [
    "# Tipado de datos"
   ]
  },
  {
   "cell_type": "code",
   "execution_count": 3,
   "id": "8c12d9d2",
   "metadata": {
    "scrolled": true
   },
   "outputs": [
    {
     "data": {
      "text/plain": [
       "Index(['num_expediente', 'fecha', 'hora', 'localizacion', 'numero',\n",
       "       'cod_distrito', 'distrito', 'tipo_accidente', 'estado_meteorológico',\n",
       "       'tipo_vehiculo', 'tipo_persona', 'rango_edad', 'sexo', 'cod_lesividad',\n",
       "       'lesividad', 'coordenada_x_utm', 'coordenada_y_utm', 'positiva_alcohol',\n",
       "       'positiva_droga'],\n",
       "      dtype='object')"
      ]
     },
     "execution_count": 3,
     "metadata": {},
     "output_type": "execute_result"
    }
   ],
   "source": [
    "df.columns"
   ]
  },
  {
   "cell_type": "markdown",
   "id": "7cc75111",
   "metadata": {},
   "source": [
    "# Tamaño"
   ]
  },
  {
   "cell_type": "code",
   "execution_count": 4,
   "id": "8435ad22",
   "metadata": {},
   "outputs": [
    {
     "data": {
      "text/plain": [
       "(41783, 19)"
      ]
     },
     "execution_count": 4,
     "metadata": {},
     "output_type": "execute_result"
    }
   ],
   "source": [
    "df.shape"
   ]
  },
  {
   "cell_type": "markdown",
   "id": "96c34fc2",
   "metadata": {},
   "source": [
    "# Tipo de Datos"
   ]
  },
  {
   "cell_type": "code",
   "execution_count": 5,
   "id": "b967b49f",
   "metadata": {
    "scrolled": true
   },
   "outputs": [
    {
     "data": {
      "text/plain": [
       "num_expediente                  object\n",
       "fecha                   datetime64[ns]\n",
       "hora                            object\n",
       "localizacion                    object\n",
       "numero                          object\n",
       "cod_distrito                   float64\n",
       "distrito                        object\n",
       "tipo_accidente                  object\n",
       "estado_meteorológico            object\n",
       "tipo_vehiculo                   object\n",
       "tipo_persona                    object\n",
       "rango_edad                      object\n",
       "sexo                            object\n",
       "cod_lesividad                  float64\n",
       "lesividad                       object\n",
       "coordenada_x_utm               float64\n",
       "coordenada_y_utm               float64\n",
       "positiva_alcohol                object\n",
       "positiva_droga                 float64\n",
       "dtype: object"
      ]
     },
     "execution_count": 5,
     "metadata": {},
     "output_type": "execute_result"
    }
   ],
   "source": [
    "df.dtypes"
   ]
  },
  {
   "cell_type": "markdown",
   "id": "51546ba4",
   "metadata": {},
   "source": [
    "# Hagamos una exploración de las variables"
   ]
  },
  {
   "cell_type": "code",
   "execution_count": 6,
   "id": "c6f56845",
   "metadata": {},
   "outputs": [
    {
     "name": "stdout",
     "output_type": "stream",
     "text": [
      "<class 'pandas.core.frame.DataFrame'>\n",
      "RangeIndex: 41783 entries, 0 to 41782\n",
      "Data columns (total 19 columns):\n",
      " #   Column                Non-Null Count  Dtype         \n",
      "---  ------                --------------  -----         \n",
      " 0   num_expediente        41783 non-null  object        \n",
      " 1   fecha                 41783 non-null  datetime64[ns]\n",
      " 2   hora                  41783 non-null  object        \n",
      " 3   localizacion          41783 non-null  object        \n",
      " 4   numero                41780 non-null  object        \n",
      " 5   cod_distrito          41780 non-null  float64       \n",
      " 6   distrito              41780 non-null  object        \n",
      " 7   tipo_accidente        41779 non-null  object        \n",
      " 8   estado_meteorológico  37355 non-null  object        \n",
      " 9   tipo_vehiculo         41729 non-null  object        \n",
      " 10  tipo_persona          41780 non-null  object        \n",
      " 11  rango_edad            41783 non-null  object        \n",
      " 12  sexo                  41783 non-null  object        \n",
      " 13  cod_lesividad         22819 non-null  float64       \n",
      " 14  lesividad             22819 non-null  object        \n",
      " 15  coordenada_x_utm      41771 non-null  float64       \n",
      " 16  coordenada_y_utm      41771 non-null  float64       \n",
      " 17  positiva_alcohol      41616 non-null  object        \n",
      " 18  positiva_droga        89 non-null     float64       \n",
      "dtypes: datetime64[ns](1), float64(5), object(13)\n",
      "memory usage: 6.1+ MB\n"
     ]
    }
   ],
   "source": [
    "df.info()"
   ]
  },
  {
   "cell_type": "markdown",
   "id": "760aa338",
   "metadata": {},
   "source": [
    "# Principales estadísticos"
   ]
  },
  {
   "cell_type": "code",
   "execution_count": 7,
   "id": "7d846276",
   "metadata": {},
   "outputs": [
    {
     "data": {
      "text/html": [
       "<div>\n",
       "<style scoped>\n",
       "    .dataframe tbody tr th:only-of-type {\n",
       "        vertical-align: middle;\n",
       "    }\n",
       "\n",
       "    .dataframe tbody tr th {\n",
       "        vertical-align: top;\n",
       "    }\n",
       "\n",
       "    .dataframe thead th {\n",
       "        text-align: right;\n",
       "    }\n",
       "</style>\n",
       "<table border=\"1\" class=\"dataframe\">\n",
       "  <thead>\n",
       "    <tr style=\"text-align: right;\">\n",
       "      <th></th>\n",
       "      <th>count</th>\n",
       "      <th>mean</th>\n",
       "      <th>std</th>\n",
       "      <th>min</th>\n",
       "      <th>25%</th>\n",
       "      <th>50%</th>\n",
       "      <th>75%</th>\n",
       "      <th>max</th>\n",
       "    </tr>\n",
       "  </thead>\n",
       "  <tbody>\n",
       "    <tr>\n",
       "      <th>cod_distrito</th>\n",
       "      <td>41780.0</td>\n",
       "      <td>9.887697e+00</td>\n",
       "      <td>5.609092</td>\n",
       "      <td>1.000</td>\n",
       "      <td>5.000</td>\n",
       "      <td>10.000</td>\n",
       "      <td>14.000</td>\n",
       "      <td>21.000</td>\n",
       "    </tr>\n",
       "    <tr>\n",
       "      <th>cod_lesividad</th>\n",
       "      <td>22819.0</td>\n",
       "      <td>9.996626e+00</td>\n",
       "      <td>4.741567</td>\n",
       "      <td>1.000</td>\n",
       "      <td>7.000</td>\n",
       "      <td>14.000</td>\n",
       "      <td>14.000</td>\n",
       "      <td>14.000</td>\n",
       "    </tr>\n",
       "    <tr>\n",
       "      <th>coordenada_x_utm</th>\n",
       "      <td>41771.0</td>\n",
       "      <td>4.420878e+05</td>\n",
       "      <td>3435.287540</td>\n",
       "      <td>429078.285</td>\n",
       "      <td>439904.907</td>\n",
       "      <td>441777.606</td>\n",
       "      <td>443996.421</td>\n",
       "      <td>454178.455</td>\n",
       "    </tr>\n",
       "    <tr>\n",
       "      <th>coordenada_y_utm</th>\n",
       "      <td>41771.0</td>\n",
       "      <td>4.474755e+06</td>\n",
       "      <td>3933.424201</td>\n",
       "      <td>4463455.554</td>\n",
       "      <td>4471735.123</td>\n",
       "      <td>4474815.854</td>\n",
       "      <td>4477463.978</td>\n",
       "      <td>4495115.074</td>\n",
       "    </tr>\n",
       "    <tr>\n",
       "      <th>positiva_droga</th>\n",
       "      <td>89.0</td>\n",
       "      <td>1.000000e+00</td>\n",
       "      <td>0.000000</td>\n",
       "      <td>1.000</td>\n",
       "      <td>1.000</td>\n",
       "      <td>1.000</td>\n",
       "      <td>1.000</td>\n",
       "      <td>1.000</td>\n",
       "    </tr>\n",
       "  </tbody>\n",
       "</table>\n",
       "</div>"
      ],
      "text/plain": [
       "                    count          mean          std          min  \\\n",
       "cod_distrito      41780.0  9.887697e+00     5.609092        1.000   \n",
       "cod_lesividad     22819.0  9.996626e+00     4.741567        1.000   \n",
       "coordenada_x_utm  41771.0  4.420878e+05  3435.287540   429078.285   \n",
       "coordenada_y_utm  41771.0  4.474755e+06  3933.424201  4463455.554   \n",
       "positiva_droga       89.0  1.000000e+00     0.000000        1.000   \n",
       "\n",
       "                          25%          50%          75%          max  \n",
       "cod_distrito            5.000       10.000       14.000       21.000  \n",
       "cod_lesividad           7.000       14.000       14.000       14.000  \n",
       "coordenada_x_utm   439904.907   441777.606   443996.421   454178.455  \n",
       "coordenada_y_utm  4471735.123  4474815.854  4477463.978  4495115.074  \n",
       "positiva_droga          1.000        1.000        1.000        1.000  "
      ]
     },
     "execution_count": 7,
     "metadata": {},
     "output_type": "execute_result"
    }
   ],
   "source": [
    "df.describe().T"
   ]
  },
  {
   "cell_type": "code",
   "execution_count": 8,
   "id": "ae0ae8c4",
   "metadata": {},
   "outputs": [
    {
     "data": {
      "text/html": [
       "<div>\n",
       "<style scoped>\n",
       "    .dataframe tbody tr th:only-of-type {\n",
       "        vertical-align: middle;\n",
       "    }\n",
       "\n",
       "    .dataframe tbody tr th {\n",
       "        vertical-align: top;\n",
       "    }\n",
       "\n",
       "    .dataframe thead th {\n",
       "        text-align: right;\n",
       "    }\n",
       "</style>\n",
       "<table border=\"1\" class=\"dataframe\">\n",
       "  <thead>\n",
       "    <tr style=\"text-align: right;\">\n",
       "      <th></th>\n",
       "      <th>count</th>\n",
       "      <th>unique</th>\n",
       "      <th>top</th>\n",
       "      <th>freq</th>\n",
       "    </tr>\n",
       "  </thead>\n",
       "  <tbody>\n",
       "    <tr>\n",
       "      <th>num_expediente</th>\n",
       "      <td>41783</td>\n",
       "      <td>17952</td>\n",
       "      <td>2021S024511</td>\n",
       "      <td>18</td>\n",
       "    </tr>\n",
       "    <tr>\n",
       "      <th>hora</th>\n",
       "      <td>41783</td>\n",
       "      <td>1106</td>\n",
       "      <td>14:30:00</td>\n",
       "      <td>438</td>\n",
       "    </tr>\n",
       "    <tr>\n",
       "      <th>localizacion</th>\n",
       "      <td>41783</td>\n",
       "      <td>13500</td>\n",
       "      <td>AUTOV. M-30, +01100I</td>\n",
       "      <td>117</td>\n",
       "    </tr>\n",
       "    <tr>\n",
       "      <th>numero</th>\n",
       "      <td>41780</td>\n",
       "      <td>768</td>\n",
       "      <td>1</td>\n",
       "      <td>3949</td>\n",
       "    </tr>\n",
       "    <tr>\n",
       "      <th>distrito</th>\n",
       "      <td>41780</td>\n",
       "      <td>21</td>\n",
       "      <td>PUENTE DE VALLECAS</td>\n",
       "      <td>3326</td>\n",
       "    </tr>\n",
       "    <tr>\n",
       "      <th>tipo_accidente</th>\n",
       "      <td>41779</td>\n",
       "      <td>13</td>\n",
       "      <td>Colisión fronto-lateral</td>\n",
       "      <td>10144</td>\n",
       "    </tr>\n",
       "    <tr>\n",
       "      <th>estado_meteorológico</th>\n",
       "      <td>37355</td>\n",
       "      <td>7</td>\n",
       "      <td>Despejado</td>\n",
       "      <td>31896</td>\n",
       "    </tr>\n",
       "    <tr>\n",
       "      <th>tipo_vehiculo</th>\n",
       "      <td>41729</td>\n",
       "      <td>37</td>\n",
       "      <td>Turismo</td>\n",
       "      <td>28835</td>\n",
       "    </tr>\n",
       "    <tr>\n",
       "      <th>tipo_persona</th>\n",
       "      <td>41780</td>\n",
       "      <td>3</td>\n",
       "      <td>Conductor</td>\n",
       "      <td>33796</td>\n",
       "    </tr>\n",
       "    <tr>\n",
       "      <th>rango_edad</th>\n",
       "      <td>41783</td>\n",
       "      <td>18</td>\n",
       "      <td>Desconocido</td>\n",
       "      <td>4677</td>\n",
       "    </tr>\n",
       "    <tr>\n",
       "      <th>sexo</th>\n",
       "      <td>41783</td>\n",
       "      <td>3</td>\n",
       "      <td>Hombre</td>\n",
       "      <td>25161</td>\n",
       "    </tr>\n",
       "    <tr>\n",
       "      <th>lesividad</th>\n",
       "      <td>22819</td>\n",
       "      <td>8</td>\n",
       "      <td>Sin asistencia sanitaria</td>\n",
       "      <td>12632</td>\n",
       "    </tr>\n",
       "    <tr>\n",
       "      <th>positiva_alcohol</th>\n",
       "      <td>41616</td>\n",
       "      <td>2</td>\n",
       "      <td>N</td>\n",
       "      <td>40336</td>\n",
       "    </tr>\n",
       "  </tbody>\n",
       "</table>\n",
       "</div>"
      ],
      "text/plain": [
       "                      count unique                       top   freq\n",
       "num_expediente        41783  17952               2021S024511     18\n",
       "hora                  41783   1106                  14:30:00    438\n",
       "localizacion          41783  13500      AUTOV. M-30, +01100I    117\n",
       "numero                41780    768                         1   3949\n",
       "distrito              41780     21        PUENTE DE VALLECAS   3326\n",
       "tipo_accidente        41779     13   Colisión fronto-lateral  10144\n",
       "estado_meteorológico  37355      7                 Despejado  31896\n",
       "tipo_vehiculo         41729     37                   Turismo  28835\n",
       "tipo_persona          41780      3                 Conductor  33796\n",
       "rango_edad            41783     18               Desconocido   4677\n",
       "sexo                  41783      3                    Hombre  25161\n",
       "lesividad             22819      8  Sin asistencia sanitaria  12632\n",
       "positiva_alcohol      41616      2                         N  40336"
      ]
     },
     "execution_count": 8,
     "metadata": {},
     "output_type": "execute_result"
    }
   ],
   "source": [
    "df.describe(include = \"object\").T"
   ]
  },
  {
   "cell_type": "markdown",
   "id": "9c3bc57a",
   "metadata": {},
   "source": [
    "# Duplicados"
   ]
  },
  {
   "cell_type": "code",
   "execution_count": 9,
   "id": "e688fb8c",
   "metadata": {
    "scrolled": true
   },
   "outputs": [
    {
     "data": {
      "text/plain": [
       "1817"
      ]
     },
     "execution_count": 9,
     "metadata": {},
     "output_type": "execute_result"
    }
   ],
   "source": [
    "df.duplicated().sum()"
   ]
  },
  {
   "cell_type": "markdown",
   "id": "49be2754",
   "metadata": {},
   "source": [
    "Eliminamos duplicados"
   ]
  },
  {
   "cell_type": "code",
   "execution_count": 10,
   "id": "1ead8a9b",
   "metadata": {},
   "outputs": [],
   "source": [
    "df.drop_duplicates(inplace = True)"
   ]
  },
  {
   "cell_type": "markdown",
   "id": "15006f1d",
   "metadata": {},
   "source": [
    "# Nulos"
   ]
  },
  {
   "cell_type": "code",
   "execution_count": 11,
   "id": "ddb65f6b",
   "metadata": {
    "scrolled": false
   },
   "outputs": [
    {
     "data": {
      "text/plain": [
       "num_expediente              0\n",
       "fecha                       0\n",
       "hora                        0\n",
       "localizacion                0\n",
       "numero                      3\n",
       "cod_distrito                3\n",
       "distrito                    3\n",
       "tipo_accidente              4\n",
       "estado_meteorológico     4156\n",
       "tipo_vehiculo              54\n",
       "tipo_persona                3\n",
       "rango_edad                  0\n",
       "sexo                        0\n",
       "cod_lesividad           17489\n",
       "lesividad               17489\n",
       "coordenada_x_utm           12\n",
       "coordenada_y_utm           12\n",
       "positiva_alcohol          166\n",
       "positiva_droga          39877\n",
       "dtype: int64"
      ]
     },
     "execution_count": 11,
     "metadata": {},
     "output_type": "execute_result"
    }
   ],
   "source": [
    "df.isnull().sum()"
   ]
  },
  {
   "cell_type": "markdown",
   "id": "a8ccb7b5",
   "metadata": {},
   "source": [
    "Más adelante trabajaremos en las transformaciones de los valores nulos de las columans que los presentan"
   ]
  },
  {
   "cell_type": "code",
   "execution_count": 12,
   "id": "02d5a67c",
   "metadata": {
    "scrolled": true
   },
   "outputs": [
    {
     "data": {
      "text/plain": [
       "num_expediente           0.000000\n",
       "fecha                    0.000000\n",
       "hora                     0.000000\n",
       "localizacion             0.000000\n",
       "numero                   0.007506\n",
       "cod_distrito             0.007506\n",
       "distrito                 0.007506\n",
       "tipo_accidente           0.010009\n",
       "estado_meteorológico    10.398839\n",
       "tipo_vehiculo            0.135115\n",
       "tipo_persona             0.007506\n",
       "rango_edad               0.000000\n",
       "sexo                     0.000000\n",
       "cod_lesividad           43.759696\n",
       "lesividad               43.759696\n",
       "coordenada_x_utm         0.030026\n",
       "coordenada_y_utm         0.030026\n",
       "positiva_alcohol         0.415353\n",
       "positiva_droga          99.777311\n",
       "dtype: float64"
      ]
     },
     "execution_count": 12,
     "metadata": {},
     "output_type": "execute_result"
    }
   ],
   "source": [
    "(df.isnull().sum() / df.shape[0]) * 100"
   ]
  },
  {
   "cell_type": "code",
   "execution_count": null,
   "id": "52666b86",
   "metadata": {},
   "outputs": [],
   "source": []
  }
 ],
 "metadata": {
  "kernelspec": {
   "display_name": "Python 3 (ipykernel)",
   "language": "python",
   "name": "python3"
  },
  "language_info": {
   "codemirror_mode": {
    "name": "ipython",
    "version": 3
   },
   "file_extension": ".py",
   "mimetype": "text/x-python",
   "name": "python",
   "nbconvert_exporter": "python",
   "pygments_lexer": "ipython3",
   "version": "3.9.7"
  }
 },
 "nbformat": 4,
 "nbformat_minor": 5
}
