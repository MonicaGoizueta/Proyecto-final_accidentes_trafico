{
 "cells": [
  {
   "cell_type": "code",
   "execution_count": 1,
   "id": "ab4a8e73",
   "metadata": {},
   "outputs": [],
   "source": [
    "import pandas as pd\n",
    "import numpy as np\n",
    "import datetime\n",
    "import time\n",
    "import utm\n",
    "from pyproj import Proj\n",
    "\n",
    "pd.options.display.max_columns = None"
   ]
  },
  {
   "cell_type": "code",
   "execution_count": 2,
   "id": "8fe3e667",
   "metadata": {
    "scrolled": true
   },
   "outputs": [
    {
     "data": {
      "text/html": [
       "<div>\n",
       "<style scoped>\n",
       "    .dataframe tbody tr th:only-of-type {\n",
       "        vertical-align: middle;\n",
       "    }\n",
       "\n",
       "    .dataframe tbody tr th {\n",
       "        vertical-align: top;\n",
       "    }\n",
       "\n",
       "    .dataframe thead th {\n",
       "        text-align: right;\n",
       "    }\n",
       "</style>\n",
       "<table border=\"1\" class=\"dataframe\">\n",
       "  <thead>\n",
       "    <tr style=\"text-align: right;\">\n",
       "      <th></th>\n",
       "      <th>num_expediente</th>\n",
       "      <th>fecha</th>\n",
       "      <th>hora</th>\n",
       "      <th>localizacion</th>\n",
       "      <th>numero</th>\n",
       "      <th>cod_distrito</th>\n",
       "      <th>distrito</th>\n",
       "      <th>tipo_accidente</th>\n",
       "      <th>estado_meteorológico</th>\n",
       "      <th>tipo_vehiculo</th>\n",
       "      <th>tipo_persona</th>\n",
       "      <th>rango_edad</th>\n",
       "      <th>sexo</th>\n",
       "      <th>cod_lesividad</th>\n",
       "      <th>lesividad</th>\n",
       "      <th>coordenada_x_utm</th>\n",
       "      <th>coordenada_y_utm</th>\n",
       "      <th>positiva_alcohol</th>\n",
       "      <th>positiva_droga</th>\n",
       "    </tr>\n",
       "  </thead>\n",
       "  <tbody>\n",
       "    <tr>\n",
       "      <th>0</th>\n",
       "      <td>2020S019534</td>\n",
       "      <td>2021-01-01</td>\n",
       "      <td>04:30:00</td>\n",
       "      <td>AVDA. PABLO NERUDA / CALL. LEONESES</td>\n",
       "      <td>57</td>\n",
       "      <td>13.0</td>\n",
       "      <td>PUENTE DE VALLECAS</td>\n",
       "      <td>Colisión fronto-lateral</td>\n",
       "      <td>Despejado</td>\n",
       "      <td>Turismo</td>\n",
       "      <td>Conductor</td>\n",
       "      <td>De 30 a 34 años</td>\n",
       "      <td>Mujer</td>\n",
       "      <td>14.0</td>\n",
       "      <td>Sin asistencia sanitaria</td>\n",
       "      <td>444976.463</td>\n",
       "      <td>4470508.259</td>\n",
       "      <td>N</td>\n",
       "      <td>NaN</td>\n",
       "    </tr>\n",
       "    <tr>\n",
       "      <th>1</th>\n",
       "      <td>2020S019534</td>\n",
       "      <td>2021-01-01</td>\n",
       "      <td>04:30:00</td>\n",
       "      <td>AVDA. PABLO NERUDA / CALL. LEONESES</td>\n",
       "      <td>57</td>\n",
       "      <td>13.0</td>\n",
       "      <td>PUENTE DE VALLECAS</td>\n",
       "      <td>Colisión fronto-lateral</td>\n",
       "      <td>Despejado</td>\n",
       "      <td>Turismo</td>\n",
       "      <td>Conductor</td>\n",
       "      <td>De 35 a 39 años</td>\n",
       "      <td>Hombre</td>\n",
       "      <td>7.0</td>\n",
       "      <td>Asistencia sanitaria sólo en el lugar del acci...</td>\n",
       "      <td>444976.463</td>\n",
       "      <td>4470508.259</td>\n",
       "      <td>N</td>\n",
       "      <td>NaN</td>\n",
       "    </tr>\n",
       "  </tbody>\n",
       "</table>\n",
       "</div>"
      ],
      "text/plain": [
       "  num_expediente      fecha      hora                         localizacion  \\\n",
       "0    2020S019534 2021-01-01  04:30:00  AVDA. PABLO NERUDA / CALL. LEONESES   \n",
       "1    2020S019534 2021-01-01  04:30:00  AVDA. PABLO NERUDA / CALL. LEONESES   \n",
       "\n",
       "  numero  cod_distrito            distrito           tipo_accidente  \\\n",
       "0     57          13.0  PUENTE DE VALLECAS  Colisión fronto-lateral   \n",
       "1     57          13.0  PUENTE DE VALLECAS  Colisión fronto-lateral   \n",
       "\n",
       "  estado_meteorológico tipo_vehiculo tipo_persona       rango_edad    sexo  \\\n",
       "0            Despejado       Turismo    Conductor  De 30 a 34 años   Mujer   \n",
       "1            Despejado       Turismo    Conductor  De 35 a 39 años  Hombre   \n",
       "\n",
       "   cod_lesividad                                          lesividad  \\\n",
       "0           14.0                           Sin asistencia sanitaria   \n",
       "1            7.0  Asistencia sanitaria sólo en el lugar del acci...   \n",
       "\n",
       "   coordenada_x_utm  coordenada_y_utm positiva_alcohol  positiva_droga  \n",
       "0        444976.463       4470508.259                N             NaN  \n",
       "1        444976.463       4470508.259                N             NaN  "
      ]
     },
     "execution_count": 2,
     "metadata": {},
     "output_type": "execute_result"
    }
   ],
   "source": [
    "df = pd.read_excel(\"../Data/2021_Accidentalidad.xlsx\")\n",
    "df.head(2)"
   ]
  },
  {
   "cell_type": "markdown",
   "id": "bc423f96",
   "metadata": {},
   "source": [
    "# Duplicados"
   ]
  },
  {
   "cell_type": "markdown",
   "id": "e3c7e13a",
   "metadata": {},
   "source": [
    "Eliminamos duplicados"
   ]
  },
  {
   "cell_type": "code",
   "execution_count": 3,
   "id": "3e3e59c1",
   "metadata": {},
   "outputs": [],
   "source": [
    "df.drop_duplicates(inplace = True)"
   ]
  },
  {
   "cell_type": "markdown",
   "id": "1f5329aa",
   "metadata": {},
   "source": [
    "# Tipado de columnas"
   ]
  },
  {
   "cell_type": "code",
   "execution_count": 4,
   "id": "22adad36",
   "metadata": {
    "scrolled": false
   },
   "outputs": [
    {
     "data": {
      "text/plain": [
       "num_expediente                  object\n",
       "fecha                   datetime64[ns]\n",
       "hora                            object\n",
       "localizacion                    object\n",
       "numero                          object\n",
       "cod_distrito                   float64\n",
       "distrito                        object\n",
       "tipo_accidente                  object\n",
       "estado_meteorológico            object\n",
       "tipo_vehiculo                   object\n",
       "tipo_persona                    object\n",
       "rango_edad                      object\n",
       "sexo                            object\n",
       "cod_lesividad                  float64\n",
       "lesividad                       object\n",
       "coordenada_x_utm               float64\n",
       "coordenada_y_utm               float64\n",
       "positiva_alcohol                object\n",
       "positiva_droga                 float64\n",
       "dtype: object"
      ]
     },
     "execution_count": 4,
     "metadata": {},
     "output_type": "execute_result"
    }
   ],
   "source": [
    "df.dtypes"
   ]
  },
  {
   "cell_type": "markdown",
   "id": "cfe32d0b",
   "metadata": {},
   "source": [
    "Cambiamos el tipado de columnas que queremos"
   ]
  },
  {
   "cell_type": "code",
   "execution_count": 5,
   "id": "81a300fa",
   "metadata": {},
   "outputs": [],
   "source": [
    "df['cod_distrito'] = pd.to_numeric(df[\"cod_distrito\"], errors='coerce').astype('Int64')\n",
    "df['cod_lesividad'] = pd.to_numeric(df[\"cod_lesividad\"], errors='coerce').astype('Int64')\n",
    "df[\"positiva_droga\"] = df[\"positiva_droga\"].astype(\"category\")"
   ]
  },
  {
   "cell_type": "code",
   "execution_count": 6,
   "id": "49b80fb2",
   "metadata": {
    "scrolled": true
   },
   "outputs": [
    {
     "data": {
      "text/plain": [
       "(39966, 19)"
      ]
     },
     "execution_count": 6,
     "metadata": {},
     "output_type": "execute_result"
    }
   ],
   "source": [
    "df.shape"
   ]
  },
  {
   "cell_type": "markdown",
   "id": "95e8033a",
   "metadata": {},
   "source": [
    "# Añadimos columnas"
   ]
  },
  {
   "cell_type": "markdown",
   "id": "861b950e",
   "metadata": {},
   "source": [
    "Añadimos columna de interés como el día de la semana"
   ]
  },
  {
   "cell_type": "code",
   "execution_count": 7,
   "id": "f67ef628",
   "metadata": {},
   "outputs": [],
   "source": [
    "df['dia_semana'] = df['fecha'].dt.day_name()"
   ]
  },
  {
   "cell_type": "code",
   "execution_count": 8,
   "id": "ad85245b",
   "metadata": {
    "scrolled": true
   },
   "outputs": [
    {
     "data": {
      "text/html": [
       "<div>\n",
       "<style scoped>\n",
       "    .dataframe tbody tr th:only-of-type {\n",
       "        vertical-align: middle;\n",
       "    }\n",
       "\n",
       "    .dataframe tbody tr th {\n",
       "        vertical-align: top;\n",
       "    }\n",
       "\n",
       "    .dataframe thead th {\n",
       "        text-align: right;\n",
       "    }\n",
       "</style>\n",
       "<table border=\"1\" class=\"dataframe\">\n",
       "  <thead>\n",
       "    <tr style=\"text-align: right;\">\n",
       "      <th></th>\n",
       "      <th>num_expediente</th>\n",
       "      <th>fecha</th>\n",
       "      <th>hora</th>\n",
       "      <th>localizacion</th>\n",
       "      <th>numero</th>\n",
       "      <th>cod_distrito</th>\n",
       "      <th>distrito</th>\n",
       "      <th>tipo_accidente</th>\n",
       "      <th>estado_meteorológico</th>\n",
       "      <th>tipo_vehiculo</th>\n",
       "      <th>tipo_persona</th>\n",
       "      <th>rango_edad</th>\n",
       "      <th>sexo</th>\n",
       "      <th>cod_lesividad</th>\n",
       "      <th>lesividad</th>\n",
       "      <th>coordenada_x_utm</th>\n",
       "      <th>coordenada_y_utm</th>\n",
       "      <th>positiva_alcohol</th>\n",
       "      <th>positiva_droga</th>\n",
       "      <th>dia_semana</th>\n",
       "    </tr>\n",
       "  </thead>\n",
       "  <tbody>\n",
       "    <tr>\n",
       "      <th>0</th>\n",
       "      <td>2020S019534</td>\n",
       "      <td>2021-01-01</td>\n",
       "      <td>04:30:00</td>\n",
       "      <td>AVDA. PABLO NERUDA / CALL. LEONESES</td>\n",
       "      <td>57</td>\n",
       "      <td>13</td>\n",
       "      <td>PUENTE DE VALLECAS</td>\n",
       "      <td>Colisión fronto-lateral</td>\n",
       "      <td>Despejado</td>\n",
       "      <td>Turismo</td>\n",
       "      <td>Conductor</td>\n",
       "      <td>De 30 a 34 años</td>\n",
       "      <td>Mujer</td>\n",
       "      <td>14</td>\n",
       "      <td>Sin asistencia sanitaria</td>\n",
       "      <td>444976.463</td>\n",
       "      <td>4470508.259</td>\n",
       "      <td>N</td>\n",
       "      <td>NaN</td>\n",
       "      <td>Friday</td>\n",
       "    </tr>\n",
       "  </tbody>\n",
       "</table>\n",
       "</div>"
      ],
      "text/plain": [
       "  num_expediente      fecha      hora                         localizacion  \\\n",
       "0    2020S019534 2021-01-01  04:30:00  AVDA. PABLO NERUDA / CALL. LEONESES   \n",
       "\n",
       "  numero  cod_distrito            distrito           tipo_accidente  \\\n",
       "0     57            13  PUENTE DE VALLECAS  Colisión fronto-lateral   \n",
       "\n",
       "  estado_meteorológico tipo_vehiculo tipo_persona       rango_edad   sexo  \\\n",
       "0            Despejado       Turismo    Conductor  De 30 a 34 años  Mujer   \n",
       "\n",
       "   cod_lesividad                 lesividad  coordenada_x_utm  \\\n",
       "0             14  Sin asistencia sanitaria        444976.463   \n",
       "\n",
       "   coordenada_y_utm positiva_alcohol positiva_droga dia_semana  \n",
       "0       4470508.259                N            NaN     Friday  "
      ]
     },
     "execution_count": 8,
     "metadata": {},
     "output_type": "execute_result"
    }
   ],
   "source": [
    "df.head(1)"
   ]
  },
  {
   "cell_type": "markdown",
   "id": "33de5e34",
   "metadata": {},
   "source": [
    "# Eliminamos columnas"
   ]
  },
  {
   "cell_type": "markdown",
   "id": "8cbe3213",
   "metadata": {},
   "source": [
    "Eliminamos la columna de \"positiva_droga\" por tener la mayoría de campos en nulo y no aportar gran valor"
   ]
  },
  {
   "cell_type": "code",
   "execution_count": 9,
   "id": "8683732e",
   "metadata": {},
   "outputs": [],
   "source": [
    "df_limpio = df.drop([\"positiva_droga\"], axis = 1)"
   ]
  },
  {
   "cell_type": "code",
   "execution_count": 10,
   "id": "9c028402",
   "metadata": {},
   "outputs": [
    {
     "data": {
      "text/html": [
       "<div>\n",
       "<style scoped>\n",
       "    .dataframe tbody tr th:only-of-type {\n",
       "        vertical-align: middle;\n",
       "    }\n",
       "\n",
       "    .dataframe tbody tr th {\n",
       "        vertical-align: top;\n",
       "    }\n",
       "\n",
       "    .dataframe thead th {\n",
       "        text-align: right;\n",
       "    }\n",
       "</style>\n",
       "<table border=\"1\" class=\"dataframe\">\n",
       "  <thead>\n",
       "    <tr style=\"text-align: right;\">\n",
       "      <th></th>\n",
       "      <th>num_expediente</th>\n",
       "      <th>fecha</th>\n",
       "      <th>hora</th>\n",
       "      <th>localizacion</th>\n",
       "      <th>numero</th>\n",
       "      <th>cod_distrito</th>\n",
       "      <th>distrito</th>\n",
       "      <th>tipo_accidente</th>\n",
       "      <th>estado_meteorológico</th>\n",
       "      <th>tipo_vehiculo</th>\n",
       "      <th>tipo_persona</th>\n",
       "      <th>rango_edad</th>\n",
       "      <th>sexo</th>\n",
       "      <th>cod_lesividad</th>\n",
       "      <th>lesividad</th>\n",
       "      <th>coordenada_x_utm</th>\n",
       "      <th>coordenada_y_utm</th>\n",
       "      <th>positiva_alcohol</th>\n",
       "      <th>dia_semana</th>\n",
       "    </tr>\n",
       "  </thead>\n",
       "  <tbody>\n",
       "    <tr>\n",
       "      <th>0</th>\n",
       "      <td>2020S019534</td>\n",
       "      <td>2021-01-01</td>\n",
       "      <td>04:30:00</td>\n",
       "      <td>AVDA. PABLO NERUDA / CALL. LEONESES</td>\n",
       "      <td>57</td>\n",
       "      <td>13</td>\n",
       "      <td>PUENTE DE VALLECAS</td>\n",
       "      <td>Colisión fronto-lateral</td>\n",
       "      <td>Despejado</td>\n",
       "      <td>Turismo</td>\n",
       "      <td>Conductor</td>\n",
       "      <td>De 30 a 34 años</td>\n",
       "      <td>Mujer</td>\n",
       "      <td>14</td>\n",
       "      <td>Sin asistencia sanitaria</td>\n",
       "      <td>444976.463</td>\n",
       "      <td>4470508.259</td>\n",
       "      <td>N</td>\n",
       "      <td>Friday</td>\n",
       "    </tr>\n",
       "  </tbody>\n",
       "</table>\n",
       "</div>"
      ],
      "text/plain": [
       "  num_expediente      fecha      hora                         localizacion  \\\n",
       "0    2020S019534 2021-01-01  04:30:00  AVDA. PABLO NERUDA / CALL. LEONESES   \n",
       "\n",
       "  numero  cod_distrito            distrito           tipo_accidente  \\\n",
       "0     57            13  PUENTE DE VALLECAS  Colisión fronto-lateral   \n",
       "\n",
       "  estado_meteorológico tipo_vehiculo tipo_persona       rango_edad   sexo  \\\n",
       "0            Despejado       Turismo    Conductor  De 30 a 34 años  Mujer   \n",
       "\n",
       "   cod_lesividad                 lesividad  coordenada_x_utm  \\\n",
       "0             14  Sin asistencia sanitaria        444976.463   \n",
       "\n",
       "   coordenada_y_utm positiva_alcohol dia_semana  \n",
       "0       4470508.259                N     Friday  "
      ]
     },
     "execution_count": 10,
     "metadata": {},
     "output_type": "execute_result"
    }
   ],
   "source": [
    "df_limpio.head(1)"
   ]
  },
  {
   "cell_type": "markdown",
   "id": "5015efe6",
   "metadata": {},
   "source": [
    "# Gestión de Nulos"
   ]
  },
  {
   "cell_type": "markdown",
   "id": "8f96cf96",
   "metadata": {},
   "source": [
    "Eliminamos o sustituimos Nulos"
   ]
  },
  {
   "cell_type": "code",
   "execution_count": 11,
   "id": "2040ce32",
   "metadata": {
    "scrolled": false
   },
   "outputs": [
    {
     "data": {
      "text/plain": [
       "num_expediente              0\n",
       "fecha                       0\n",
       "hora                        0\n",
       "localizacion                0\n",
       "numero                      3\n",
       "cod_distrito                3\n",
       "distrito                    3\n",
       "tipo_accidente              4\n",
       "estado_meteorológico     4156\n",
       "tipo_vehiculo              54\n",
       "tipo_persona                3\n",
       "rango_edad                  0\n",
       "sexo                        0\n",
       "cod_lesividad           17489\n",
       "lesividad               17489\n",
       "coordenada_x_utm           12\n",
       "coordenada_y_utm           12\n",
       "positiva_alcohol          166\n",
       "dia_semana                  0\n",
       "dtype: int64"
      ]
     },
     "execution_count": 11,
     "metadata": {},
     "output_type": "execute_result"
    }
   ],
   "source": [
    "df_limpio.isnull().sum()"
   ]
  },
  {
   "cell_type": "markdown",
   "id": "0e74f3ce",
   "metadata": {},
   "source": [
    "1️⃣ Columna \"positiva_alcohol\""
   ]
  },
  {
   "cell_type": "code",
   "execution_count": 12,
   "id": "fa94e551",
   "metadata": {},
   "outputs": [
    {
     "data": {
      "text/plain": [
       "array(['N', 'S', nan], dtype=object)"
      ]
     },
     "execution_count": 12,
     "metadata": {},
     "output_type": "execute_result"
    }
   ],
   "source": [
    "df_limpio[\"positiva_alcohol\"].unique()"
   ]
  },
  {
   "cell_type": "code",
   "execution_count": 13,
   "id": "ec26b461",
   "metadata": {
    "scrolled": false
   },
   "outputs": [
    {
     "data": {
      "text/plain": [
       "N    38523\n",
       "S     1277\n",
       "Name: positiva_alcohol, dtype: int64"
      ]
     },
     "execution_count": 13,
     "metadata": {},
     "output_type": "execute_result"
    }
   ],
   "source": [
    "df_limpio[\"positiva_alcohol\"].value_counts()"
   ]
  },
  {
   "cell_type": "markdown",
   "id": "b6adc3d8",
   "metadata": {},
   "source": [
    "Sustituimos los nulos de la columna \"positiva_alcohol\" por \"Sin especificar\""
   ]
  },
  {
   "cell_type": "code",
   "execution_count": 14,
   "id": "9dd7c52c",
   "metadata": {},
   "outputs": [],
   "source": [
    "df_limpio['positiva_alcohol'] = df['positiva_alcohol'].fillna(\"Sin especificar\")"
   ]
  },
  {
   "cell_type": "markdown",
   "id": "87366b1d",
   "metadata": {},
   "source": [
    "2️⃣ Columna \"tipo_accidente\""
   ]
  },
  {
   "cell_type": "code",
   "execution_count": 15,
   "id": "c0163a0d",
   "metadata": {},
   "outputs": [
    {
     "data": {
      "text/plain": [
       "array(['Colisión fronto-lateral', 'Colisión frontal',\n",
       "       'Atropello a persona', 'Otro', 'Choque contra obstáculo fijo',\n",
       "       'Alcance', 'Colisión lateral', 'Caída', 'Colisión múltiple',\n",
       "       'Solo salida de la vía', 'Atropello a animal', 'Vuelco',\n",
       "       'Despeñamiento', nan], dtype=object)"
      ]
     },
     "execution_count": 15,
     "metadata": {},
     "output_type": "execute_result"
    }
   ],
   "source": [
    "df_limpio[\"tipo_accidente\"].unique()"
   ]
  },
  {
   "cell_type": "markdown",
   "id": "57c27c90",
   "metadata": {},
   "source": [
    "Sustituimos los nulos de la columna \"tipo_accidente\" por \"Otro\""
   ]
  },
  {
   "cell_type": "code",
   "execution_count": 16,
   "id": "0d1bd8a7",
   "metadata": {
    "scrolled": true
   },
   "outputs": [],
   "source": [
    "df_limpio['tipo_accidente'] = df['tipo_accidente'].fillna(\"Otro\")"
   ]
  },
  {
   "cell_type": "markdown",
   "id": "e7cf76c5",
   "metadata": {},
   "source": [
    "3️⃣ Columna \"Tipo_vehiculo\""
   ]
  },
  {
   "cell_type": "code",
   "execution_count": 17,
   "id": "767533a1",
   "metadata": {
    "scrolled": true
   },
   "outputs": [
    {
     "data": {
      "text/plain": [
       "array(['Turismo', 'Autobús', 'Motocicleta hasta 125cc', 'Todo terreno',\n",
       "       'Bicicleta', 'Motocicleta > 125cc', 'Furgoneta', 'Camión rígido',\n",
       "       'Sin especificar', 'Ciclomotor', 'Maquinaria de obras',\n",
       "       'Tractocamión', 'Otros vehículos con motor', 'VMU eléctrico',\n",
       "       'Cuadriciclo no ligero', 'Vehículo articulado', 'Autocaravana',\n",
       "       'Bicicleta EPAC (pedaleo asistido)', 'Autobús articulado',\n",
       "       'Autobus EMT', 'Ambulancia SAMUR', 'Cuadriciclo ligero',\n",
       "       'Patinete', 'Ciclomotor de tres ruedas', 'Semiremolque',\n",
       "       'Moto de tres ruedas > 125cc', 'Ciclo', 'Maquinaria agrícola',\n",
       "       'Remolque', 'Moto de tres ruedas hasta 125cc',\n",
       "       'Ciclomotor de dos ruedas L1e-B', 'Tren/metro',\n",
       "       'Otros vehículos sin motor', 'Camión de bomberos',\n",
       "       'Ciclo de motor L1e-A', 'Tranvía', 'Autobús articulado EMT', nan],\n",
       "      dtype=object)"
      ]
     },
     "execution_count": 17,
     "metadata": {},
     "output_type": "execute_result"
    }
   ],
   "source": [
    "df_limpio[\"tipo_vehiculo\"].unique()"
   ]
  },
  {
   "cell_type": "code",
   "execution_count": 18,
   "id": "7a5f6565",
   "metadata": {
    "scrolled": true
   },
   "outputs": [
    {
     "data": {
      "text/plain": [
       "Turismo                              67.872692\n",
       "Motocicleta hasta 125cc               7.478857\n",
       "Furgoneta                             6.768253\n",
       "Motocicleta > 125cc                   4.176050\n",
       "Camión rígido                         2.422059\n",
       "Autobús                               2.354501\n",
       "Bicicleta                             1.728970\n",
       "Ciclomotor                            1.571336\n",
       "Todo terreno                          1.546314\n",
       "VMU eléctrico                         1.441225\n",
       "Tractocamión                          0.452885\n",
       "Bicicleta EPAC (pedaleo asistido)     0.385328\n",
       "Otros vehículos con motor             0.275234\n",
       "Maquinaria de obras                   0.260221\n",
       "Vehículo articulado                   0.195166\n",
       "Autobús articulado                    0.180153\n",
       "Autobus EMT                           0.170145\n",
       "Sin especificar                       0.137617\n",
       "Cuadriciclo ligero                    0.090077\n",
       "Patinete                              0.087574\n",
       "Ciclo                                 0.070060\n",
       "Autocaravana                          0.047540\n",
       "Moto de tres ruedas > 125cc           0.035030\n",
       "Cuadriciclo no ligero                 0.025021\n",
       "Ciclomotor de dos ruedas L1e-B        0.017515\n",
       "Ambulancia SAMUR                      0.015013\n",
       "Otros vehículos sin motor             0.012511\n",
       "Maquinaria agrícola                   0.007506\n",
       "Moto de tres ruedas hasta 125cc       0.007506\n",
       "Camión de bomberos                    0.007506\n",
       "Ciclo de motor L1e-A                  0.007506\n",
       "Semiremolque                          0.005004\n",
       "Ciclomotor de tres ruedas             0.002502\n",
       "Remolque                              0.002502\n",
       "Tren/metro                            0.002502\n",
       "Tranvía                               0.002502\n",
       "Autobús articulado EMT                0.002502\n",
       "Name: tipo_vehiculo, dtype: float64"
      ]
     },
     "execution_count": 18,
     "metadata": {},
     "output_type": "execute_result"
    }
   ],
   "source": [
    "df_limpio[\"tipo_vehiculo\"].value_counts() / df_limpio.shape[0] * 100"
   ]
  },
  {
   "cell_type": "markdown",
   "id": "3478ca23",
   "metadata": {},
   "source": [
    "Todos los tipos de vehículo con una representación muy baja los agrupamos en \"Otros\""
   ]
  },
  {
   "cell_type": "code",
   "execution_count": 19,
   "id": "8eba024b",
   "metadata": {},
   "outputs": [],
   "source": [
    "df_limpio ['tipo_vehiculo'] = df_limpio ['tipo_vehiculo']. replace ([\n",
    "       'Sin especificar', 'Maquinaria de obras',\n",
    "       'Tractocamión', 'Otros vehículos con motor',\n",
    "       'Cuadriciclo no ligero', 'Vehículo articulado', 'Autocaravana',\n",
    "       'Bicicleta EPAC (pedaleo asistido)', 'Autobús articulado',\n",
    "       'Autobus EMT', 'Ambulancia SAMUR', 'Cuadriciclo ligero',\n",
    "       'Patinete', 'Ciclomotor de tres ruedas', 'Semiremolque',\n",
    "       'Moto de tres ruedas > 125cc', 'Ciclo', 'Maquinaria agrícola',\n",
    "       'Remolque', 'Moto de tres ruedas hasta 125cc',\n",
    "       'Ciclomotor de dos ruedas L1e-B', 'Tren/metro',\n",
    "       'Otros vehículos sin motor', 'Camión de bomberos',\n",
    "       'Ciclo de motor L1e-A', 'Tranvía', 'Autobús articulado EMT', np.nan], [\"Otros\",\"Otros\",\"Otros\",\"Otros\",\"Otros\",\"Otros\",\"Otros\",\"Otros\",\"Otros\",\"Otros\",\"Otros\",\"Otros\",\"Otros\",\"Otros\",\"Otros\",\"Otros\",\"Otros\",\"Otros\",\"Otros\",\"Otros\",\"Otros\",\"Otros\",\"Otros\",\"Otros\",\"Otros\",\"Otros\",\"Otros\", \"Otros\"])"
   ]
  },
  {
   "cell_type": "markdown",
   "id": "eceb6367",
   "metadata": {},
   "source": [
    "4️⃣ Distrito"
   ]
  },
  {
   "cell_type": "code",
   "execution_count": 20,
   "id": "045617dc",
   "metadata": {},
   "outputs": [
    {
     "data": {
      "text/plain": [
       "array(['PUENTE DE VALLECAS', 'USERA', 'MORATALAZ', 'SALAMANCA',\n",
       "       'SAN BLAS-CANILLEJAS', 'TETUÁN', 'CARABANCHEL', 'LATINA',\n",
       "       'BARAJAS', 'HORTALEZA', 'VILLAVERDE', 'CIUDAD LINEAL',\n",
       "       'FUENCARRAL-EL PARDO', 'CHAMBERÍ', 'CENTRO', 'MONCLOA-ARAVACA',\n",
       "       'CHAMARTÍN', 'VILLA DE VALLECAS', 'RETIRO', 'ARGANZUELA',\n",
       "       'VICÁLVARO', nan], dtype=object)"
      ]
     },
     "execution_count": 20,
     "metadata": {},
     "output_type": "execute_result"
    }
   ],
   "source": [
    "df_limpio[\"distrito\"].unique()"
   ]
  },
  {
   "cell_type": "code",
   "execution_count": 21,
   "id": "ceaad5c1",
   "metadata": {
    "scrolled": true
   },
   "outputs": [
    {
     "data": {
      "text/plain": [
       "3"
      ]
     },
     "execution_count": 21,
     "metadata": {},
     "output_type": "execute_result"
    }
   ],
   "source": [
    "df_limpio[\"distrito\"].isnull().sum()"
   ]
  },
  {
   "cell_type": "code",
   "execution_count": 22,
   "id": "dcdc7f89",
   "metadata": {
    "scrolled": true
   },
   "outputs": [
    {
     "data": {
      "text/html": [
       "<div>\n",
       "<style scoped>\n",
       "    .dataframe tbody tr th:only-of-type {\n",
       "        vertical-align: middle;\n",
       "    }\n",
       "\n",
       "    .dataframe tbody tr th {\n",
       "        vertical-align: top;\n",
       "    }\n",
       "\n",
       "    .dataframe thead th {\n",
       "        text-align: right;\n",
       "    }\n",
       "</style>\n",
       "<table border=\"1\" class=\"dataframe\">\n",
       "  <thead>\n",
       "    <tr style=\"text-align: right;\">\n",
       "      <th></th>\n",
       "      <th>num_expediente</th>\n",
       "      <th>fecha</th>\n",
       "      <th>hora</th>\n",
       "      <th>localizacion</th>\n",
       "      <th>numero</th>\n",
       "      <th>cod_distrito</th>\n",
       "      <th>distrito</th>\n",
       "      <th>tipo_accidente</th>\n",
       "      <th>estado_meteorológico</th>\n",
       "      <th>tipo_vehiculo</th>\n",
       "      <th>tipo_persona</th>\n",
       "      <th>rango_edad</th>\n",
       "      <th>sexo</th>\n",
       "      <th>cod_lesividad</th>\n",
       "      <th>lesividad</th>\n",
       "      <th>coordenada_x_utm</th>\n",
       "      <th>coordenada_y_utm</th>\n",
       "      <th>positiva_alcohol</th>\n",
       "      <th>dia_semana</th>\n",
       "    </tr>\n",
       "  </thead>\n",
       "  <tbody>\n",
       "    <tr>\n",
       "      <th>25744</th>\n",
       "      <td>2021S015933</td>\n",
       "      <td>2021-09-11</td>\n",
       "      <td>19:40:00</td>\n",
       "      <td>AUTOV. M-500 / AUTOV. M-30</td>\n",
       "      <td>NaN</td>\n",
       "      <td>&lt;NA&gt;</td>\n",
       "      <td>NaN</td>\n",
       "      <td>Colisión fronto-lateral</td>\n",
       "      <td>Despejado</td>\n",
       "      <td>Turismo</td>\n",
       "      <td>Conductor</td>\n",
       "      <td>De 25 a 29 años</td>\n",
       "      <td>Hombre</td>\n",
       "      <td>&lt;NA&gt;</td>\n",
       "      <td>NaN</td>\n",
       "      <td>437390.155</td>\n",
       "      <td>4476258.031</td>\n",
       "      <td>N</td>\n",
       "      <td>Saturday</td>\n",
       "    </tr>\n",
       "    <tr>\n",
       "      <th>25745</th>\n",
       "      <td>2021S015933</td>\n",
       "      <td>2021-09-11</td>\n",
       "      <td>19:40:00</td>\n",
       "      <td>AUTOV. M-500 / AUTOV. M-30</td>\n",
       "      <td>NaN</td>\n",
       "      <td>&lt;NA&gt;</td>\n",
       "      <td>NaN</td>\n",
       "      <td>Colisión fronto-lateral</td>\n",
       "      <td>Despejado</td>\n",
       "      <td>Turismo</td>\n",
       "      <td>Conductor</td>\n",
       "      <td>De 55 a 59 años</td>\n",
       "      <td>Hombre</td>\n",
       "      <td>&lt;NA&gt;</td>\n",
       "      <td>NaN</td>\n",
       "      <td>437390.155</td>\n",
       "      <td>4476258.031</td>\n",
       "      <td>N</td>\n",
       "      <td>Saturday</td>\n",
       "    </tr>\n",
       "    <tr>\n",
       "      <th>25746</th>\n",
       "      <td>2021S015933</td>\n",
       "      <td>2021-09-11</td>\n",
       "      <td>19:40:00</td>\n",
       "      <td>AUTOV. M-500 / AUTOV. M-30</td>\n",
       "      <td>NaN</td>\n",
       "      <td>&lt;NA&gt;</td>\n",
       "      <td>NaN</td>\n",
       "      <td>Colisión fronto-lateral</td>\n",
       "      <td>Despejado</td>\n",
       "      <td>Turismo</td>\n",
       "      <td>Pasajero</td>\n",
       "      <td>De 55 a 59 años</td>\n",
       "      <td>Mujer</td>\n",
       "      <td>14</td>\n",
       "      <td>Sin asistencia sanitaria</td>\n",
       "      <td>437390.155</td>\n",
       "      <td>4476258.031</td>\n",
       "      <td>N</td>\n",
       "      <td>Saturday</td>\n",
       "    </tr>\n",
       "  </tbody>\n",
       "</table>\n",
       "</div>"
      ],
      "text/plain": [
       "      num_expediente      fecha      hora                localizacion numero  \\\n",
       "25744    2021S015933 2021-09-11  19:40:00  AUTOV. M-500 / AUTOV. M-30    NaN   \n",
       "25745    2021S015933 2021-09-11  19:40:00  AUTOV. M-500 / AUTOV. M-30    NaN   \n",
       "25746    2021S015933 2021-09-11  19:40:00  AUTOV. M-500 / AUTOV. M-30    NaN   \n",
       "\n",
       "       cod_distrito distrito           tipo_accidente estado_meteorológico  \\\n",
       "25744          <NA>      NaN  Colisión fronto-lateral            Despejado   \n",
       "25745          <NA>      NaN  Colisión fronto-lateral            Despejado   \n",
       "25746          <NA>      NaN  Colisión fronto-lateral            Despejado   \n",
       "\n",
       "      tipo_vehiculo tipo_persona       rango_edad    sexo  cod_lesividad  \\\n",
       "25744       Turismo    Conductor  De 25 a 29 años  Hombre           <NA>   \n",
       "25745       Turismo    Conductor  De 55 a 59 años  Hombre           <NA>   \n",
       "25746       Turismo     Pasajero  De 55 a 59 años   Mujer             14   \n",
       "\n",
       "                      lesividad  coordenada_x_utm  coordenada_y_utm  \\\n",
       "25744                       NaN        437390.155       4476258.031   \n",
       "25745                       NaN        437390.155       4476258.031   \n",
       "25746  Sin asistencia sanitaria        437390.155       4476258.031   \n",
       "\n",
       "      positiva_alcohol dia_semana  \n",
       "25744                N   Saturday  \n",
       "25745                N   Saturday  \n",
       "25746                N   Saturday  "
      ]
     },
     "execution_count": 22,
     "metadata": {},
     "output_type": "execute_result"
    }
   ],
   "source": [
    "df_limpio[df_limpio[\"distrito\"].isnull()]"
   ]
  },
  {
   "cell_type": "markdown",
   "id": "496fd7f8",
   "metadata": {},
   "source": [
    "Sustituimos los nulos de distrito"
   ]
  },
  {
   "cell_type": "code",
   "execution_count": 23,
   "id": "7139d0f1",
   "metadata": {},
   "outputs": [],
   "source": [
    "df_limpio[\"distrito\"].replace(np.nan, \"Arganzuela\", inplace = True)"
   ]
  },
  {
   "cell_type": "code",
   "execution_count": 24,
   "id": "1bab194e",
   "metadata": {},
   "outputs": [],
   "source": [
    "df_limpio[\"cod_distrito\"].replace(np.nan, \"2\", inplace = True)"
   ]
  },
  {
   "cell_type": "markdown",
   "id": "aa4370ad",
   "metadata": {},
   "source": [
    "5️⃣ Columna \"Tipo_persona\""
   ]
  },
  {
   "cell_type": "code",
   "execution_count": 25,
   "id": "3d2059d8",
   "metadata": {},
   "outputs": [
    {
     "data": {
      "text/plain": [
       "array(['Conductor', 'Pasajero', 'Peatón', nan], dtype=object)"
      ]
     },
     "execution_count": 25,
     "metadata": {},
     "output_type": "execute_result"
    }
   ],
   "source": [
    "df_limpio[\"tipo_persona\"].unique()"
   ]
  },
  {
   "cell_type": "code",
   "execution_count": 26,
   "id": "05c0ca70",
   "metadata": {
    "scrolled": false
   },
   "outputs": [
    {
     "data": {
      "text/html": [
       "<div>\n",
       "<style scoped>\n",
       "    .dataframe tbody tr th:only-of-type {\n",
       "        vertical-align: middle;\n",
       "    }\n",
       "\n",
       "    .dataframe tbody tr th {\n",
       "        vertical-align: top;\n",
       "    }\n",
       "\n",
       "    .dataframe thead th {\n",
       "        text-align: right;\n",
       "    }\n",
       "</style>\n",
       "<table border=\"1\" class=\"dataframe\">\n",
       "  <thead>\n",
       "    <tr style=\"text-align: right;\">\n",
       "      <th></th>\n",
       "      <th>num_expediente</th>\n",
       "      <th>fecha</th>\n",
       "      <th>hora</th>\n",
       "      <th>localizacion</th>\n",
       "      <th>numero</th>\n",
       "      <th>cod_distrito</th>\n",
       "      <th>distrito</th>\n",
       "      <th>tipo_accidente</th>\n",
       "      <th>estado_meteorológico</th>\n",
       "      <th>tipo_vehiculo</th>\n",
       "      <th>tipo_persona</th>\n",
       "      <th>rango_edad</th>\n",
       "      <th>sexo</th>\n",
       "      <th>cod_lesividad</th>\n",
       "      <th>lesividad</th>\n",
       "      <th>coordenada_x_utm</th>\n",
       "      <th>coordenada_y_utm</th>\n",
       "      <th>positiva_alcohol</th>\n",
       "      <th>dia_semana</th>\n",
       "    </tr>\n",
       "  </thead>\n",
       "  <tbody>\n",
       "    <tr>\n",
       "      <th>37104</th>\n",
       "      <td>2021S022518</td>\n",
       "      <td>2021-11-27</td>\n",
       "      <td>22:25:00</td>\n",
       "      <td>AVDA. HISPANIDAD, 34</td>\n",
       "      <td>34</td>\n",
       "      <td>21</td>\n",
       "      <td>BARAJAS</td>\n",
       "      <td>Alcance</td>\n",
       "      <td>Despejado</td>\n",
       "      <td>Turismo</td>\n",
       "      <td>NaN</td>\n",
       "      <td>Desconocido</td>\n",
       "      <td>Desconocido</td>\n",
       "      <td>&lt;NA&gt;</td>\n",
       "      <td>NaN</td>\n",
       "      <td>451305.806</td>\n",
       "      <td>4479449.657</td>\n",
       "      <td>N</td>\n",
       "      <td>Saturday</td>\n",
       "    </tr>\n",
       "    <tr>\n",
       "      <th>40495</th>\n",
       "      <td>2021S024425</td>\n",
       "      <td>2021-12-21</td>\n",
       "      <td>16:30:00</td>\n",
       "      <td>AVENIDA MANUEL FRAGA IRIBARNE NUMERO 2</td>\n",
       "      <td>35</td>\n",
       "      <td>21</td>\n",
       "      <td>BARAJAS</td>\n",
       "      <td>Alcance</td>\n",
       "      <td>Despejado</td>\n",
       "      <td>Turismo</td>\n",
       "      <td>NaN</td>\n",
       "      <td>Menor de 5 años</td>\n",
       "      <td>Hombre</td>\n",
       "      <td>&lt;NA&gt;</td>\n",
       "      <td>NaN</td>\n",
       "      <td>448419.744</td>\n",
       "      <td>4481821.540</td>\n",
       "      <td>N</td>\n",
       "      <td>Tuesday</td>\n",
       "    </tr>\n",
       "    <tr>\n",
       "      <th>41575</th>\n",
       "      <td>2021S024983</td>\n",
       "      <td>2021-12-30</td>\n",
       "      <td>17:50:00</td>\n",
       "      <td>CALL. VALDETORRES DE JARAMA / CALL. ANGEL LUIS...</td>\n",
       "      <td>2</td>\n",
       "      <td>16</td>\n",
       "      <td>HORTALEZA</td>\n",
       "      <td>Colisión fronto-lateral</td>\n",
       "      <td>Despejado</td>\n",
       "      <td>Motocicleta hasta 125cc</td>\n",
       "      <td>NaN</td>\n",
       "      <td>Desconocido</td>\n",
       "      <td>Desconocido</td>\n",
       "      <td>&lt;NA&gt;</td>\n",
       "      <td>NaN</td>\n",
       "      <td>445289.712</td>\n",
       "      <td>4480250.615</td>\n",
       "      <td>N</td>\n",
       "      <td>Thursday</td>\n",
       "    </tr>\n",
       "  </tbody>\n",
       "</table>\n",
       "</div>"
      ],
      "text/plain": [
       "      num_expediente      fecha      hora  \\\n",
       "37104    2021S022518 2021-11-27  22:25:00   \n",
       "40495    2021S024425 2021-12-21  16:30:00   \n",
       "41575    2021S024983 2021-12-30  17:50:00   \n",
       "\n",
       "                                            localizacion numero  cod_distrito  \\\n",
       "37104                               AVDA. HISPANIDAD, 34     34            21   \n",
       "40495             AVENIDA MANUEL FRAGA IRIBARNE NUMERO 2     35            21   \n",
       "41575  CALL. VALDETORRES DE JARAMA / CALL. ANGEL LUIS...      2            16   \n",
       "\n",
       "        distrito           tipo_accidente estado_meteorológico  \\\n",
       "37104    BARAJAS                  Alcance            Despejado   \n",
       "40495    BARAJAS                  Alcance            Despejado   \n",
       "41575  HORTALEZA  Colisión fronto-lateral            Despejado   \n",
       "\n",
       "                 tipo_vehiculo tipo_persona       rango_edad         sexo  \\\n",
       "37104                  Turismo          NaN      Desconocido  Desconocido   \n",
       "40495                  Turismo          NaN  Menor de 5 años       Hombre   \n",
       "41575  Motocicleta hasta 125cc          NaN      Desconocido  Desconocido   \n",
       "\n",
       "       cod_lesividad lesividad  coordenada_x_utm  coordenada_y_utm  \\\n",
       "37104           <NA>       NaN        451305.806       4479449.657   \n",
       "40495           <NA>       NaN        448419.744       4481821.540   \n",
       "41575           <NA>       NaN        445289.712       4480250.615   \n",
       "\n",
       "      positiva_alcohol dia_semana  \n",
       "37104                N   Saturday  \n",
       "40495                N    Tuesday  \n",
       "41575                N   Thursday  "
      ]
     },
     "execution_count": 26,
     "metadata": {},
     "output_type": "execute_result"
    }
   ],
   "source": [
    "df_limpio[df_limpio[\"tipo_persona\"].isnull()]"
   ]
  },
  {
   "cell_type": "markdown",
   "id": "417ad6c1",
   "metadata": {},
   "source": [
    "Manipulamos la columna \"Tipo_persona\" para que es los nulos diga \"sin especificar\""
   ]
  },
  {
   "cell_type": "code",
   "execution_count": 27,
   "id": "5c18bdce",
   "metadata": {},
   "outputs": [],
   "source": [
    "df_limpio[\"tipo_persona\"].replace(np.nan, \"Sin especificar\", inplace = True)"
   ]
  },
  {
   "cell_type": "code",
   "execution_count": 28,
   "id": "54bc8e0d",
   "metadata": {},
   "outputs": [],
   "source": [
    "#para ver culquier nulo de cualquier columna\n",
    "#nan_rows = df_limpio[df_limpio.isnull().any(1)]\n",
    "#nan_rows.head(10)"
   ]
  },
  {
   "cell_type": "markdown",
   "id": "49adfe1b",
   "metadata": {},
   "source": [
    "6️⃣ Columna \"lesividad\""
   ]
  },
  {
   "cell_type": "code",
   "execution_count": 29,
   "id": "2406ff79",
   "metadata": {
    "scrolled": true
   },
   "outputs": [
    {
     "data": {
      "text/plain": [
       "array(['Sin asistencia sanitaria',\n",
       "       'Asistencia sanitaria sólo en el lugar del accidente', nan,\n",
       "       'Ingreso inferior o igual a 24 horas',\n",
       "       'Ingreso superior a 24 horas',\n",
       "       'Atención en urgencias sin posterior ingreso',\n",
       "       'Asistencia sanitaria inmediata en centro de salud o mutua',\n",
       "       'Asistencia sanitaria ambulatoria con posterioridad',\n",
       "       'Fallecido 24 horas'], dtype=object)"
      ]
     },
     "execution_count": 29,
     "metadata": {},
     "output_type": "execute_result"
    }
   ],
   "source": [
    "df_limpio[\"lesividad\"].unique()"
   ]
  },
  {
   "cell_type": "code",
   "execution_count": 30,
   "id": "d8dabc39",
   "metadata": {
    "scrolled": true
   },
   "outputs": [
    {
     "data": {
      "text/plain": [
       "Sin asistencia sanitaria                                     12380\n",
       "Asistencia sanitaria sólo en el lugar del accidente           5193\n",
       "Ingreso inferior o igual a 24 horas                           1552\n",
       "Atención en urgencias sin posterior ingreso                   1322\n",
       "Asistencia sanitaria inmediata en centro de salud o mutua      947\n",
       "Ingreso superior a 24 horas                                    552\n",
       "Asistencia sanitaria ambulatoria con posterioridad             503\n",
       "Fallecido 24 horas                                              28\n",
       "Name: lesividad, dtype: int64"
      ]
     },
     "execution_count": 30,
     "metadata": {},
     "output_type": "execute_result"
    }
   ],
   "source": [
    "df_limpio[\"lesividad\"].value_counts()"
   ]
  },
  {
   "cell_type": "code",
   "execution_count": 31,
   "id": "96f7adb2",
   "metadata": {},
   "outputs": [],
   "source": [
    "df_limpio['lesividad'] = df['lesividad'].fillna(\"Sin especificar\")"
   ]
  },
  {
   "cell_type": "markdown",
   "id": "6a857e02",
   "metadata": {},
   "source": [
    " 7️⃣ Columna \"Coordinadas\""
   ]
  },
  {
   "cell_type": "code",
   "execution_count": 32,
   "id": "f2a8ffc7",
   "metadata": {},
   "outputs": [
    {
     "data": {
      "text/html": [
       "<div>\n",
       "<style scoped>\n",
       "    .dataframe tbody tr th:only-of-type {\n",
       "        vertical-align: middle;\n",
       "    }\n",
       "\n",
       "    .dataframe tbody tr th {\n",
       "        vertical-align: top;\n",
       "    }\n",
       "\n",
       "    .dataframe thead th {\n",
       "        text-align: right;\n",
       "    }\n",
       "</style>\n",
       "<table border=\"1\" class=\"dataframe\">\n",
       "  <thead>\n",
       "    <tr style=\"text-align: right;\">\n",
       "      <th></th>\n",
       "      <th>num_expediente</th>\n",
       "      <th>fecha</th>\n",
       "      <th>hora</th>\n",
       "      <th>localizacion</th>\n",
       "      <th>numero</th>\n",
       "      <th>cod_distrito</th>\n",
       "      <th>distrito</th>\n",
       "      <th>tipo_accidente</th>\n",
       "      <th>estado_meteorológico</th>\n",
       "      <th>tipo_vehiculo</th>\n",
       "      <th>tipo_persona</th>\n",
       "      <th>rango_edad</th>\n",
       "      <th>sexo</th>\n",
       "      <th>cod_lesividad</th>\n",
       "      <th>lesividad</th>\n",
       "      <th>coordenada_x_utm</th>\n",
       "      <th>coordenada_y_utm</th>\n",
       "      <th>positiva_alcohol</th>\n",
       "      <th>dia_semana</th>\n",
       "    </tr>\n",
       "  </thead>\n",
       "  <tbody>\n",
       "    <tr>\n",
       "      <th>30817</th>\n",
       "      <td>2021S018891</td>\n",
       "      <td>2021-10-17</td>\n",
       "      <td>12:20:00</td>\n",
       "      <td>RONDA. SUR / CALL. MARTOS</td>\n",
       "      <td>241</td>\n",
       "      <td>13</td>\n",
       "      <td>PUENTE DE VALLECAS</td>\n",
       "      <td>Alcance</td>\n",
       "      <td>Despejado</td>\n",
       "      <td>Furgoneta</td>\n",
       "      <td>Conductor</td>\n",
       "      <td>Desconocido</td>\n",
       "      <td>Desconocido</td>\n",
       "      <td>&lt;NA&gt;</td>\n",
       "      <td>Sin especificar</td>\n",
       "      <td>NaN</td>\n",
       "      <td>NaN</td>\n",
       "      <td>N</td>\n",
       "      <td>Sunday</td>\n",
       "    </tr>\n",
       "    <tr>\n",
       "      <th>30818</th>\n",
       "      <td>2021S018891</td>\n",
       "      <td>2021-10-17</td>\n",
       "      <td>12:20:00</td>\n",
       "      <td>RONDA. SUR / CALL. MARTOS</td>\n",
       "      <td>241</td>\n",
       "      <td>13</td>\n",
       "      <td>PUENTE DE VALLECAS</td>\n",
       "      <td>Alcance</td>\n",
       "      <td>Despejado</td>\n",
       "      <td>Turismo</td>\n",
       "      <td>Conductor</td>\n",
       "      <td>De 18 a 20 años</td>\n",
       "      <td>Hombre</td>\n",
       "      <td>&lt;NA&gt;</td>\n",
       "      <td>Sin especificar</td>\n",
       "      <td>NaN</td>\n",
       "      <td>NaN</td>\n",
       "      <td>N</td>\n",
       "      <td>Sunday</td>\n",
       "    </tr>\n",
       "    <tr>\n",
       "      <th>37939</th>\n",
       "      <td>2021S022950</td>\n",
       "      <td>2021-12-03</td>\n",
       "      <td>06:30:00</td>\n",
       "      <td>CALL. REY FRANCISCO, 28</td>\n",
       "      <td>28</td>\n",
       "      <td>9</td>\n",
       "      <td>MONCLOA-ARAVACA</td>\n",
       "      <td>Colisión múltiple</td>\n",
       "      <td>Despejado</td>\n",
       "      <td>Otros</td>\n",
       "      <td>Conductor</td>\n",
       "      <td>Desconocido</td>\n",
       "      <td>Desconocido</td>\n",
       "      <td>&lt;NA&gt;</td>\n",
       "      <td>Sin especificar</td>\n",
       "      <td>NaN</td>\n",
       "      <td>NaN</td>\n",
       "      <td>N</td>\n",
       "      <td>Friday</td>\n",
       "    </tr>\n",
       "    <tr>\n",
       "      <th>37940</th>\n",
       "      <td>2021S022950</td>\n",
       "      <td>2021-12-03</td>\n",
       "      <td>06:30:00</td>\n",
       "      <td>CALL. REY FRANCISCO, 28</td>\n",
       "      <td>28</td>\n",
       "      <td>9</td>\n",
       "      <td>MONCLOA-ARAVACA</td>\n",
       "      <td>Colisión múltiple</td>\n",
       "      <td>Despejado</td>\n",
       "      <td>Turismo</td>\n",
       "      <td>Conductor</td>\n",
       "      <td>De 21 a 24 años</td>\n",
       "      <td>Hombre</td>\n",
       "      <td>&lt;NA&gt;</td>\n",
       "      <td>Sin especificar</td>\n",
       "      <td>NaN</td>\n",
       "      <td>NaN</td>\n",
       "      <td>N</td>\n",
       "      <td>Friday</td>\n",
       "    </tr>\n",
       "    <tr>\n",
       "      <th>39443</th>\n",
       "      <td>2021S023850</td>\n",
       "      <td>2021-12-14</td>\n",
       "      <td>09:10:00</td>\n",
       "      <td>AUTOV. M-23, KM 0,700</td>\n",
       "      <td>0</td>\n",
       "      <td>14</td>\n",
       "      <td>MORATALAZ</td>\n",
       "      <td>Colisión múltiple</td>\n",
       "      <td>Despejado</td>\n",
       "      <td>Turismo</td>\n",
       "      <td>Conductor</td>\n",
       "      <td>De 45 a 49 años</td>\n",
       "      <td>Mujer</td>\n",
       "      <td>7</td>\n",
       "      <td>Asistencia sanitaria sólo en el lugar del acci...</td>\n",
       "      <td>NaN</td>\n",
       "      <td>NaN</td>\n",
       "      <td>N</td>\n",
       "      <td>Tuesday</td>\n",
       "    </tr>\n",
       "    <tr>\n",
       "      <th>39444</th>\n",
       "      <td>2021S023850</td>\n",
       "      <td>2021-12-14</td>\n",
       "      <td>09:10:00</td>\n",
       "      <td>AUTOV. M-23, KM 0,700</td>\n",
       "      <td>0</td>\n",
       "      <td>14</td>\n",
       "      <td>MORATALAZ</td>\n",
       "      <td>Colisión múltiple</td>\n",
       "      <td>Despejado</td>\n",
       "      <td>Turismo</td>\n",
       "      <td>Conductor</td>\n",
       "      <td>De 50 a 54 años</td>\n",
       "      <td>Hombre</td>\n",
       "      <td>14</td>\n",
       "      <td>Sin asistencia sanitaria</td>\n",
       "      <td>NaN</td>\n",
       "      <td>NaN</td>\n",
       "      <td>N</td>\n",
       "      <td>Tuesday</td>\n",
       "    </tr>\n",
       "    <tr>\n",
       "      <th>39445</th>\n",
       "      <td>2021S023850</td>\n",
       "      <td>2021-12-14</td>\n",
       "      <td>09:10:00</td>\n",
       "      <td>AUTOV. M-23, KM 0,700</td>\n",
       "      <td>0</td>\n",
       "      <td>14</td>\n",
       "      <td>MORATALAZ</td>\n",
       "      <td>Colisión múltiple</td>\n",
       "      <td>Despejado</td>\n",
       "      <td>Turismo</td>\n",
       "      <td>Conductor</td>\n",
       "      <td>De 60 a 64 años</td>\n",
       "      <td>Hombre</td>\n",
       "      <td>14</td>\n",
       "      <td>Sin asistencia sanitaria</td>\n",
       "      <td>NaN</td>\n",
       "      <td>NaN</td>\n",
       "      <td>N</td>\n",
       "      <td>Tuesday</td>\n",
       "    </tr>\n",
       "    <tr>\n",
       "      <th>41231</th>\n",
       "      <td>2021S024803</td>\n",
       "      <td>2021-12-27</td>\n",
       "      <td>02:10:00</td>\n",
       "      <td>PLAZA. AGUSTIN GONZALEZ / CALL. SANTA GENOVEVA</td>\n",
       "      <td>1</td>\n",
       "      <td>15</td>\n",
       "      <td>CIUDAD LINEAL</td>\n",
       "      <td>Otro</td>\n",
       "      <td>NaN</td>\n",
       "      <td>Turismo</td>\n",
       "      <td>Conductor</td>\n",
       "      <td>De 45 a 49 años</td>\n",
       "      <td>Hombre</td>\n",
       "      <td>&lt;NA&gt;</td>\n",
       "      <td>Sin especificar</td>\n",
       "      <td>NaN</td>\n",
       "      <td>NaN</td>\n",
       "      <td>S</td>\n",
       "      <td>Monday</td>\n",
       "    </tr>\n",
       "    <tr>\n",
       "      <th>41425</th>\n",
       "      <td>2021S024915</td>\n",
       "      <td>2021-12-29</td>\n",
       "      <td>00:00:00</td>\n",
       "      <td>URB. MANZANA DE AZCA / CALL. AGUSTIN DE BETANC...</td>\n",
       "      <td>0</td>\n",
       "      <td>6</td>\n",
       "      <td>TETUÁN</td>\n",
       "      <td>Choque contra obstáculo fijo</td>\n",
       "      <td>Despejado</td>\n",
       "      <td>Turismo</td>\n",
       "      <td>Conductor</td>\n",
       "      <td>Desconocido</td>\n",
       "      <td>Desconocido</td>\n",
       "      <td>&lt;NA&gt;</td>\n",
       "      <td>Sin especificar</td>\n",
       "      <td>NaN</td>\n",
       "      <td>NaN</td>\n",
       "      <td>N</td>\n",
       "      <td>Wednesday</td>\n",
       "    </tr>\n",
       "    <tr>\n",
       "      <th>41524</th>\n",
       "      <td>2021S024959</td>\n",
       "      <td>2021-12-29</td>\n",
       "      <td>13:55:00</td>\n",
       "      <td>CALL. GENERAL RICARDOS / CALL. BATALLA DE TORR...</td>\n",
       "      <td>220</td>\n",
       "      <td>11</td>\n",
       "      <td>CARABANCHEL</td>\n",
       "      <td>Alcance</td>\n",
       "      <td>Despejado</td>\n",
       "      <td>Otros</td>\n",
       "      <td>Conductor</td>\n",
       "      <td>De 45 a 49 años</td>\n",
       "      <td>Hombre</td>\n",
       "      <td>14</td>\n",
       "      <td>Sin asistencia sanitaria</td>\n",
       "      <td>NaN</td>\n",
       "      <td>NaN</td>\n",
       "      <td>N</td>\n",
       "      <td>Wednesday</td>\n",
       "    </tr>\n",
       "    <tr>\n",
       "      <th>41614</th>\n",
       "      <td>2021S024999</td>\n",
       "      <td>2021-12-30</td>\n",
       "      <td>23:10:00</td>\n",
       "      <td>CALL. ARROYO DE LA MEDIA LEGUA, 72</td>\n",
       "      <td>72</td>\n",
       "      <td>14</td>\n",
       "      <td>MORATALAZ</td>\n",
       "      <td>Atropello a persona</td>\n",
       "      <td>Se desconoce</td>\n",
       "      <td>Turismo</td>\n",
       "      <td>Conductor</td>\n",
       "      <td>De 45 a 49 años</td>\n",
       "      <td>Hombre</td>\n",
       "      <td>14</td>\n",
       "      <td>Sin asistencia sanitaria</td>\n",
       "      <td>NaN</td>\n",
       "      <td>NaN</td>\n",
       "      <td>N</td>\n",
       "      <td>Thursday</td>\n",
       "    </tr>\n",
       "    <tr>\n",
       "      <th>41615</th>\n",
       "      <td>2021S024999</td>\n",
       "      <td>2021-12-30</td>\n",
       "      <td>23:10:00</td>\n",
       "      <td>CALL. ARROYO DE LA MEDIA LEGUA, 72</td>\n",
       "      <td>72</td>\n",
       "      <td>14</td>\n",
       "      <td>MORATALAZ</td>\n",
       "      <td>Atropello a persona</td>\n",
       "      <td>Se desconoce</td>\n",
       "      <td>Turismo</td>\n",
       "      <td>Peatón</td>\n",
       "      <td>De 45 a 49 años</td>\n",
       "      <td>Hombre</td>\n",
       "      <td>3</td>\n",
       "      <td>Ingreso superior a 24 horas</td>\n",
       "      <td>NaN</td>\n",
       "      <td>NaN</td>\n",
       "      <td>N</td>\n",
       "      <td>Thursday</td>\n",
       "    </tr>\n",
       "  </tbody>\n",
       "</table>\n",
       "</div>"
      ],
      "text/plain": [
       "      num_expediente      fecha      hora  \\\n",
       "30817    2021S018891 2021-10-17  12:20:00   \n",
       "30818    2021S018891 2021-10-17  12:20:00   \n",
       "37939    2021S022950 2021-12-03  06:30:00   \n",
       "37940    2021S022950 2021-12-03  06:30:00   \n",
       "39443    2021S023850 2021-12-14  09:10:00   \n",
       "39444    2021S023850 2021-12-14  09:10:00   \n",
       "39445    2021S023850 2021-12-14  09:10:00   \n",
       "41231    2021S024803 2021-12-27  02:10:00   \n",
       "41425    2021S024915 2021-12-29  00:00:00   \n",
       "41524    2021S024959 2021-12-29  13:55:00   \n",
       "41614    2021S024999 2021-12-30  23:10:00   \n",
       "41615    2021S024999 2021-12-30  23:10:00   \n",
       "\n",
       "                                            localizacion numero  cod_distrito  \\\n",
       "30817                          RONDA. SUR / CALL. MARTOS    241            13   \n",
       "30818                          RONDA. SUR / CALL. MARTOS    241            13   \n",
       "37939                            CALL. REY FRANCISCO, 28     28             9   \n",
       "37940                            CALL. REY FRANCISCO, 28     28             9   \n",
       "39443                              AUTOV. M-23, KM 0,700      0            14   \n",
       "39444                              AUTOV. M-23, KM 0,700      0            14   \n",
       "39445                              AUTOV. M-23, KM 0,700      0            14   \n",
       "41231     PLAZA. AGUSTIN GONZALEZ / CALL. SANTA GENOVEVA      1            15   \n",
       "41425  URB. MANZANA DE AZCA / CALL. AGUSTIN DE BETANC...      0             6   \n",
       "41524  CALL. GENERAL RICARDOS / CALL. BATALLA DE TORR...    220            11   \n",
       "41614                 CALL. ARROYO DE LA MEDIA LEGUA, 72     72            14   \n",
       "41615                 CALL. ARROYO DE LA MEDIA LEGUA, 72     72            14   \n",
       "\n",
       "                 distrito                tipo_accidente estado_meteorológico  \\\n",
       "30817  PUENTE DE VALLECAS                       Alcance            Despejado   \n",
       "30818  PUENTE DE VALLECAS                       Alcance            Despejado   \n",
       "37939     MONCLOA-ARAVACA             Colisión múltiple            Despejado   \n",
       "37940     MONCLOA-ARAVACA             Colisión múltiple            Despejado   \n",
       "39443           MORATALAZ             Colisión múltiple            Despejado   \n",
       "39444           MORATALAZ             Colisión múltiple            Despejado   \n",
       "39445           MORATALAZ             Colisión múltiple            Despejado   \n",
       "41231       CIUDAD LINEAL                          Otro                  NaN   \n",
       "41425              TETUÁN  Choque contra obstáculo fijo            Despejado   \n",
       "41524         CARABANCHEL                       Alcance            Despejado   \n",
       "41614           MORATALAZ           Atropello a persona         Se desconoce   \n",
       "41615           MORATALAZ           Atropello a persona         Se desconoce   \n",
       "\n",
       "      tipo_vehiculo tipo_persona       rango_edad         sexo  cod_lesividad  \\\n",
       "30817     Furgoneta    Conductor      Desconocido  Desconocido           <NA>   \n",
       "30818       Turismo    Conductor  De 18 a 20 años       Hombre           <NA>   \n",
       "37939         Otros    Conductor      Desconocido  Desconocido           <NA>   \n",
       "37940       Turismo    Conductor  De 21 a 24 años       Hombre           <NA>   \n",
       "39443       Turismo    Conductor  De 45 a 49 años        Mujer              7   \n",
       "39444       Turismo    Conductor  De 50 a 54 años       Hombre             14   \n",
       "39445       Turismo    Conductor  De 60 a 64 años       Hombre             14   \n",
       "41231       Turismo    Conductor  De 45 a 49 años       Hombre           <NA>   \n",
       "41425       Turismo    Conductor      Desconocido  Desconocido           <NA>   \n",
       "41524         Otros    Conductor  De 45 a 49 años       Hombre             14   \n",
       "41614       Turismo    Conductor  De 45 a 49 años       Hombre             14   \n",
       "41615       Turismo       Peatón  De 45 a 49 años       Hombre              3   \n",
       "\n",
       "                                               lesividad  coordenada_x_utm  \\\n",
       "30817                                    Sin especificar               NaN   \n",
       "30818                                    Sin especificar               NaN   \n",
       "37939                                    Sin especificar               NaN   \n",
       "37940                                    Sin especificar               NaN   \n",
       "39443  Asistencia sanitaria sólo en el lugar del acci...               NaN   \n",
       "39444                           Sin asistencia sanitaria               NaN   \n",
       "39445                           Sin asistencia sanitaria               NaN   \n",
       "41231                                    Sin especificar               NaN   \n",
       "41425                                    Sin especificar               NaN   \n",
       "41524                           Sin asistencia sanitaria               NaN   \n",
       "41614                           Sin asistencia sanitaria               NaN   \n",
       "41615                        Ingreso superior a 24 horas               NaN   \n",
       "\n",
       "       coordenada_y_utm positiva_alcohol dia_semana  \n",
       "30817               NaN                N     Sunday  \n",
       "30818               NaN                N     Sunday  \n",
       "37939               NaN                N     Friday  \n",
       "37940               NaN                N     Friday  \n",
       "39443               NaN                N    Tuesday  \n",
       "39444               NaN                N    Tuesday  \n",
       "39445               NaN                N    Tuesday  \n",
       "41231               NaN                S     Monday  \n",
       "41425               NaN                N  Wednesday  \n",
       "41524               NaN                N  Wednesday  \n",
       "41614               NaN                N   Thursday  \n",
       "41615               NaN                N   Thursday  "
      ]
     },
     "execution_count": 32,
     "metadata": {},
     "output_type": "execute_result"
    }
   ],
   "source": [
    "df_limpio[df_limpio[\"coordenada_x_utm\"].isnull()]"
   ]
  },
  {
   "cell_type": "markdown",
   "id": "eeabcb33",
   "metadata": {},
   "source": [
    "8️⃣ Columna \"estado_meteorológico\""
   ]
  },
  {
   "cell_type": "code",
   "execution_count": 33,
   "id": "e8674c91",
   "metadata": {
    "scrolled": true
   },
   "outputs": [
    {
     "data": {
      "text/plain": [
       "array(['Despejado', 'Lluvia débil', 'Nublado', nan, 'Se desconoce',\n",
       "       'Nevando', 'LLuvia intensa', 'Granizando'], dtype=object)"
      ]
     },
     "execution_count": 33,
     "metadata": {},
     "output_type": "execute_result"
    }
   ],
   "source": [
    "df_limpio[\"estado_meteorológico\"].unique()"
   ]
  },
  {
   "cell_type": "code",
   "execution_count": 34,
   "id": "d6b1cf17",
   "metadata": {
    "scrolled": true
   },
   "outputs": [
    {
     "data": {
      "text/plain": [
       "Despejado         30570\n",
       "Nublado            2039\n",
       "Lluvia débil       1999\n",
       "LLuvia intensa      604\n",
       "Se desconoce        393\n",
       "Nevando             198\n",
       "Granizando            7\n",
       "Name: estado_meteorológico, dtype: int64"
      ]
     },
     "execution_count": 34,
     "metadata": {},
     "output_type": "execute_result"
    }
   ],
   "source": [
    "df_limpio[\"estado_meteorológico\"].value_counts()"
   ]
  },
  {
   "cell_type": "code",
   "execution_count": 35,
   "id": "88d43cef",
   "metadata": {},
   "outputs": [],
   "source": [
    "df_limpio['estado_meteorológico'] = df['estado_meteorológico'].fillna(\"Se desconoce\")"
   ]
  },
  {
   "cell_type": "markdown",
   "id": "8dcfcd9f",
   "metadata": {},
   "source": [
    "# Manipulación de columnas"
   ]
  },
  {
   "cell_type": "markdown",
   "id": "c574a1e4",
   "metadata": {},
   "source": [
    "1️⃣ Distrito --> Poner el string en minúsculas con la primera letra mayúscula"
   ]
  },
  {
   "cell_type": "code",
   "execution_count": 36,
   "id": "8fcdd2ae",
   "metadata": {},
   "outputs": [
    {
     "data": {
      "text/html": [
       "<div>\n",
       "<style scoped>\n",
       "    .dataframe tbody tr th:only-of-type {\n",
       "        vertical-align: middle;\n",
       "    }\n",
       "\n",
       "    .dataframe tbody tr th {\n",
       "        vertical-align: top;\n",
       "    }\n",
       "\n",
       "    .dataframe thead th {\n",
       "        text-align: right;\n",
       "    }\n",
       "</style>\n",
       "<table border=\"1\" class=\"dataframe\">\n",
       "  <thead>\n",
       "    <tr style=\"text-align: right;\">\n",
       "      <th></th>\n",
       "      <th>num_expediente</th>\n",
       "      <th>fecha</th>\n",
       "      <th>hora</th>\n",
       "      <th>localizacion</th>\n",
       "      <th>numero</th>\n",
       "      <th>cod_distrito</th>\n",
       "      <th>distrito</th>\n",
       "      <th>tipo_accidente</th>\n",
       "      <th>estado_meteorológico</th>\n",
       "      <th>tipo_vehiculo</th>\n",
       "      <th>tipo_persona</th>\n",
       "      <th>rango_edad</th>\n",
       "      <th>sexo</th>\n",
       "      <th>cod_lesividad</th>\n",
       "      <th>lesividad</th>\n",
       "      <th>coordenada_x_utm</th>\n",
       "      <th>coordenada_y_utm</th>\n",
       "      <th>positiva_alcohol</th>\n",
       "      <th>dia_semana</th>\n",
       "    </tr>\n",
       "  </thead>\n",
       "  <tbody>\n",
       "    <tr>\n",
       "      <th>0</th>\n",
       "      <td>2020S019534</td>\n",
       "      <td>2021-01-01</td>\n",
       "      <td>04:30:00</td>\n",
       "      <td>AVDA. PABLO NERUDA / CALL. LEONESES</td>\n",
       "      <td>57</td>\n",
       "      <td>13</td>\n",
       "      <td>Puente de vallecas</td>\n",
       "      <td>Colisión fronto-lateral</td>\n",
       "      <td>Despejado</td>\n",
       "      <td>Turismo</td>\n",
       "      <td>Conductor</td>\n",
       "      <td>De 30 a 34 años</td>\n",
       "      <td>Mujer</td>\n",
       "      <td>14</td>\n",
       "      <td>Sin asistencia sanitaria</td>\n",
       "      <td>444976.463</td>\n",
       "      <td>4470508.259</td>\n",
       "      <td>N</td>\n",
       "      <td>Friday</td>\n",
       "    </tr>\n",
       "    <tr>\n",
       "      <th>1</th>\n",
       "      <td>2020S019534</td>\n",
       "      <td>2021-01-01</td>\n",
       "      <td>04:30:00</td>\n",
       "      <td>AVDA. PABLO NERUDA / CALL. LEONESES</td>\n",
       "      <td>57</td>\n",
       "      <td>13</td>\n",
       "      <td>Puente de vallecas</td>\n",
       "      <td>Colisión fronto-lateral</td>\n",
       "      <td>Despejado</td>\n",
       "      <td>Turismo</td>\n",
       "      <td>Conductor</td>\n",
       "      <td>De 35 a 39 años</td>\n",
       "      <td>Hombre</td>\n",
       "      <td>7</td>\n",
       "      <td>Asistencia sanitaria sólo en el lugar del acci...</td>\n",
       "      <td>444976.463</td>\n",
       "      <td>4470508.259</td>\n",
       "      <td>N</td>\n",
       "      <td>Friday</td>\n",
       "    </tr>\n",
       "  </tbody>\n",
       "</table>\n",
       "</div>"
      ],
      "text/plain": [
       "  num_expediente      fecha      hora                         localizacion  \\\n",
       "0    2020S019534 2021-01-01  04:30:00  AVDA. PABLO NERUDA / CALL. LEONESES   \n",
       "1    2020S019534 2021-01-01  04:30:00  AVDA. PABLO NERUDA / CALL. LEONESES   \n",
       "\n",
       "  numero  cod_distrito            distrito           tipo_accidente  \\\n",
       "0     57            13  Puente de vallecas  Colisión fronto-lateral   \n",
       "1     57            13  Puente de vallecas  Colisión fronto-lateral   \n",
       "\n",
       "  estado_meteorológico tipo_vehiculo tipo_persona       rango_edad    sexo  \\\n",
       "0            Despejado       Turismo    Conductor  De 30 a 34 años   Mujer   \n",
       "1            Despejado       Turismo    Conductor  De 35 a 39 años  Hombre   \n",
       "\n",
       "   cod_lesividad                                          lesividad  \\\n",
       "0             14                           Sin asistencia sanitaria   \n",
       "1              7  Asistencia sanitaria sólo en el lugar del acci...   \n",
       "\n",
       "   coordenada_x_utm  coordenada_y_utm positiva_alcohol dia_semana  \n",
       "0        444976.463       4470508.259                N     Friday  \n",
       "1        444976.463       4470508.259                N     Friday  "
      ]
     },
     "execution_count": 36,
     "metadata": {},
     "output_type": "execute_result"
    }
   ],
   "source": [
    "df_limpio[\"distrito\"] = df_limpio[\"distrito\"].str.capitalize()\n",
    "df_limpio.head(2)"
   ]
  },
  {
   "cell_type": "markdown",
   "id": "074b1aee",
   "metadata": {},
   "source": [
    "2️⃣ Localización --> Poner el string en minúsculas con la primera letra mayúscula"
   ]
  },
  {
   "cell_type": "code",
   "execution_count": 37,
   "id": "8881bed5",
   "metadata": {},
   "outputs": [
    {
     "data": {
      "text/html": [
       "<div>\n",
       "<style scoped>\n",
       "    .dataframe tbody tr th:only-of-type {\n",
       "        vertical-align: middle;\n",
       "    }\n",
       "\n",
       "    .dataframe tbody tr th {\n",
       "        vertical-align: top;\n",
       "    }\n",
       "\n",
       "    .dataframe thead th {\n",
       "        text-align: right;\n",
       "    }\n",
       "</style>\n",
       "<table border=\"1\" class=\"dataframe\">\n",
       "  <thead>\n",
       "    <tr style=\"text-align: right;\">\n",
       "      <th></th>\n",
       "      <th>num_expediente</th>\n",
       "      <th>fecha</th>\n",
       "      <th>hora</th>\n",
       "      <th>localizacion</th>\n",
       "      <th>numero</th>\n",
       "      <th>cod_distrito</th>\n",
       "      <th>distrito</th>\n",
       "      <th>tipo_accidente</th>\n",
       "      <th>estado_meteorológico</th>\n",
       "      <th>tipo_vehiculo</th>\n",
       "      <th>tipo_persona</th>\n",
       "      <th>rango_edad</th>\n",
       "      <th>sexo</th>\n",
       "      <th>cod_lesividad</th>\n",
       "      <th>lesividad</th>\n",
       "      <th>coordenada_x_utm</th>\n",
       "      <th>coordenada_y_utm</th>\n",
       "      <th>positiva_alcohol</th>\n",
       "      <th>dia_semana</th>\n",
       "    </tr>\n",
       "  </thead>\n",
       "  <tbody>\n",
       "    <tr>\n",
       "      <th>0</th>\n",
       "      <td>2020S019534</td>\n",
       "      <td>2021-01-01</td>\n",
       "      <td>04:30:00</td>\n",
       "      <td>Avda. pablo neruda / call. leoneses</td>\n",
       "      <td>57</td>\n",
       "      <td>13</td>\n",
       "      <td>Puente de vallecas</td>\n",
       "      <td>Colisión fronto-lateral</td>\n",
       "      <td>Despejado</td>\n",
       "      <td>Turismo</td>\n",
       "      <td>Conductor</td>\n",
       "      <td>De 30 a 34 años</td>\n",
       "      <td>Mujer</td>\n",
       "      <td>14</td>\n",
       "      <td>Sin asistencia sanitaria</td>\n",
       "      <td>444976.463</td>\n",
       "      <td>4470508.259</td>\n",
       "      <td>N</td>\n",
       "      <td>Friday</td>\n",
       "    </tr>\n",
       "    <tr>\n",
       "      <th>1</th>\n",
       "      <td>2020S019534</td>\n",
       "      <td>2021-01-01</td>\n",
       "      <td>04:30:00</td>\n",
       "      <td>Avda. pablo neruda / call. leoneses</td>\n",
       "      <td>57</td>\n",
       "      <td>13</td>\n",
       "      <td>Puente de vallecas</td>\n",
       "      <td>Colisión fronto-lateral</td>\n",
       "      <td>Despejado</td>\n",
       "      <td>Turismo</td>\n",
       "      <td>Conductor</td>\n",
       "      <td>De 35 a 39 años</td>\n",
       "      <td>Hombre</td>\n",
       "      <td>7</td>\n",
       "      <td>Asistencia sanitaria sólo en el lugar del acci...</td>\n",
       "      <td>444976.463</td>\n",
       "      <td>4470508.259</td>\n",
       "      <td>N</td>\n",
       "      <td>Friday</td>\n",
       "    </tr>\n",
       "  </tbody>\n",
       "</table>\n",
       "</div>"
      ],
      "text/plain": [
       "  num_expediente      fecha      hora                         localizacion  \\\n",
       "0    2020S019534 2021-01-01  04:30:00  Avda. pablo neruda / call. leoneses   \n",
       "1    2020S019534 2021-01-01  04:30:00  Avda. pablo neruda / call. leoneses   \n",
       "\n",
       "  numero  cod_distrito            distrito           tipo_accidente  \\\n",
       "0     57            13  Puente de vallecas  Colisión fronto-lateral   \n",
       "1     57            13  Puente de vallecas  Colisión fronto-lateral   \n",
       "\n",
       "  estado_meteorológico tipo_vehiculo tipo_persona       rango_edad    sexo  \\\n",
       "0            Despejado       Turismo    Conductor  De 30 a 34 años   Mujer   \n",
       "1            Despejado       Turismo    Conductor  De 35 a 39 años  Hombre   \n",
       "\n",
       "   cod_lesividad                                          lesividad  \\\n",
       "0             14                           Sin asistencia sanitaria   \n",
       "1              7  Asistencia sanitaria sólo en el lugar del acci...   \n",
       "\n",
       "   coordenada_x_utm  coordenada_y_utm positiva_alcohol dia_semana  \n",
       "0        444976.463       4470508.259                N     Friday  \n",
       "1        444976.463       4470508.259                N     Friday  "
      ]
     },
     "execution_count": 37,
     "metadata": {},
     "output_type": "execute_result"
    }
   ],
   "source": [
    "df_limpio[\"localizacion\"] = df_limpio[\"localizacion\"].str.capitalize()\n",
    "df_limpio.head(2)"
   ]
  },
  {
   "cell_type": "markdown",
   "id": "e6f59636",
   "metadata": {},
   "source": [
    "# Eliminación de columnas"
   ]
  },
  {
   "cell_type": "code",
   "execution_count": 38,
   "id": "399febef",
   "metadata": {},
   "outputs": [],
   "source": [
    "eliminar = [\"cod_lesividad\"]"
   ]
  },
  {
   "cell_type": "code",
   "execution_count": 39,
   "id": "547d1cd4",
   "metadata": {},
   "outputs": [],
   "source": [
    "df_limpio = df_limpio.drop(eliminar, axis = 1)"
   ]
  },
  {
   "cell_type": "markdown",
   "id": "c84de245",
   "metadata": {},
   "source": [
    "# Groupby"
   ]
  },
  {
   "cell_type": "markdown",
   "id": "fcb75099",
   "metadata": {},
   "source": [
    "Agrupación por número de expediente"
   ]
  },
  {
   "cell_type": "code",
   "execution_count": 40,
   "id": "4b6b44b5",
   "metadata": {
    "scrolled": true
   },
   "outputs": [
    {
     "name": "stderr",
     "output_type": "stream",
     "text": [
      "/var/folders/hb/9zbycmb97bx0n1b4ggqr8s_c0000gn/T/ipykernel_58415/4186470162.py:1: FutureWarning: Indexing with multiple keys (implicitly converted to a tuple of keys) will be deprecated, use a list instead.\n",
      "  df_pie = pd.DataFrame(df_limpio.groupby(['num_expediente', 'distrito'])[\"tipo_vehiculo\", \"tipo_accidente\", \"tipo_persona\"].count())\n"
     ]
    },
    {
     "data": {
      "text/html": [
       "<div>\n",
       "<style scoped>\n",
       "    .dataframe tbody tr th:only-of-type {\n",
       "        vertical-align: middle;\n",
       "    }\n",
       "\n",
       "    .dataframe tbody tr th {\n",
       "        vertical-align: top;\n",
       "    }\n",
       "\n",
       "    .dataframe thead th {\n",
       "        text-align: right;\n",
       "    }\n",
       "</style>\n",
       "<table border=\"1\" class=\"dataframe\">\n",
       "  <thead>\n",
       "    <tr style=\"text-align: right;\">\n",
       "      <th></th>\n",
       "      <th></th>\n",
       "      <th>tipo_vehiculo</th>\n",
       "      <th>tipo_accidente</th>\n",
       "      <th>tipo_persona</th>\n",
       "    </tr>\n",
       "    <tr>\n",
       "      <th>num_expediente</th>\n",
       "      <th>distrito</th>\n",
       "      <th></th>\n",
       "      <th></th>\n",
       "      <th></th>\n",
       "    </tr>\n",
       "  </thead>\n",
       "  <tbody>\n",
       "    <tr>\n",
       "      <th>2020S019534</th>\n",
       "      <th>Puente de vallecas</th>\n",
       "      <td>5</td>\n",
       "      <td>5</td>\n",
       "      <td>5</td>\n",
       "    </tr>\n",
       "  </tbody>\n",
       "</table>\n",
       "</div>"
      ],
      "text/plain": [
       "                                   tipo_vehiculo  tipo_accidente  tipo_persona\n",
       "num_expediente distrito                                                       \n",
       "2020S019534    Puente de vallecas              5               5             5"
      ]
     },
     "execution_count": 40,
     "metadata": {},
     "output_type": "execute_result"
    }
   ],
   "source": [
    "df_pie = pd.DataFrame(df_limpio.groupby(['num_expediente', 'distrito'])[\"tipo_vehiculo\", \"tipo_accidente\", \"tipo_persona\"].count())\n",
    "\n",
    "df_pie.head(1)"
   ]
  },
  {
   "cell_type": "code",
   "execution_count": 41,
   "id": "d52a8ce5",
   "metadata": {
    "scrolled": true
   },
   "outputs": [
    {
     "data": {
      "text/html": [
       "<div>\n",
       "<style scoped>\n",
       "    .dataframe tbody tr th:only-of-type {\n",
       "        vertical-align: middle;\n",
       "    }\n",
       "\n",
       "    .dataframe tbody tr th {\n",
       "        vertical-align: top;\n",
       "    }\n",
       "\n",
       "    .dataframe thead th {\n",
       "        text-align: right;\n",
       "    }\n",
       "</style>\n",
       "<table border=\"1\" class=\"dataframe\">\n",
       "  <thead>\n",
       "    <tr style=\"text-align: right;\">\n",
       "      <th></th>\n",
       "      <th>num_expediente</th>\n",
       "      <th>distrito</th>\n",
       "      <th>tipo_vehiculo</th>\n",
       "      <th>tipo_accidente</th>\n",
       "      <th>tipo_persona</th>\n",
       "    </tr>\n",
       "  </thead>\n",
       "  <tbody>\n",
       "    <tr>\n",
       "      <th>0</th>\n",
       "      <td>2020S019534</td>\n",
       "      <td>Puente de vallecas</td>\n",
       "      <td>5</td>\n",
       "      <td>5</td>\n",
       "      <td>5</td>\n",
       "    </tr>\n",
       "    <tr>\n",
       "      <th>1</th>\n",
       "      <td>2021S000001</td>\n",
       "      <td>Usera</td>\n",
       "      <td>5</td>\n",
       "      <td>5</td>\n",
       "      <td>5</td>\n",
       "    </tr>\n",
       "  </tbody>\n",
       "</table>\n",
       "</div>"
      ],
      "text/plain": [
       "  num_expediente            distrito  tipo_vehiculo  tipo_accidente  \\\n",
       "0    2020S019534  Puente de vallecas              5               5   \n",
       "1    2021S000001               Usera              5               5   \n",
       "\n",
       "   tipo_persona  \n",
       "0             5  \n",
       "1             5  "
      ]
     },
     "execution_count": 41,
     "metadata": {},
     "output_type": "execute_result"
    }
   ],
   "source": [
    "df_pie.reset_index(inplace = True)\n",
    "df_pie.head(2)"
   ]
  },
  {
   "cell_type": "code",
   "execution_count": 42,
   "id": "67185d2b",
   "metadata": {},
   "outputs": [
    {
     "data": {
      "text/plain": [
       "(17952, 5)"
      ]
     },
     "execution_count": 42,
     "metadata": {},
     "output_type": "execute_result"
    }
   ],
   "source": [
    "df_pie.shape"
   ]
  },
  {
   "cell_type": "markdown",
   "id": "ff963879",
   "metadata": {},
   "source": [
    "Agrupación por distrito"
   ]
  },
  {
   "cell_type": "code",
   "execution_count": 43,
   "id": "255a0977",
   "metadata": {
    "scrolled": false
   },
   "outputs": [
    {
     "data": {
      "text/html": [
       "<div>\n",
       "<style scoped>\n",
       "    .dataframe tbody tr th:only-of-type {\n",
       "        vertical-align: middle;\n",
       "    }\n",
       "\n",
       "    .dataframe tbody tr th {\n",
       "        vertical-align: top;\n",
       "    }\n",
       "\n",
       "    .dataframe thead th {\n",
       "        text-align: right;\n",
       "    }\n",
       "</style>\n",
       "<table border=\"1\" class=\"dataframe\">\n",
       "  <thead>\n",
       "    <tr style=\"text-align: right;\">\n",
       "      <th></th>\n",
       "      <th>num_expediente</th>\n",
       "    </tr>\n",
       "    <tr>\n",
       "      <th>distrito</th>\n",
       "      <th></th>\n",
       "    </tr>\n",
       "  </thead>\n",
       "  <tbody>\n",
       "    <tr>\n",
       "      <th>Arganzuela</th>\n",
       "      <td>844</td>\n",
       "    </tr>\n",
       "    <tr>\n",
       "      <th>Barajas</th>\n",
       "      <td>315</td>\n",
       "    </tr>\n",
       "  </tbody>\n",
       "</table>\n",
       "</div>"
      ],
      "text/plain": [
       "            num_expediente\n",
       "distrito                  \n",
       "Arganzuela             844\n",
       "Barajas                315"
      ]
     },
     "execution_count": 43,
     "metadata": {},
     "output_type": "execute_result"
    }
   ],
   "source": [
    "df_pie_1 = pd.DataFrame(df_pie.groupby(['distrito'])[\"num_expediente\"].count())\n",
    "\n",
    "df_pie_1.head(2)"
   ]
  },
  {
   "cell_type": "markdown",
   "id": "1ecf23ca",
   "metadata": {},
   "source": [
    "Agrupación por dia de la semana"
   ]
  },
  {
   "cell_type": "code",
   "execution_count": 44,
   "id": "b05eb7a6",
   "metadata": {
    "scrolled": true
   },
   "outputs": [
    {
     "name": "stderr",
     "output_type": "stream",
     "text": [
      "/var/folders/hb/9zbycmb97bx0n1b4ggqr8s_c0000gn/T/ipykernel_58415/572054545.py:1: FutureWarning: Indexing with multiple keys (implicitly converted to a tuple of keys) will be deprecated, use a list instead.\n",
      "  df_pie_3 = pd.DataFrame(df_limpio.groupby(['num_expediente', 'dia_semana'])[\"tipo_vehiculo\", \"tipo_accidente\", \"tipo_persona\"].count())\n"
     ]
    },
    {
     "data": {
      "text/html": [
       "<div>\n",
       "<style scoped>\n",
       "    .dataframe tbody tr th:only-of-type {\n",
       "        vertical-align: middle;\n",
       "    }\n",
       "\n",
       "    .dataframe tbody tr th {\n",
       "        vertical-align: top;\n",
       "    }\n",
       "\n",
       "    .dataframe thead th {\n",
       "        text-align: right;\n",
       "    }\n",
       "</style>\n",
       "<table border=\"1\" class=\"dataframe\">\n",
       "  <thead>\n",
       "    <tr style=\"text-align: right;\">\n",
       "      <th></th>\n",
       "      <th></th>\n",
       "      <th>tipo_vehiculo</th>\n",
       "      <th>tipo_accidente</th>\n",
       "      <th>tipo_persona</th>\n",
       "    </tr>\n",
       "    <tr>\n",
       "      <th>num_expediente</th>\n",
       "      <th>dia_semana</th>\n",
       "      <th></th>\n",
       "      <th></th>\n",
       "      <th></th>\n",
       "    </tr>\n",
       "  </thead>\n",
       "  <tbody>\n",
       "    <tr>\n",
       "      <th>2020S019534</th>\n",
       "      <th>Friday</th>\n",
       "      <td>5</td>\n",
       "      <td>5</td>\n",
       "      <td>5</td>\n",
       "    </tr>\n",
       "  </tbody>\n",
       "</table>\n",
       "</div>"
      ],
      "text/plain": [
       "                           tipo_vehiculo  tipo_accidente  tipo_persona\n",
       "num_expediente dia_semana                                             \n",
       "2020S019534    Friday                  5               5             5"
      ]
     },
     "execution_count": 44,
     "metadata": {},
     "output_type": "execute_result"
    }
   ],
   "source": [
    "df_pie_3 = pd.DataFrame(df_limpio.groupby(['num_expediente', 'dia_semana'])[\"tipo_vehiculo\", \"tipo_accidente\", \"tipo_persona\"].count())\n",
    "\n",
    "df_pie_3.head(1)"
   ]
  },
  {
   "cell_type": "code",
   "execution_count": 45,
   "id": "0aeef6d3",
   "metadata": {
    "scrolled": true
   },
   "outputs": [
    {
     "data": {
      "text/html": [
       "<div>\n",
       "<style scoped>\n",
       "    .dataframe tbody tr th:only-of-type {\n",
       "        vertical-align: middle;\n",
       "    }\n",
       "\n",
       "    .dataframe tbody tr th {\n",
       "        vertical-align: top;\n",
       "    }\n",
       "\n",
       "    .dataframe thead th {\n",
       "        text-align: right;\n",
       "    }\n",
       "</style>\n",
       "<table border=\"1\" class=\"dataframe\">\n",
       "  <thead>\n",
       "    <tr style=\"text-align: right;\">\n",
       "      <th></th>\n",
       "      <th>num_expediente</th>\n",
       "      <th>dia_semana</th>\n",
       "      <th>tipo_vehiculo</th>\n",
       "      <th>tipo_accidente</th>\n",
       "      <th>tipo_persona</th>\n",
       "    </tr>\n",
       "  </thead>\n",
       "  <tbody>\n",
       "    <tr>\n",
       "      <th>0</th>\n",
       "      <td>2020S019534</td>\n",
       "      <td>Friday</td>\n",
       "      <td>5</td>\n",
       "      <td>5</td>\n",
       "      <td>5</td>\n",
       "    </tr>\n",
       "    <tr>\n",
       "      <th>1</th>\n",
       "      <td>2021S000001</td>\n",
       "      <td>Friday</td>\n",
       "      <td>5</td>\n",
       "      <td>5</td>\n",
       "      <td>5</td>\n",
       "    </tr>\n",
       "  </tbody>\n",
       "</table>\n",
       "</div>"
      ],
      "text/plain": [
       "  num_expediente dia_semana  tipo_vehiculo  tipo_accidente  tipo_persona\n",
       "0    2020S019534     Friday              5               5             5\n",
       "1    2021S000001     Friday              5               5             5"
      ]
     },
     "execution_count": 45,
     "metadata": {},
     "output_type": "execute_result"
    }
   ],
   "source": [
    "df_pie_3.reset_index(inplace = True)\n",
    "df_pie_3.head(2)"
   ]
  },
  {
   "cell_type": "code",
   "execution_count": 46,
   "id": "f9a359a9",
   "metadata": {},
   "outputs": [
    {
     "data": {
      "text/plain": [
       "(17952, 5)"
      ]
     },
     "execution_count": 46,
     "metadata": {},
     "output_type": "execute_result"
    }
   ],
   "source": [
    "df_pie_3.shape"
   ]
  },
  {
   "cell_type": "code",
   "execution_count": 47,
   "id": "2504066a",
   "metadata": {},
   "outputs": [
    {
     "data": {
      "text/html": [
       "<div>\n",
       "<style scoped>\n",
       "    .dataframe tbody tr th:only-of-type {\n",
       "        vertical-align: middle;\n",
       "    }\n",
       "\n",
       "    .dataframe tbody tr th {\n",
       "        vertical-align: top;\n",
       "    }\n",
       "\n",
       "    .dataframe thead th {\n",
       "        text-align: right;\n",
       "    }\n",
       "</style>\n",
       "<table border=\"1\" class=\"dataframe\">\n",
       "  <thead>\n",
       "    <tr style=\"text-align: right;\">\n",
       "      <th></th>\n",
       "      <th>num_expediente</th>\n",
       "    </tr>\n",
       "    <tr>\n",
       "      <th>dia_semana</th>\n",
       "      <th></th>\n",
       "    </tr>\n",
       "  </thead>\n",
       "  <tbody>\n",
       "    <tr>\n",
       "      <th>Friday</th>\n",
       "      <td>3099</td>\n",
       "    </tr>\n",
       "    <tr>\n",
       "      <th>Monday</th>\n",
       "      <td>2469</td>\n",
       "    </tr>\n",
       "  </tbody>\n",
       "</table>\n",
       "</div>"
      ],
      "text/plain": [
       "            num_expediente\n",
       "dia_semana                \n",
       "Friday                3099\n",
       "Monday                2469"
      ]
     },
     "execution_count": 47,
     "metadata": {},
     "output_type": "execute_result"
    }
   ],
   "source": [
    "df_pie_4 = pd.DataFrame(df_pie_3.groupby(['dia_semana'])[\"num_expediente\"].count())\n",
    "\n",
    "df_pie_4.head(2)"
   ]
  },
  {
   "cell_type": "markdown",
   "id": "f96984f7",
   "metadata": {},
   "source": [
    "# Coordenadas"
   ]
  },
  {
   "cell_type": "code",
   "execution_count": 48,
   "id": "764a7e9f",
   "metadata": {},
   "outputs": [
    {
     "data": {
      "text/plain": [
       "(40.43460948264402, -3.738180465794323)"
      ]
     },
     "execution_count": 48,
     "metadata": {},
     "output_type": "execute_result"
    }
   ],
   "source": [
    "test_coordenada = utm.to_latlon(437390.155, 4476258.031, 30, 'T')\n",
    "test_coordenada"
   ]
  },
  {
   "cell_type": "code",
   "execution_count": 49,
   "id": "7803d597",
   "metadata": {},
   "outputs": [],
   "source": [
    "latitud =test_coordenada[0]"
   ]
  },
  {
   "cell_type": "code",
   "execution_count": 50,
   "id": "f3fe4e6d",
   "metadata": {},
   "outputs": [],
   "source": [
    "longitud = test_coordenada[1]"
   ]
  },
  {
   "cell_type": "code",
   "execution_count": 51,
   "id": "7feaf465",
   "metadata": {},
   "outputs": [],
   "source": [
    "def utm_lat(lat, lon):\n",
    "    try:\n",
    "        coordenada = utm.to_latlon(lat, lon, 30, 'T')\n",
    "        return coordenada[0]\n",
    "    except:\n",
    "        return None"
   ]
  },
  {
   "cell_type": "code",
   "execution_count": 52,
   "id": "8b5cb576",
   "metadata": {},
   "outputs": [],
   "source": [
    "def utm_lon(lat, lon):\n",
    "    try:\n",
    "        coordenada = utm.to_latlon(lat, lon, 30, 'T')\n",
    "        return coordenada[1]\n",
    "    except:\n",
    "        return None"
   ]
  },
  {
   "cell_type": "code",
   "execution_count": 53,
   "id": "7259538d",
   "metadata": {},
   "outputs": [],
   "source": [
    "df_limpio[\"latitud\"] = df_limpio.apply(lambda datos: utm_lat\n",
    "                                           (datos[\"coordenada_x_utm\"],\n",
    "                                            datos[\"coordenada_y_utm\"]), axis =1)"
   ]
  },
  {
   "cell_type": "code",
   "execution_count": 54,
   "id": "5f1ab60e",
   "metadata": {},
   "outputs": [],
   "source": [
    "df_limpio[\"longitud\"] = df_limpio.apply(lambda datos: utm_lon\n",
    "                                           (datos[\"coordenada_x_utm\"],\n",
    "                                            datos[\"coordenada_y_utm\"]), axis =1)"
   ]
  },
  {
   "cell_type": "code",
   "execution_count": 55,
   "id": "d30150c9",
   "metadata": {
    "scrolled": true
   },
   "outputs": [
    {
     "data": {
      "text/html": [
       "<div>\n",
       "<style scoped>\n",
       "    .dataframe tbody tr th:only-of-type {\n",
       "        vertical-align: middle;\n",
       "    }\n",
       "\n",
       "    .dataframe tbody tr th {\n",
       "        vertical-align: top;\n",
       "    }\n",
       "\n",
       "    .dataframe thead th {\n",
       "        text-align: right;\n",
       "    }\n",
       "</style>\n",
       "<table border=\"1\" class=\"dataframe\">\n",
       "  <thead>\n",
       "    <tr style=\"text-align: right;\">\n",
       "      <th></th>\n",
       "      <th>num_expediente</th>\n",
       "      <th>fecha</th>\n",
       "      <th>hora</th>\n",
       "      <th>localizacion</th>\n",
       "      <th>numero</th>\n",
       "      <th>cod_distrito</th>\n",
       "      <th>distrito</th>\n",
       "      <th>tipo_accidente</th>\n",
       "      <th>estado_meteorológico</th>\n",
       "      <th>tipo_vehiculo</th>\n",
       "      <th>tipo_persona</th>\n",
       "      <th>rango_edad</th>\n",
       "      <th>sexo</th>\n",
       "      <th>lesividad</th>\n",
       "      <th>coordenada_x_utm</th>\n",
       "      <th>coordenada_y_utm</th>\n",
       "      <th>positiva_alcohol</th>\n",
       "      <th>dia_semana</th>\n",
       "      <th>latitud</th>\n",
       "      <th>longitud</th>\n",
       "    </tr>\n",
       "  </thead>\n",
       "  <tbody>\n",
       "    <tr>\n",
       "      <th>0</th>\n",
       "      <td>2020S019534</td>\n",
       "      <td>2021-01-01</td>\n",
       "      <td>04:30:00</td>\n",
       "      <td>Avda. pablo neruda / call. leoneses</td>\n",
       "      <td>57</td>\n",
       "      <td>13</td>\n",
       "      <td>Puente de vallecas</td>\n",
       "      <td>Colisión fronto-lateral</td>\n",
       "      <td>Despejado</td>\n",
       "      <td>Turismo</td>\n",
       "      <td>Conductor</td>\n",
       "      <td>De 30 a 34 años</td>\n",
       "      <td>Mujer</td>\n",
       "      <td>Sin asistencia sanitaria</td>\n",
       "      <td>444976.463</td>\n",
       "      <td>4470508.259</td>\n",
       "      <td>N</td>\n",
       "      <td>Friday</td>\n",
       "      <td>40.383349</td>\n",
       "      <td>-3.648245</td>\n",
       "    </tr>\n",
       "    <tr>\n",
       "      <th>1</th>\n",
       "      <td>2020S019534</td>\n",
       "      <td>2021-01-01</td>\n",
       "      <td>04:30:00</td>\n",
       "      <td>Avda. pablo neruda / call. leoneses</td>\n",
       "      <td>57</td>\n",
       "      <td>13</td>\n",
       "      <td>Puente de vallecas</td>\n",
       "      <td>Colisión fronto-lateral</td>\n",
       "      <td>Despejado</td>\n",
       "      <td>Turismo</td>\n",
       "      <td>Conductor</td>\n",
       "      <td>De 35 a 39 años</td>\n",
       "      <td>Hombre</td>\n",
       "      <td>Asistencia sanitaria sólo en el lugar del acci...</td>\n",
       "      <td>444976.463</td>\n",
       "      <td>4470508.259</td>\n",
       "      <td>N</td>\n",
       "      <td>Friday</td>\n",
       "      <td>40.383349</td>\n",
       "      <td>-3.648245</td>\n",
       "    </tr>\n",
       "    <tr>\n",
       "      <th>2</th>\n",
       "      <td>2020S019534</td>\n",
       "      <td>2021-01-01</td>\n",
       "      <td>04:30:00</td>\n",
       "      <td>Avda. pablo neruda / call. leoneses</td>\n",
       "      <td>57</td>\n",
       "      <td>13</td>\n",
       "      <td>Puente de vallecas</td>\n",
       "      <td>Colisión fronto-lateral</td>\n",
       "      <td>Despejado</td>\n",
       "      <td>Turismo</td>\n",
       "      <td>Conductor</td>\n",
       "      <td>Desconocido</td>\n",
       "      <td>Desconocido</td>\n",
       "      <td>Sin especificar</td>\n",
       "      <td>444976.463</td>\n",
       "      <td>4470508.259</td>\n",
       "      <td>N</td>\n",
       "      <td>Friday</td>\n",
       "      <td>40.383349</td>\n",
       "      <td>-3.648245</td>\n",
       "    </tr>\n",
       "    <tr>\n",
       "      <th>3</th>\n",
       "      <td>2020S019534</td>\n",
       "      <td>2021-01-01</td>\n",
       "      <td>04:30:00</td>\n",
       "      <td>Avda. pablo neruda / call. leoneses</td>\n",
       "      <td>57</td>\n",
       "      <td>13</td>\n",
       "      <td>Puente de vallecas</td>\n",
       "      <td>Colisión fronto-lateral</td>\n",
       "      <td>Despejado</td>\n",
       "      <td>Turismo</td>\n",
       "      <td>Pasajero</td>\n",
       "      <td>De 10 a 14 años</td>\n",
       "      <td>Hombre</td>\n",
       "      <td>Sin asistencia sanitaria</td>\n",
       "      <td>444976.463</td>\n",
       "      <td>4470508.259</td>\n",
       "      <td>N</td>\n",
       "      <td>Friday</td>\n",
       "      <td>40.383349</td>\n",
       "      <td>-3.648245</td>\n",
       "    </tr>\n",
       "    <tr>\n",
       "      <th>4</th>\n",
       "      <td>2020S019534</td>\n",
       "      <td>2021-01-01</td>\n",
       "      <td>04:30:00</td>\n",
       "      <td>Avda. pablo neruda / call. leoneses</td>\n",
       "      <td>57</td>\n",
       "      <td>13</td>\n",
       "      <td>Puente de vallecas</td>\n",
       "      <td>Colisión fronto-lateral</td>\n",
       "      <td>Despejado</td>\n",
       "      <td>Turismo</td>\n",
       "      <td>Pasajero</td>\n",
       "      <td>De 35 a 39 años</td>\n",
       "      <td>Mujer</td>\n",
       "      <td>Sin asistencia sanitaria</td>\n",
       "      <td>444976.463</td>\n",
       "      <td>4470508.259</td>\n",
       "      <td>N</td>\n",
       "      <td>Friday</td>\n",
       "      <td>40.383349</td>\n",
       "      <td>-3.648245</td>\n",
       "    </tr>\n",
       "  </tbody>\n",
       "</table>\n",
       "</div>"
      ],
      "text/plain": [
       "  num_expediente      fecha      hora                         localizacion  \\\n",
       "0    2020S019534 2021-01-01  04:30:00  Avda. pablo neruda / call. leoneses   \n",
       "1    2020S019534 2021-01-01  04:30:00  Avda. pablo neruda / call. leoneses   \n",
       "2    2020S019534 2021-01-01  04:30:00  Avda. pablo neruda / call. leoneses   \n",
       "3    2020S019534 2021-01-01  04:30:00  Avda. pablo neruda / call. leoneses   \n",
       "4    2020S019534 2021-01-01  04:30:00  Avda. pablo neruda / call. leoneses   \n",
       "\n",
       "  numero  cod_distrito            distrito           tipo_accidente  \\\n",
       "0     57            13  Puente de vallecas  Colisión fronto-lateral   \n",
       "1     57            13  Puente de vallecas  Colisión fronto-lateral   \n",
       "2     57            13  Puente de vallecas  Colisión fronto-lateral   \n",
       "3     57            13  Puente de vallecas  Colisión fronto-lateral   \n",
       "4     57            13  Puente de vallecas  Colisión fronto-lateral   \n",
       "\n",
       "  estado_meteorológico tipo_vehiculo tipo_persona       rango_edad  \\\n",
       "0            Despejado       Turismo    Conductor  De 30 a 34 años   \n",
       "1            Despejado       Turismo    Conductor  De 35 a 39 años   \n",
       "2            Despejado       Turismo    Conductor      Desconocido   \n",
       "3            Despejado       Turismo     Pasajero  De 10 a 14 años   \n",
       "4            Despejado       Turismo     Pasajero  De 35 a 39 años   \n",
       "\n",
       "          sexo                                          lesividad  \\\n",
       "0        Mujer                           Sin asistencia sanitaria   \n",
       "1       Hombre  Asistencia sanitaria sólo en el lugar del acci...   \n",
       "2  Desconocido                                    Sin especificar   \n",
       "3       Hombre                           Sin asistencia sanitaria   \n",
       "4        Mujer                           Sin asistencia sanitaria   \n",
       "\n",
       "   coordenada_x_utm  coordenada_y_utm positiva_alcohol dia_semana    latitud  \\\n",
       "0        444976.463       4470508.259                N     Friday  40.383349   \n",
       "1        444976.463       4470508.259                N     Friday  40.383349   \n",
       "2        444976.463       4470508.259                N     Friday  40.383349   \n",
       "3        444976.463       4470508.259                N     Friday  40.383349   \n",
       "4        444976.463       4470508.259                N     Friday  40.383349   \n",
       "\n",
       "   longitud  \n",
       "0 -3.648245  \n",
       "1 -3.648245  \n",
       "2 -3.648245  \n",
       "3 -3.648245  \n",
       "4 -3.648245  "
      ]
     },
     "execution_count": 55,
     "metadata": {},
     "output_type": "execute_result"
    }
   ],
   "source": [
    "df_limpio.head()"
   ]
  },
  {
   "cell_type": "code",
   "execution_count": 56,
   "id": "bb2dd39b",
   "metadata": {},
   "outputs": [
    {
     "data": {
      "text/plain": [
       "array(['2021-01-01T00:00:00.000000000', '2021-01-02T00:00:00.000000000',\n",
       "       '2021-01-03T00:00:00.000000000', '2021-01-04T00:00:00.000000000',\n",
       "       '2021-01-05T00:00:00.000000000', '2021-01-06T00:00:00.000000000',\n",
       "       '2021-01-07T00:00:00.000000000', '2021-01-08T00:00:00.000000000',\n",
       "       '2021-01-09T00:00:00.000000000', '2021-01-11T00:00:00.000000000',\n",
       "       '2021-01-12T00:00:00.000000000', '2021-01-13T00:00:00.000000000',\n",
       "       '2021-01-14T00:00:00.000000000', '2021-01-15T00:00:00.000000000',\n",
       "       '2021-01-16T00:00:00.000000000', '2021-01-17T00:00:00.000000000',\n",
       "       '2021-01-18T00:00:00.000000000', '2021-01-19T00:00:00.000000000',\n",
       "       '2021-01-20T00:00:00.000000000', '2021-01-21T00:00:00.000000000',\n",
       "       '2021-01-10T00:00:00.000000000', '2021-01-22T00:00:00.000000000',\n",
       "       '2021-01-23T00:00:00.000000000', '2021-01-24T00:00:00.000000000',\n",
       "       '2021-01-25T00:00:00.000000000', '2021-01-26T00:00:00.000000000',\n",
       "       '2021-01-27T00:00:00.000000000', '2021-01-28T00:00:00.000000000',\n",
       "       '2021-01-29T00:00:00.000000000', '2021-01-30T00:00:00.000000000',\n",
       "       '2021-01-31T00:00:00.000000000', '2021-02-01T00:00:00.000000000',\n",
       "       '2021-02-02T00:00:00.000000000', '2021-02-03T00:00:00.000000000',\n",
       "       '2021-02-04T00:00:00.000000000', '2021-02-05T00:00:00.000000000',\n",
       "       '2021-02-06T00:00:00.000000000', '2021-02-07T00:00:00.000000000',\n",
       "       '2021-02-10T00:00:00.000000000', '2021-02-08T00:00:00.000000000',\n",
       "       '2021-02-09T00:00:00.000000000', '2021-02-11T00:00:00.000000000',\n",
       "       '2021-02-12T00:00:00.000000000', '2021-02-13T00:00:00.000000000',\n",
       "       '2021-02-14T00:00:00.000000000', '2021-02-15T00:00:00.000000000',\n",
       "       '2021-02-16T00:00:00.000000000', '2021-02-17T00:00:00.000000000',\n",
       "       '2021-02-18T00:00:00.000000000', '2021-02-19T00:00:00.000000000',\n",
       "       '2021-02-20T00:00:00.000000000', '2021-02-21T00:00:00.000000000',\n",
       "       '2021-02-22T00:00:00.000000000', '2021-02-23T00:00:00.000000000',\n",
       "       '2021-02-24T00:00:00.000000000', '2021-02-25T00:00:00.000000000',\n",
       "       '2021-02-26T00:00:00.000000000', '2021-02-27T00:00:00.000000000',\n",
       "       '2021-02-28T00:00:00.000000000', '2021-03-01T00:00:00.000000000',\n",
       "       '2021-03-02T00:00:00.000000000', '2021-03-03T00:00:00.000000000',\n",
       "       '2021-03-04T00:00:00.000000000', '2021-03-05T00:00:00.000000000',\n",
       "       '2021-03-06T00:00:00.000000000', '2021-03-07T00:00:00.000000000',\n",
       "       '2021-03-08T00:00:00.000000000', '2021-03-09T00:00:00.000000000',\n",
       "       '2021-03-10T00:00:00.000000000', '2021-03-11T00:00:00.000000000',\n",
       "       '2021-03-12T00:00:00.000000000', '2021-03-13T00:00:00.000000000',\n",
       "       '2021-03-14T00:00:00.000000000', '2021-03-15T00:00:00.000000000',\n",
       "       '2021-03-16T00:00:00.000000000', '2021-03-17T00:00:00.000000000',\n",
       "       '2021-03-18T00:00:00.000000000', '2021-03-19T00:00:00.000000000',\n",
       "       '2021-03-20T00:00:00.000000000', '2021-03-21T00:00:00.000000000',\n",
       "       '2021-03-22T00:00:00.000000000', '2021-03-23T00:00:00.000000000',\n",
       "       '2021-03-24T00:00:00.000000000', '2021-03-25T00:00:00.000000000',\n",
       "       '2021-03-26T00:00:00.000000000', '2021-03-27T00:00:00.000000000',\n",
       "       '2021-03-28T00:00:00.000000000', '2021-03-29T00:00:00.000000000',\n",
       "       '2021-03-30T00:00:00.000000000', '2021-03-31T00:00:00.000000000',\n",
       "       '2021-04-01T00:00:00.000000000', '2021-04-02T00:00:00.000000000',\n",
       "       '2021-04-03T00:00:00.000000000', '2021-04-04T00:00:00.000000000',\n",
       "       '2021-04-05T00:00:00.000000000', '2021-04-06T00:00:00.000000000',\n",
       "       '2021-04-07T00:00:00.000000000', '2021-04-08T00:00:00.000000000',\n",
       "       '2021-04-09T00:00:00.000000000', '2021-04-10T00:00:00.000000000',\n",
       "       '2021-04-11T00:00:00.000000000', '2021-04-12T00:00:00.000000000',\n",
       "       '2021-04-13T00:00:00.000000000', '2021-04-14T00:00:00.000000000',\n",
       "       '2021-04-15T00:00:00.000000000', '2021-04-16T00:00:00.000000000',\n",
       "       '2021-04-17T00:00:00.000000000', '2021-04-18T00:00:00.000000000',\n",
       "       '2021-04-19T00:00:00.000000000', '2021-04-20T00:00:00.000000000',\n",
       "       '2021-04-21T00:00:00.000000000', '2021-04-22T00:00:00.000000000',\n",
       "       '2021-04-23T00:00:00.000000000', '2021-04-24T00:00:00.000000000',\n",
       "       '2021-04-25T00:00:00.000000000', '2021-04-26T00:00:00.000000000',\n",
       "       '2021-04-27T00:00:00.000000000', '2021-04-28T00:00:00.000000000',\n",
       "       '2021-04-29T00:00:00.000000000', '2021-04-30T00:00:00.000000000',\n",
       "       '2021-05-01T00:00:00.000000000', '2021-05-02T00:00:00.000000000',\n",
       "       '2021-05-03T00:00:00.000000000', '2021-05-04T00:00:00.000000000',\n",
       "       '2021-05-05T00:00:00.000000000', '2021-05-06T00:00:00.000000000',\n",
       "       '2021-05-07T00:00:00.000000000', '2021-05-08T00:00:00.000000000',\n",
       "       '2021-05-09T00:00:00.000000000', '2021-05-10T00:00:00.000000000',\n",
       "       '2021-05-11T00:00:00.000000000', '2021-05-12T00:00:00.000000000',\n",
       "       '2021-05-13T00:00:00.000000000', '2021-05-14T00:00:00.000000000',\n",
       "       '2021-05-15T00:00:00.000000000', '2021-05-16T00:00:00.000000000',\n",
       "       '2021-05-17T00:00:00.000000000', '2021-05-18T00:00:00.000000000',\n",
       "       '2021-05-19T00:00:00.000000000', '2021-05-20T00:00:00.000000000',\n",
       "       '2021-05-21T00:00:00.000000000', '2021-05-22T00:00:00.000000000',\n",
       "       '2021-05-23T00:00:00.000000000', '2021-05-24T00:00:00.000000000',\n",
       "       '2021-05-25T00:00:00.000000000', '2021-05-26T00:00:00.000000000',\n",
       "       '2021-05-27T00:00:00.000000000', '2021-05-28T00:00:00.000000000',\n",
       "       '2021-05-29T00:00:00.000000000', '2021-05-30T00:00:00.000000000',\n",
       "       '2021-05-31T00:00:00.000000000', '2021-06-01T00:00:00.000000000',\n",
       "       '2021-06-02T00:00:00.000000000', '2021-06-03T00:00:00.000000000',\n",
       "       '2021-06-04T00:00:00.000000000', '2021-06-05T00:00:00.000000000',\n",
       "       '2021-06-06T00:00:00.000000000', '2021-06-07T00:00:00.000000000',\n",
       "       '2021-06-08T00:00:00.000000000', '2021-06-09T00:00:00.000000000',\n",
       "       '2021-06-10T00:00:00.000000000', '2021-06-11T00:00:00.000000000',\n",
       "       '2021-06-12T00:00:00.000000000', '2021-06-13T00:00:00.000000000',\n",
       "       '2021-06-14T00:00:00.000000000', '2021-06-15T00:00:00.000000000',\n",
       "       '2021-06-16T00:00:00.000000000', '2021-06-17T00:00:00.000000000',\n",
       "       '2021-06-18T00:00:00.000000000', '2021-06-19T00:00:00.000000000',\n",
       "       '2021-06-20T00:00:00.000000000', '2021-06-21T00:00:00.000000000',\n",
       "       '2021-06-22T00:00:00.000000000', '2021-06-23T00:00:00.000000000',\n",
       "       '2021-06-24T00:00:00.000000000', '2021-06-25T00:00:00.000000000',\n",
       "       '2021-06-26T00:00:00.000000000', '2021-06-27T00:00:00.000000000',\n",
       "       '2021-06-28T00:00:00.000000000', '2021-06-29T00:00:00.000000000',\n",
       "       '2021-06-30T00:00:00.000000000', '2021-07-01T00:00:00.000000000',\n",
       "       '2021-07-02T00:00:00.000000000', '2021-07-03T00:00:00.000000000',\n",
       "       '2021-07-04T00:00:00.000000000', '2021-07-05T00:00:00.000000000',\n",
       "       '2021-07-06T00:00:00.000000000', '2021-07-07T00:00:00.000000000',\n",
       "       '2021-07-08T00:00:00.000000000', '2021-07-09T00:00:00.000000000',\n",
       "       '2021-07-10T00:00:00.000000000', '2021-07-11T00:00:00.000000000',\n",
       "       '2021-07-12T00:00:00.000000000', '2021-07-13T00:00:00.000000000',\n",
       "       '2021-07-14T00:00:00.000000000', '2021-07-15T00:00:00.000000000',\n",
       "       '2021-07-16T00:00:00.000000000', '2021-07-17T00:00:00.000000000',\n",
       "       '2021-07-18T00:00:00.000000000', '2021-07-19T00:00:00.000000000',\n",
       "       '2021-07-20T00:00:00.000000000', '2021-07-21T00:00:00.000000000',\n",
       "       '2021-07-22T00:00:00.000000000', '2021-07-23T00:00:00.000000000',\n",
       "       '2021-07-24T00:00:00.000000000', '2021-07-25T00:00:00.000000000',\n",
       "       '2021-07-26T00:00:00.000000000', '2021-07-27T00:00:00.000000000',\n",
       "       '2021-07-28T00:00:00.000000000', '2021-07-29T00:00:00.000000000',\n",
       "       '2021-07-30T00:00:00.000000000', '2021-07-31T00:00:00.000000000',\n",
       "       '2021-08-01T00:00:00.000000000', '2021-08-02T00:00:00.000000000',\n",
       "       '2021-08-03T00:00:00.000000000', '2021-08-04T00:00:00.000000000',\n",
       "       '2021-08-05T00:00:00.000000000', '2021-08-06T00:00:00.000000000',\n",
       "       '2021-08-07T00:00:00.000000000', '2021-08-08T00:00:00.000000000',\n",
       "       '2021-08-09T00:00:00.000000000', '2021-08-10T00:00:00.000000000',\n",
       "       '2021-08-11T00:00:00.000000000', '2021-08-12T00:00:00.000000000',\n",
       "       '2021-08-13T00:00:00.000000000', '2021-08-14T00:00:00.000000000',\n",
       "       '2021-08-15T00:00:00.000000000', '2021-08-16T00:00:00.000000000',\n",
       "       '2021-08-17T00:00:00.000000000', '2021-08-18T00:00:00.000000000',\n",
       "       '2021-08-19T00:00:00.000000000', '2021-08-20T00:00:00.000000000',\n",
       "       '2021-08-21T00:00:00.000000000', '2021-08-22T00:00:00.000000000',\n",
       "       '2021-08-23T00:00:00.000000000', '2021-08-24T00:00:00.000000000',\n",
       "       '2021-08-25T00:00:00.000000000', '2021-08-26T00:00:00.000000000',\n",
       "       '2021-08-27T00:00:00.000000000', '2021-08-28T00:00:00.000000000',\n",
       "       '2021-08-29T00:00:00.000000000', '2021-08-30T00:00:00.000000000',\n",
       "       '2021-08-31T00:00:00.000000000', '2021-09-01T00:00:00.000000000',\n",
       "       '2021-09-02T00:00:00.000000000', '2021-09-03T00:00:00.000000000',\n",
       "       '2021-09-04T00:00:00.000000000', '2021-09-05T00:00:00.000000000',\n",
       "       '2021-09-06T00:00:00.000000000', '2021-09-07T00:00:00.000000000',\n",
       "       '2021-09-08T00:00:00.000000000', '2021-09-09T00:00:00.000000000',\n",
       "       '2021-09-10T00:00:00.000000000', '2021-09-11T00:00:00.000000000',\n",
       "       '2021-09-12T00:00:00.000000000', '2021-09-13T00:00:00.000000000',\n",
       "       '2021-09-14T00:00:00.000000000', '2021-09-15T00:00:00.000000000',\n",
       "       '2021-09-16T00:00:00.000000000', '2021-09-17T00:00:00.000000000',\n",
       "       '2021-09-18T00:00:00.000000000', '2021-09-19T00:00:00.000000000',\n",
       "       '2021-09-20T00:00:00.000000000', '2021-09-21T00:00:00.000000000',\n",
       "       '2021-09-22T00:00:00.000000000', '2021-09-23T00:00:00.000000000',\n",
       "       '2021-09-24T00:00:00.000000000', '2021-09-25T00:00:00.000000000',\n",
       "       '2021-09-26T00:00:00.000000000', '2021-09-27T00:00:00.000000000',\n",
       "       '2021-09-28T00:00:00.000000000', '2021-09-29T00:00:00.000000000',\n",
       "       '2021-09-30T00:00:00.000000000', '2021-10-01T00:00:00.000000000',\n",
       "       '2021-10-02T00:00:00.000000000', '2021-10-03T00:00:00.000000000',\n",
       "       '2021-10-04T00:00:00.000000000', '2021-10-05T00:00:00.000000000',\n",
       "       '2021-10-06T00:00:00.000000000', '2021-10-07T00:00:00.000000000',\n",
       "       '2021-10-08T00:00:00.000000000', '2021-10-09T00:00:00.000000000',\n",
       "       '2021-10-10T00:00:00.000000000', '2021-10-11T00:00:00.000000000',\n",
       "       '2021-10-12T00:00:00.000000000', '2021-10-13T00:00:00.000000000',\n",
       "       '2021-10-14T00:00:00.000000000', '2021-10-15T00:00:00.000000000',\n",
       "       '2021-10-16T00:00:00.000000000', '2021-10-17T00:00:00.000000000',\n",
       "       '2021-10-18T00:00:00.000000000', '2021-10-19T00:00:00.000000000',\n",
       "       '2021-10-20T00:00:00.000000000', '2021-10-21T00:00:00.000000000',\n",
       "       '2021-10-22T00:00:00.000000000', '2021-10-23T00:00:00.000000000',\n",
       "       '2021-10-24T00:00:00.000000000', '2021-10-25T00:00:00.000000000',\n",
       "       '2021-10-26T00:00:00.000000000', '2021-10-27T00:00:00.000000000',\n",
       "       '2021-10-28T00:00:00.000000000', '2021-11-10T00:00:00.000000000',\n",
       "       '2021-10-30T00:00:00.000000000', '2021-10-29T00:00:00.000000000',\n",
       "       '2021-10-31T00:00:00.000000000', '2021-11-01T00:00:00.000000000',\n",
       "       '2021-11-02T00:00:00.000000000', '2021-11-03T00:00:00.000000000',\n",
       "       '2021-11-04T00:00:00.000000000', '2021-11-05T00:00:00.000000000',\n",
       "       '2021-11-12T00:00:00.000000000', '2021-11-23T00:00:00.000000000',\n",
       "       '2021-11-20T00:00:00.000000000', '2021-11-21T00:00:00.000000000',\n",
       "       '2021-12-01T00:00:00.000000000', '2021-11-13T00:00:00.000000000',\n",
       "       '2021-11-06T00:00:00.000000000', '2021-11-07T00:00:00.000000000',\n",
       "       '2021-11-08T00:00:00.000000000', '2021-11-09T00:00:00.000000000',\n",
       "       '2021-11-11T00:00:00.000000000', '2021-11-14T00:00:00.000000000',\n",
       "       '2021-11-15T00:00:00.000000000', '2021-11-16T00:00:00.000000000',\n",
       "       '2021-11-17T00:00:00.000000000', '2021-11-18T00:00:00.000000000',\n",
       "       '2021-11-19T00:00:00.000000000', '2021-12-02T00:00:00.000000000',\n",
       "       '2021-11-22T00:00:00.000000000', '2021-11-24T00:00:00.000000000',\n",
       "       '2021-11-25T00:00:00.000000000', '2021-11-26T00:00:00.000000000',\n",
       "       '2021-11-27T00:00:00.000000000', '2021-12-10T00:00:00.000000000',\n",
       "       '2021-11-28T00:00:00.000000000', '2021-11-29T00:00:00.000000000',\n",
       "       '2021-11-30T00:00:00.000000000', '2021-12-03T00:00:00.000000000',\n",
       "       '2021-12-04T00:00:00.000000000', '2021-12-05T00:00:00.000000000',\n",
       "       '2021-12-06T00:00:00.000000000', '2021-12-07T00:00:00.000000000',\n",
       "       '2021-12-08T00:00:00.000000000', '2021-12-09T00:00:00.000000000',\n",
       "       '2021-12-12T00:00:00.000000000', '2021-12-11T00:00:00.000000000',\n",
       "       '2021-12-13T00:00:00.000000000', '2021-12-14T00:00:00.000000000',\n",
       "       '2021-12-15T00:00:00.000000000', '2021-12-20T00:00:00.000000000',\n",
       "       '2021-12-16T00:00:00.000000000', '2021-12-17T00:00:00.000000000',\n",
       "       '2021-12-18T00:00:00.000000000', '2021-12-19T00:00:00.000000000',\n",
       "       '2021-12-21T00:00:00.000000000', '2021-12-22T00:00:00.000000000',\n",
       "       '2021-12-23T00:00:00.000000000', '2021-12-24T00:00:00.000000000',\n",
       "       '2021-12-26T00:00:00.000000000', '2021-12-25T00:00:00.000000000',\n",
       "       '2021-12-27T00:00:00.000000000', '2021-12-28T00:00:00.000000000',\n",
       "       '2021-12-29T00:00:00.000000000', '2021-12-30T00:00:00.000000000',\n",
       "       '2021-12-31T00:00:00.000000000'], dtype='datetime64[ns]')"
      ]
     },
     "execution_count": 56,
     "metadata": {},
     "output_type": "execute_result"
    }
   ],
   "source": [
    "df_limpio[\"fecha\"].unique()"
   ]
  },
  {
   "cell_type": "markdown",
   "id": "8cd8ace5",
   "metadata": {},
   "source": [
    "# Guardamos CSV"
   ]
  },
  {
   "cell_type": "code",
   "execution_count": 57,
   "id": "ed141f97",
   "metadata": {},
   "outputs": [],
   "source": [
    "df_limpio.to_excel(\"../Data/df_limpio_transformado.xlsx\")"
   ]
  }
 ],
 "metadata": {
  "kernelspec": {
   "display_name": "Python 3 (ipykernel)",
   "language": "python",
   "name": "python3"
  },
  "language_info": {
   "codemirror_mode": {
    "name": "ipython",
    "version": 3
   },
   "file_extension": ".py",
   "mimetype": "text/x-python",
   "name": "python",
   "nbconvert_exporter": "python",
   "pygments_lexer": "ipython3",
   "version": "3.9.7"
  }
 },
 "nbformat": 4,
 "nbformat_minor": 5
}
