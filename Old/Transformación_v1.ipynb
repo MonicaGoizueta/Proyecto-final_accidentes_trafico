{
 "cells": [
  {
   "cell_type": "code",
   "execution_count": 1,
   "id": "ab4a8e73",
   "metadata": {},
   "outputs": [],
   "source": [
    "import pandas as pd\n",
    "import numpy as np\n",
    "import datetime\n",
    "import time\n",
    "import utm\n",
    "from pyproj import Proj\n",
    "\n",
    "pd.options.display.max_columns = None"
   ]
  },
  {
   "cell_type": "code",
   "execution_count": 2,
   "id": "8fe3e667",
   "metadata": {
    "scrolled": true
   },
   "outputs": [
    {
     "ename": "FileNotFoundError",
     "evalue": "[Errno 2] No such file or directory: '2021_Accidentalidad.xlsx'",
     "output_type": "error",
     "traceback": [
      "\u001b[0;31m---------------------------------------------------------------------------\u001b[0m",
      "\u001b[0;31mFileNotFoundError\u001b[0m                         Traceback (most recent call last)",
      "Input \u001b[0;32mIn [2]\u001b[0m, in \u001b[0;36m<cell line: 1>\u001b[0;34m()\u001b[0m\n\u001b[0;32m----> 1\u001b[0m df \u001b[38;5;241m=\u001b[39m \u001b[43mpd\u001b[49m\u001b[38;5;241;43m.\u001b[39;49m\u001b[43mread_excel\u001b[49m\u001b[43m(\u001b[49m\u001b[38;5;124;43m\"\u001b[39;49m\u001b[38;5;124;43m2021_Accidentalidad.xlsx\u001b[39;49m\u001b[38;5;124;43m\"\u001b[39;49m\u001b[43m)\u001b[49m\n\u001b[1;32m      2\u001b[0m df\u001b[38;5;241m.\u001b[39mhead(\u001b[38;5;241m2\u001b[39m)\n",
      "File \u001b[0;32m/usr/local/Caskroom/miniconda/base/lib/python3.9/site-packages/pandas/util/_decorators.py:311\u001b[0m, in \u001b[0;36mdeprecate_nonkeyword_arguments.<locals>.decorate.<locals>.wrapper\u001b[0;34m(*args, **kwargs)\u001b[0m\n\u001b[1;32m    305\u001b[0m \u001b[38;5;28;01mif\u001b[39;00m \u001b[38;5;28mlen\u001b[39m(args) \u001b[38;5;241m>\u001b[39m num_allow_args:\n\u001b[1;32m    306\u001b[0m     warnings\u001b[38;5;241m.\u001b[39mwarn(\n\u001b[1;32m    307\u001b[0m         msg\u001b[38;5;241m.\u001b[39mformat(arguments\u001b[38;5;241m=\u001b[39marguments),\n\u001b[1;32m    308\u001b[0m         \u001b[38;5;167;01mFutureWarning\u001b[39;00m,\n\u001b[1;32m    309\u001b[0m         stacklevel\u001b[38;5;241m=\u001b[39mstacklevel,\n\u001b[1;32m    310\u001b[0m     )\n\u001b[0;32m--> 311\u001b[0m \u001b[38;5;28;01mreturn\u001b[39;00m \u001b[43mfunc\u001b[49m\u001b[43m(\u001b[49m\u001b[38;5;241;43m*\u001b[39;49m\u001b[43margs\u001b[49m\u001b[43m,\u001b[49m\u001b[43m \u001b[49m\u001b[38;5;241;43m*\u001b[39;49m\u001b[38;5;241;43m*\u001b[39;49m\u001b[43mkwargs\u001b[49m\u001b[43m)\u001b[49m\n",
      "File \u001b[0;32m/usr/local/Caskroom/miniconda/base/lib/python3.9/site-packages/pandas/io/excel/_base.py:457\u001b[0m, in \u001b[0;36mread_excel\u001b[0;34m(io, sheet_name, header, names, index_col, usecols, squeeze, dtype, engine, converters, true_values, false_values, skiprows, nrows, na_values, keep_default_na, na_filter, verbose, parse_dates, date_parser, thousands, decimal, comment, skipfooter, convert_float, mangle_dupe_cols, storage_options)\u001b[0m\n\u001b[1;32m    455\u001b[0m \u001b[38;5;28;01mif\u001b[39;00m \u001b[38;5;129;01mnot\u001b[39;00m \u001b[38;5;28misinstance\u001b[39m(io, ExcelFile):\n\u001b[1;32m    456\u001b[0m     should_close \u001b[38;5;241m=\u001b[39m \u001b[38;5;28;01mTrue\u001b[39;00m\n\u001b[0;32m--> 457\u001b[0m     io \u001b[38;5;241m=\u001b[39m \u001b[43mExcelFile\u001b[49m\u001b[43m(\u001b[49m\u001b[43mio\u001b[49m\u001b[43m,\u001b[49m\u001b[43m \u001b[49m\u001b[43mstorage_options\u001b[49m\u001b[38;5;241;43m=\u001b[39;49m\u001b[43mstorage_options\u001b[49m\u001b[43m,\u001b[49m\u001b[43m \u001b[49m\u001b[43mengine\u001b[49m\u001b[38;5;241;43m=\u001b[39;49m\u001b[43mengine\u001b[49m\u001b[43m)\u001b[49m\n\u001b[1;32m    458\u001b[0m \u001b[38;5;28;01melif\u001b[39;00m engine \u001b[38;5;129;01mand\u001b[39;00m engine \u001b[38;5;241m!=\u001b[39m io\u001b[38;5;241m.\u001b[39mengine:\n\u001b[1;32m    459\u001b[0m     \u001b[38;5;28;01mraise\u001b[39;00m \u001b[38;5;167;01mValueError\u001b[39;00m(\n\u001b[1;32m    460\u001b[0m         \u001b[38;5;124m\"\u001b[39m\u001b[38;5;124mEngine should not be specified when passing \u001b[39m\u001b[38;5;124m\"\u001b[39m\n\u001b[1;32m    461\u001b[0m         \u001b[38;5;124m\"\u001b[39m\u001b[38;5;124man ExcelFile - ExcelFile already has the engine set\u001b[39m\u001b[38;5;124m\"\u001b[39m\n\u001b[1;32m    462\u001b[0m     )\n",
      "File \u001b[0;32m/usr/local/Caskroom/miniconda/base/lib/python3.9/site-packages/pandas/io/excel/_base.py:1376\u001b[0m, in \u001b[0;36mExcelFile.__init__\u001b[0;34m(self, path_or_buffer, engine, storage_options)\u001b[0m\n\u001b[1;32m   1374\u001b[0m     ext \u001b[38;5;241m=\u001b[39m \u001b[38;5;124m\"\u001b[39m\u001b[38;5;124mxls\u001b[39m\u001b[38;5;124m\"\u001b[39m\n\u001b[1;32m   1375\u001b[0m \u001b[38;5;28;01melse\u001b[39;00m:\n\u001b[0;32m-> 1376\u001b[0m     ext \u001b[38;5;241m=\u001b[39m \u001b[43minspect_excel_format\u001b[49m\u001b[43m(\u001b[49m\n\u001b[1;32m   1377\u001b[0m \u001b[43m        \u001b[49m\u001b[43mcontent_or_path\u001b[49m\u001b[38;5;241;43m=\u001b[39;49m\u001b[43mpath_or_buffer\u001b[49m\u001b[43m,\u001b[49m\u001b[43m \u001b[49m\u001b[43mstorage_options\u001b[49m\u001b[38;5;241;43m=\u001b[39;49m\u001b[43mstorage_options\u001b[49m\n\u001b[1;32m   1378\u001b[0m \u001b[43m    \u001b[49m\u001b[43m)\u001b[49m\n\u001b[1;32m   1379\u001b[0m     \u001b[38;5;28;01mif\u001b[39;00m ext \u001b[38;5;129;01mis\u001b[39;00m \u001b[38;5;28;01mNone\u001b[39;00m:\n\u001b[1;32m   1380\u001b[0m         \u001b[38;5;28;01mraise\u001b[39;00m \u001b[38;5;167;01mValueError\u001b[39;00m(\n\u001b[1;32m   1381\u001b[0m             \u001b[38;5;124m\"\u001b[39m\u001b[38;5;124mExcel file format cannot be determined, you must specify \u001b[39m\u001b[38;5;124m\"\u001b[39m\n\u001b[1;32m   1382\u001b[0m             \u001b[38;5;124m\"\u001b[39m\u001b[38;5;124man engine manually.\u001b[39m\u001b[38;5;124m\"\u001b[39m\n\u001b[1;32m   1383\u001b[0m         )\n",
      "File \u001b[0;32m/usr/local/Caskroom/miniconda/base/lib/python3.9/site-packages/pandas/io/excel/_base.py:1250\u001b[0m, in \u001b[0;36minspect_excel_format\u001b[0;34m(content_or_path, storage_options)\u001b[0m\n\u001b[1;32m   1247\u001b[0m \u001b[38;5;28;01mif\u001b[39;00m \u001b[38;5;28misinstance\u001b[39m(content_or_path, \u001b[38;5;28mbytes\u001b[39m):\n\u001b[1;32m   1248\u001b[0m     content_or_path \u001b[38;5;241m=\u001b[39m BytesIO(content_or_path)\n\u001b[0;32m-> 1250\u001b[0m \u001b[38;5;28;01mwith\u001b[39;00m \u001b[43mget_handle\u001b[49m\u001b[43m(\u001b[49m\n\u001b[1;32m   1251\u001b[0m \u001b[43m    \u001b[49m\u001b[43mcontent_or_path\u001b[49m\u001b[43m,\u001b[49m\u001b[43m \u001b[49m\u001b[38;5;124;43m\"\u001b[39;49m\u001b[38;5;124;43mrb\u001b[39;49m\u001b[38;5;124;43m\"\u001b[39;49m\u001b[43m,\u001b[49m\u001b[43m \u001b[49m\u001b[43mstorage_options\u001b[49m\u001b[38;5;241;43m=\u001b[39;49m\u001b[43mstorage_options\u001b[49m\u001b[43m,\u001b[49m\u001b[43m \u001b[49m\u001b[43mis_text\u001b[49m\u001b[38;5;241;43m=\u001b[39;49m\u001b[38;5;28;43;01mFalse\u001b[39;49;00m\n\u001b[1;32m   1252\u001b[0m \u001b[43m\u001b[49m\u001b[43m)\u001b[49m \u001b[38;5;28;01mas\u001b[39;00m handle:\n\u001b[1;32m   1253\u001b[0m     stream \u001b[38;5;241m=\u001b[39m handle\u001b[38;5;241m.\u001b[39mhandle\n\u001b[1;32m   1254\u001b[0m     stream\u001b[38;5;241m.\u001b[39mseek(\u001b[38;5;241m0\u001b[39m)\n",
      "File \u001b[0;32m/usr/local/Caskroom/miniconda/base/lib/python3.9/site-packages/pandas/io/common.py:798\u001b[0m, in \u001b[0;36mget_handle\u001b[0;34m(path_or_buf, mode, encoding, compression, memory_map, is_text, errors, storage_options)\u001b[0m\n\u001b[1;32m    789\u001b[0m         handle \u001b[38;5;241m=\u001b[39m \u001b[38;5;28mopen\u001b[39m(\n\u001b[1;32m    790\u001b[0m             handle,\n\u001b[1;32m    791\u001b[0m             ioargs\u001b[38;5;241m.\u001b[39mmode,\n\u001b[0;32m   (...)\u001b[0m\n\u001b[1;32m    794\u001b[0m             newline\u001b[38;5;241m=\u001b[39m\u001b[38;5;124m\"\u001b[39m\u001b[38;5;124m\"\u001b[39m,\n\u001b[1;32m    795\u001b[0m         )\n\u001b[1;32m    796\u001b[0m     \u001b[38;5;28;01melse\u001b[39;00m:\n\u001b[1;32m    797\u001b[0m         \u001b[38;5;66;03m# Binary mode\u001b[39;00m\n\u001b[0;32m--> 798\u001b[0m         handle \u001b[38;5;241m=\u001b[39m \u001b[38;5;28;43mopen\u001b[39;49m\u001b[43m(\u001b[49m\u001b[43mhandle\u001b[49m\u001b[43m,\u001b[49m\u001b[43m \u001b[49m\u001b[43mioargs\u001b[49m\u001b[38;5;241;43m.\u001b[39;49m\u001b[43mmode\u001b[49m\u001b[43m)\u001b[49m\n\u001b[1;32m    799\u001b[0m     handles\u001b[38;5;241m.\u001b[39mappend(handle)\n\u001b[1;32m    801\u001b[0m \u001b[38;5;66;03m# Convert BytesIO or file objects passed with an encoding\u001b[39;00m\n",
      "\u001b[0;31mFileNotFoundError\u001b[0m: [Errno 2] No such file or directory: '2021_Accidentalidad.xlsx'"
     ]
    }
   ],
   "source": [
    "df = pd.read_excel(\"2021_Accidentalidad.xlsx\")\n",
    "df.head(2)"
   ]
  },
  {
   "cell_type": "markdown",
   "id": "bc423f96",
   "metadata": {},
   "source": [
    "# Duplicados"
   ]
  },
  {
   "cell_type": "markdown",
   "id": "e3c7e13a",
   "metadata": {},
   "source": [
    "Eliminamos duplicados"
   ]
  },
  {
   "cell_type": "code",
   "execution_count": null,
   "id": "3e3e59c1",
   "metadata": {},
   "outputs": [],
   "source": [
    "df.drop_duplicates(inplace = True)"
   ]
  },
  {
   "cell_type": "markdown",
   "id": "1f5329aa",
   "metadata": {},
   "source": [
    "# Tipado de columnas"
   ]
  },
  {
   "cell_type": "code",
   "execution_count": null,
   "id": "22adad36",
   "metadata": {
    "scrolled": false
   },
   "outputs": [],
   "source": [
    "df.dtypes"
   ]
  },
  {
   "cell_type": "markdown",
   "id": "cfe32d0b",
   "metadata": {},
   "source": [
    "Cambiamos el tipado de columnas que queremos"
   ]
  },
  {
   "cell_type": "code",
   "execution_count": null,
   "id": "81a300fa",
   "metadata": {},
   "outputs": [],
   "source": [
    "df['cod_distrito'] = pd.to_numeric(df[\"cod_distrito\"], errors='coerce').astype('Int64')\n",
    "df['cod_lesividad'] = pd.to_numeric(df[\"cod_lesividad\"], errors='coerce').astype('Int64')\n",
    "df[\"positiva_droga\"] = df[\"positiva_droga\"].astype(\"category\")"
   ]
  },
  {
   "cell_type": "code",
   "execution_count": null,
   "id": "49b80fb2",
   "metadata": {
    "scrolled": true
   },
   "outputs": [],
   "source": [
    "df.shape"
   ]
  },
  {
   "cell_type": "markdown",
   "id": "95e8033a",
   "metadata": {},
   "source": [
    "# Añadimos columnas"
   ]
  },
  {
   "cell_type": "markdown",
   "id": "861b950e",
   "metadata": {},
   "source": [
    "Añadimos columna de interés como el día de la semana"
   ]
  },
  {
   "cell_type": "code",
   "execution_count": null,
   "id": "f67ef628",
   "metadata": {},
   "outputs": [],
   "source": [
    "df['dia_semana'] = df['fecha'].dt.day_name()"
   ]
  },
  {
   "cell_type": "code",
   "execution_count": null,
   "id": "ad85245b",
   "metadata": {
    "scrolled": true
   },
   "outputs": [],
   "source": [
    "df.head(1)"
   ]
  },
  {
   "cell_type": "markdown",
   "id": "33de5e34",
   "metadata": {},
   "source": [
    "# Eliminamos columnas"
   ]
  },
  {
   "cell_type": "markdown",
   "id": "8cbe3213",
   "metadata": {},
   "source": [
    "Eliminamos la columna de \"positiva_droga\" por tener la mayoría de campos en nulo y no aportar gran valor"
   ]
  },
  {
   "cell_type": "code",
   "execution_count": null,
   "id": "8683732e",
   "metadata": {},
   "outputs": [],
   "source": [
    "df_limpio = df.drop([\"positiva_droga\"], axis = 1)"
   ]
  },
  {
   "cell_type": "code",
   "execution_count": null,
   "id": "9c028402",
   "metadata": {},
   "outputs": [],
   "source": [
    "df_limpio.head(1)"
   ]
  },
  {
   "cell_type": "markdown",
   "id": "5015efe6",
   "metadata": {},
   "source": [
    "# Gestión de Nulos"
   ]
  },
  {
   "cell_type": "markdown",
   "id": "8f96cf96",
   "metadata": {},
   "source": [
    "Eliminamos o sustituimos Nulos"
   ]
  },
  {
   "cell_type": "code",
   "execution_count": null,
   "id": "e54f448c",
   "metadata": {
    "scrolled": false
   },
   "outputs": [],
   "source": [
    "df_limpio.isnull().sum()"
   ]
  },
  {
   "cell_type": "markdown",
   "id": "7e947f1a",
   "metadata": {},
   "source": [
    "1️⃣ Columna \"positiva_alcohol\""
   ]
  },
  {
   "cell_type": "code",
   "execution_count": null,
   "id": "fa94e551",
   "metadata": {},
   "outputs": [],
   "source": [
    "df_limpio[\"positiva_alcohol\"].unique()"
   ]
  },
  {
   "cell_type": "code",
   "execution_count": null,
   "id": "ec26b461",
   "metadata": {
    "scrolled": false
   },
   "outputs": [],
   "source": [
    "df_limpio[\"positiva_alcohol\"].value_counts()"
   ]
  },
  {
   "cell_type": "markdown",
   "id": "238910ae",
   "metadata": {},
   "source": [
    "Sustituimos los nulos de la columna \"positiva_alcohol\" por \"Sin especificar\""
   ]
  },
  {
   "cell_type": "code",
   "execution_count": null,
   "id": "9dd7c52c",
   "metadata": {},
   "outputs": [],
   "source": [
    "df_limpio['positiva_alcohol'] = df['positiva_alcohol'].fillna(\"Sin especificar\")"
   ]
  },
  {
   "cell_type": "markdown",
   "id": "94cc4474",
   "metadata": {},
   "source": [
    "2️⃣ Columna \"tipo_accidente\""
   ]
  },
  {
   "cell_type": "code",
   "execution_count": null,
   "id": "dbd3a963",
   "metadata": {},
   "outputs": [],
   "source": [
    "df_limpio[\"tipo_accidente\"].unique()"
   ]
  },
  {
   "cell_type": "markdown",
   "id": "ef351837",
   "metadata": {},
   "source": [
    "Sustituimos los nulos de la columna \"tipo_accidente\" por \"Otro\""
   ]
  },
  {
   "cell_type": "code",
   "execution_count": null,
   "id": "abe7e903",
   "metadata": {
    "scrolled": true
   },
   "outputs": [],
   "source": [
    "df_limpio['tipo_accidente'] = df['tipo_accidente'].fillna(\"Otro\")"
   ]
  },
  {
   "cell_type": "markdown",
   "id": "8ffffa2f",
   "metadata": {},
   "source": [
    "3️⃣ Columna \"Tipo_vehiculo\""
   ]
  },
  {
   "cell_type": "code",
   "execution_count": null,
   "id": "93da9433",
   "metadata": {
    "scrolled": true
   },
   "outputs": [],
   "source": [
    "df_limpio[\"tipo_vehiculo\"].unique()"
   ]
  },
  {
   "cell_type": "code",
   "execution_count": null,
   "id": "36b2616e",
   "metadata": {
    "scrolled": true
   },
   "outputs": [],
   "source": [
    "df_limpio[\"tipo_vehiculo\"].value_counts() / df_limpio.shape[0] * 100"
   ]
  },
  {
   "cell_type": "markdown",
   "id": "46239000",
   "metadata": {},
   "source": [
    "Todos los tipos de vehículo con una representación muy baja los agrupamos en \"Otros\""
   ]
  },
  {
   "cell_type": "code",
   "execution_count": null,
   "id": "0e6685fd",
   "metadata": {},
   "outputs": [],
   "source": [
    "df_limpio ['tipo_vehiculo'] = df_limpio ['tipo_vehiculo']. replace ([\n",
    "       'Sin especificar', 'Maquinaria de obras',\n",
    "       'Tractocamión', 'Otros vehículos con motor',\n",
    "       'Cuadriciclo no ligero', 'Vehículo articulado', 'Autocaravana',\n",
    "       'Bicicleta EPAC (pedaleo asistido)', 'Autobús articulado',\n",
    "       'Autobus EMT', 'Ambulancia SAMUR', 'Cuadriciclo ligero',\n",
    "       'Patinete', 'Ciclomotor de tres ruedas', 'Semiremolque',\n",
    "       'Moto de tres ruedas > 125cc', 'Ciclo', 'Maquinaria agrícola',\n",
    "       'Remolque', 'Moto de tres ruedas hasta 125cc',\n",
    "       'Ciclomotor de dos ruedas L1e-B', 'Tren/metro',\n",
    "       'Otros vehículos sin motor', 'Camión de bomberos',\n",
    "       'Ciclo de motor L1e-A', 'Tranvía', 'Autobús articulado EMT', np.nan], [\"Otros\",\"Otros\",\"Otros\",\"Otros\",\"Otros\",\"Otros\",\"Otros\",\"Otros\",\"Otros\",\"Otros\",\"Otros\",\"Otros\",\"Otros\",\"Otros\",\"Otros\",\"Otros\",\"Otros\",\"Otros\",\"Otros\",\"Otros\",\"Otros\",\"Otros\",\"Otros\",\"Otros\",\"Otros\",\"Otros\",\"Otros\", \"Otros\"])"
   ]
  },
  {
   "cell_type": "markdown",
   "id": "d5476919",
   "metadata": {},
   "source": [
    "4️⃣ Distrito"
   ]
  },
  {
   "cell_type": "code",
   "execution_count": null,
   "id": "fe101afd",
   "metadata": {},
   "outputs": [],
   "source": [
    "df_limpio[\"distrito\"].unique()"
   ]
  },
  {
   "cell_type": "code",
   "execution_count": null,
   "id": "ceaad5c1",
   "metadata": {
    "scrolled": true
   },
   "outputs": [],
   "source": [
    "df_limpio[\"distrito\"].isnull().sum()"
   ]
  },
  {
   "cell_type": "code",
   "execution_count": null,
   "id": "12794b4d",
   "metadata": {
    "scrolled": true
   },
   "outputs": [],
   "source": [
    "df_limpio[df_limpio[\"distrito\"].isnull()]"
   ]
  },
  {
   "cell_type": "markdown",
   "id": "09315a98",
   "metadata": {},
   "source": [
    "Sustituimos los nulos de distrito"
   ]
  },
  {
   "cell_type": "code",
   "execution_count": null,
   "id": "2638a350",
   "metadata": {},
   "outputs": [],
   "source": [
    "df_limpio[\"distrito\"].replace(np.nan, \"Arganzuela\", inplace = True)"
   ]
  },
  {
   "cell_type": "code",
   "execution_count": null,
   "id": "4b009697",
   "metadata": {},
   "outputs": [],
   "source": [
    "df_limpio[\"cod_distrito\"].replace(np.nan, \"2\", inplace = True)"
   ]
  },
  {
   "cell_type": "markdown",
   "id": "25f193ce",
   "metadata": {},
   "source": [
    "5️⃣ Columna \"Tipo_persona\""
   ]
  },
  {
   "cell_type": "code",
   "execution_count": null,
   "id": "f57b3c79",
   "metadata": {},
   "outputs": [],
   "source": [
    "df_limpio[\"tipo_persona\"].unique()"
   ]
  },
  {
   "cell_type": "code",
   "execution_count": null,
   "id": "29a7f5e4",
   "metadata": {
    "scrolled": false
   },
   "outputs": [],
   "source": [
    "df_limpio[df_limpio[\"tipo_persona\"].isnull()]"
   ]
  },
  {
   "cell_type": "markdown",
   "id": "ed59e3cb",
   "metadata": {},
   "source": [
    "Manipulamos la columna \"Tipo_persona\" para que es los nulos diga \"sin especificar\""
   ]
  },
  {
   "cell_type": "code",
   "execution_count": null,
   "id": "e49ab859",
   "metadata": {},
   "outputs": [],
   "source": [
    "df_limpio[\"tipo_persona\"].replace(np.nan, \"Sin especificar\", inplace = True)"
   ]
  },
  {
   "cell_type": "code",
   "execution_count": null,
   "id": "54bc8e0d",
   "metadata": {},
   "outputs": [],
   "source": [
    "#para ver culquier nulo de cualquier columna\n",
    "#nan_rows = df_limpio[df_limpio.isnull().any(1)]\n",
    "#nan_rows.head(10)"
   ]
  },
  {
   "cell_type": "markdown",
   "id": "21fe9d6a",
   "metadata": {},
   "source": [
    "6️⃣ Columna \"lesividad\""
   ]
  },
  {
   "cell_type": "code",
   "execution_count": null,
   "id": "7c780aa1",
   "metadata": {
    "scrolled": true
   },
   "outputs": [],
   "source": [
    "df_limpio[\"lesividad\"].unique()"
   ]
  },
  {
   "cell_type": "code",
   "execution_count": null,
   "id": "b697d58a",
   "metadata": {
    "scrolled": true
   },
   "outputs": [],
   "source": [
    "df_limpio[\"lesividad\"].value_counts()"
   ]
  },
  {
   "cell_type": "code",
   "execution_count": null,
   "id": "237db38c",
   "metadata": {},
   "outputs": [],
   "source": [
    "df_limpio['lesividad'] = df['lesividad'].fillna(\"Sin especificar\")"
   ]
  },
  {
   "cell_type": "markdown",
   "id": "17cac673",
   "metadata": {},
   "source": [
    " 7️⃣ Columna \"Coordinadas\""
   ]
  },
  {
   "cell_type": "code",
   "execution_count": null,
   "id": "8b66a7e4",
   "metadata": {},
   "outputs": [],
   "source": [
    "df_limpio[df_limpio[\"coordenada_x_utm\"].isnull()]"
   ]
  },
  {
   "cell_type": "markdown",
   "id": "1bd0be5c",
   "metadata": {},
   "source": [
    "8️⃣ Columna \"estado_meteorológico\""
   ]
  },
  {
   "cell_type": "code",
   "execution_count": null,
   "id": "41723041",
   "metadata": {
    "scrolled": true
   },
   "outputs": [],
   "source": [
    "df_limpio[\"estado_meteorológico\"].unique()"
   ]
  },
  {
   "cell_type": "code",
   "execution_count": null,
   "id": "4d2c6f28",
   "metadata": {
    "scrolled": true
   },
   "outputs": [],
   "source": [
    "df_limpio[\"estado_meteorológico\"].value_counts()"
   ]
  },
  {
   "cell_type": "code",
   "execution_count": null,
   "id": "d191b80b",
   "metadata": {},
   "outputs": [],
   "source": [
    "df_limpio['estado_meteorológico'] = df['estado_meteorológico'].fillna(\"Se desconoce\")"
   ]
  },
  {
   "cell_type": "markdown",
   "id": "695dbe18",
   "metadata": {},
   "source": [
    "# Manipulación de columnas"
   ]
  },
  {
   "cell_type": "markdown",
   "id": "dff04e5c",
   "metadata": {},
   "source": [
    "1️⃣ Distrito --> Poner el string en minúsculas con la primera letra mayúscula"
   ]
  },
  {
   "cell_type": "code",
   "execution_count": null,
   "id": "3f363b39",
   "metadata": {},
   "outputs": [],
   "source": [
    "df_limpio[\"distrito\"] = df_limpio[\"distrito\"].str.capitalize()\n",
    "df_limpio.head(2)"
   ]
  },
  {
   "cell_type": "markdown",
   "id": "f771124f",
   "metadata": {},
   "source": [
    "2️⃣ Localización --> Poner el string en minúsculas con la primera letra mayúscula"
   ]
  },
  {
   "cell_type": "code",
   "execution_count": null,
   "id": "6ec5147c",
   "metadata": {},
   "outputs": [],
   "source": [
    "df_limpio[\"localizacion\"] = df_limpio[\"localizacion\"].str.capitalize()\n",
    "df_limpio.head(2)"
   ]
  },
  {
   "cell_type": "markdown",
   "id": "57b1e2c2",
   "metadata": {},
   "source": [
    "# Eliminación de columnas"
   ]
  },
  {
   "cell_type": "code",
   "execution_count": null,
   "id": "e61fc761",
   "metadata": {},
   "outputs": [],
   "source": [
    "eliminar = [\"cod_lesividad\"]"
   ]
  },
  {
   "cell_type": "code",
   "execution_count": null,
   "id": "7813835d",
   "metadata": {},
   "outputs": [],
   "source": [
    "df_limpio = df_limpio.drop(eliminar, axis = 1)"
   ]
  },
  {
   "cell_type": "markdown",
   "id": "d991c256",
   "metadata": {},
   "source": [
    "# Groupby"
   ]
  },
  {
   "cell_type": "markdown",
   "id": "b3c61602",
   "metadata": {},
   "source": [
    "Agrupación por número de expediente"
   ]
  },
  {
   "cell_type": "code",
   "execution_count": null,
   "id": "4b6b44b5",
   "metadata": {
    "scrolled": true
   },
   "outputs": [],
   "source": [
    "df_pie = pd.DataFrame(df_limpio.groupby(['num_expediente', 'distrito'])[\"tipo_vehiculo\", \"tipo_accidente\", \"tipo_persona\"].count())\n",
    "\n",
    "df_pie.head(1)"
   ]
  },
  {
   "cell_type": "code",
   "execution_count": null,
   "id": "d52a8ce5",
   "metadata": {
    "scrolled": true
   },
   "outputs": [],
   "source": [
    "df_pie.reset_index(inplace = True)\n",
    "df_pie.head(2)"
   ]
  },
  {
   "cell_type": "code",
   "execution_count": null,
   "id": "67185d2b",
   "metadata": {},
   "outputs": [],
   "source": [
    "df_pie.shape"
   ]
  },
  {
   "cell_type": "markdown",
   "id": "bf42f98a",
   "metadata": {},
   "source": [
    "Agrupación por distrito"
   ]
  },
  {
   "cell_type": "code",
   "execution_count": null,
   "id": "255a0977",
   "metadata": {
    "scrolled": false
   },
   "outputs": [],
   "source": [
    "df_pie_1 = pd.DataFrame(df_pie.groupby(['distrito'])[\"num_expediente\"].count())\n",
    "\n",
    "df_pie_1.head(2)"
   ]
  },
  {
   "cell_type": "code",
   "execution_count": null,
   "id": "e5b0bc4e",
   "metadata": {},
   "outputs": [],
   "source": []
  },
  {
   "cell_type": "markdown",
   "id": "3963c080",
   "metadata": {},
   "source": [
    "Agrupación por dia de la semana"
   ]
  },
  {
   "cell_type": "code",
   "execution_count": null,
   "id": "31b5a45c",
   "metadata": {
    "scrolled": true
   },
   "outputs": [],
   "source": [
    "df_pie_3 = pd.DataFrame(df_limpio.groupby(['num_expediente', 'dia_semana'])[\"tipo_vehiculo\", \"tipo_accidente\", \"tipo_persona\"].count())\n",
    "\n",
    "df_pie_3.head(1)"
   ]
  },
  {
   "cell_type": "code",
   "execution_count": null,
   "id": "97a30ac3",
   "metadata": {
    "scrolled": true
   },
   "outputs": [],
   "source": [
    "df_pie_3.reset_index(inplace = True)\n",
    "df_pie_3.head(2)"
   ]
  },
  {
   "cell_type": "code",
   "execution_count": null,
   "id": "32338022",
   "metadata": {},
   "outputs": [],
   "source": [
    "df_pie_3.shape"
   ]
  },
  {
   "cell_type": "code",
   "execution_count": null,
   "id": "7d6369f6",
   "metadata": {},
   "outputs": [],
   "source": [
    "df_pie_4 = pd.DataFrame(df_pie_3.groupby(['dia_semana'])[\"num_expediente\"].count())\n",
    "\n",
    "df_pie_4.head(2)"
   ]
  },
  {
   "cell_type": "code",
   "execution_count": null,
   "id": "130ac7d5",
   "metadata": {},
   "outputs": [],
   "source": [
    "#df_pie2 = pd.DataFrame(df_pie1.groupby([\"distrito\", \"num_expediente\"])[\"num_expediente\"].count())\n",
    "\n",
    "#df_pie2.head(20)"
   ]
  },
  {
   "cell_type": "markdown",
   "id": "4bc46f74",
   "metadata": {},
   "source": [
    "# Coordenadas"
   ]
  },
  {
   "cell_type": "code",
   "execution_count": null,
   "id": "ca03dd88",
   "metadata": {},
   "outputs": [],
   "source": [
    "test_coordenada = utm.to_latlon(437390.155, 4476258.031, 30, 'T')\n",
    "test_coordenada"
   ]
  },
  {
   "cell_type": "code",
   "execution_count": null,
   "id": "4f85d131",
   "metadata": {},
   "outputs": [],
   "source": [
    "latitud =test_coordenada[0]"
   ]
  },
  {
   "cell_type": "code",
   "execution_count": null,
   "id": "82347916",
   "metadata": {},
   "outputs": [],
   "source": [
    "longitud = test_coordenada[1]"
   ]
  },
  {
   "cell_type": "code",
   "execution_count": null,
   "id": "c6ba7f6a",
   "metadata": {},
   "outputs": [],
   "source": [
    "def utm_lat(lat, lon):\n",
    "    try:\n",
    "        coordenada = utm.to_latlon(lat, lon, 30, 'T')\n",
    "        return coordenada[0]\n",
    "    except:\n",
    "        return None"
   ]
  },
  {
   "cell_type": "code",
   "execution_count": null,
   "id": "90db4d55",
   "metadata": {},
   "outputs": [],
   "source": [
    "def utm_lon(lat, lon):\n",
    "    try:\n",
    "        coordenada = utm.to_latlon(lat, lon, 30, 'T')\n",
    "        return coordenada[1]\n",
    "    except:\n",
    "        return None"
   ]
  },
  {
   "cell_type": "code",
   "execution_count": null,
   "id": "195cd486",
   "metadata": {},
   "outputs": [],
   "source": [
    "df_limpio[\"latitud\"] = df_limpio.apply(lambda datos: utm_lat\n",
    "                                           (datos[\"coordenada_x_utm\"],\n",
    "                                            datos[\"coordenada_y_utm\"]), axis =1)"
   ]
  },
  {
   "cell_type": "code",
   "execution_count": null,
   "id": "562d08fd",
   "metadata": {},
   "outputs": [],
   "source": [
    "df_limpio[\"longitud\"] = df_limpio.apply(lambda datos: utm_lon\n",
    "                                           (datos[\"coordenada_x_utm\"],\n",
    "                                            datos[\"coordenada_y_utm\"]), axis =1)"
   ]
  },
  {
   "cell_type": "code",
   "execution_count": null,
   "id": "8209d950",
   "metadata": {
    "scrolled": true
   },
   "outputs": [],
   "source": [
    "df_limpio.head()"
   ]
  },
  {
   "cell_type": "code",
   "execution_count": null,
   "id": "569cb3b3",
   "metadata": {},
   "outputs": [],
   "source": [
    "df_limpio[\"fecha\"].unique()"
   ]
  },
  {
   "cell_type": "markdown",
   "id": "b929e85e",
   "metadata": {},
   "source": [
    "# Guardamos CSV"
   ]
  },
  {
   "cell_type": "code",
   "execution_count": null,
   "id": "3d99135f",
   "metadata": {},
   "outputs": [],
   "source": [
    "df_limpio.to_excel(\"df_limpio_transformado_1.xlsx\")"
   ]
  }
 ],
 "metadata": {
  "kernelspec": {
   "display_name": "Python 3 (ipykernel)",
   "language": "python",
   "name": "python3"
  },
  "language_info": {
   "codemirror_mode": {
    "name": "ipython",
    "version": 3
   },
   "file_extension": ".py",
   "mimetype": "text/x-python",
   "name": "python",
   "nbconvert_exporter": "python",
   "pygments_lexer": "ipython3",
   "version": "3.9.7"
  }
 },
 "nbformat": 4,
 "nbformat_minor": 5
}
