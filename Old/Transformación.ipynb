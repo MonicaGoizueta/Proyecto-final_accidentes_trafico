{
 "cells": [
  {
   "cell_type": "code",
   "execution_count": 1,
   "id": "ab4a8e73",
   "metadata": {},
   "outputs": [],
   "source": [
    "import pandas as pd\n",
    "import numpy as np\n",
    "import datetime\n",
    "import time\n",
    "import utm\n",
    "from pyproj import Proj\n",
    "\n",
    "pd.options.display.max_columns = None"
   ]
  },
  {
   "cell_type": "code",
   "execution_count": 2,
   "id": "8fe3e667",
   "metadata": {
    "scrolled": true
   },
   "outputs": [
    {
     "data": {
      "text/html": [
       "<div>\n",
       "<style scoped>\n",
       "    .dataframe tbody tr th:only-of-type {\n",
       "        vertical-align: middle;\n",
       "    }\n",
       "\n",
       "    .dataframe tbody tr th {\n",
       "        vertical-align: top;\n",
       "    }\n",
       "\n",
       "    .dataframe thead th {\n",
       "        text-align: right;\n",
       "    }\n",
       "</style>\n",
       "<table border=\"1\" class=\"dataframe\">\n",
       "  <thead>\n",
       "    <tr style=\"text-align: right;\">\n",
       "      <th></th>\n",
       "      <th>num_expediente</th>\n",
       "      <th>fecha</th>\n",
       "      <th>hora</th>\n",
       "      <th>localizacion</th>\n",
       "      <th>numero</th>\n",
       "      <th>cod_distrito</th>\n",
       "      <th>distrito</th>\n",
       "      <th>tipo_accidente</th>\n",
       "      <th>estado_meteorológico</th>\n",
       "      <th>tipo_vehiculo</th>\n",
       "      <th>tipo_persona</th>\n",
       "      <th>rango_edad</th>\n",
       "      <th>sexo</th>\n",
       "      <th>cod_lesividad</th>\n",
       "      <th>lesividad</th>\n",
       "      <th>coordenada_x_utm</th>\n",
       "      <th>coordenada_y_utm</th>\n",
       "      <th>positiva_alcohol</th>\n",
       "      <th>positiva_droga</th>\n",
       "    </tr>\n",
       "  </thead>\n",
       "  <tbody>\n",
       "    <tr>\n",
       "      <th>0</th>\n",
       "      <td>2020S019534</td>\n",
       "      <td>2021-01-01</td>\n",
       "      <td>04:30:00</td>\n",
       "      <td>AVDA. PABLO NERUDA / CALL. LEONESES</td>\n",
       "      <td>57</td>\n",
       "      <td>13.0</td>\n",
       "      <td>PUENTE DE VALLECAS</td>\n",
       "      <td>Colisión fronto-lateral</td>\n",
       "      <td>Despejado</td>\n",
       "      <td>Turismo</td>\n",
       "      <td>Conductor</td>\n",
       "      <td>De 30 a 34 años</td>\n",
       "      <td>Mujer</td>\n",
       "      <td>14.0</td>\n",
       "      <td>Sin asistencia sanitaria</td>\n",
       "      <td>444976.463</td>\n",
       "      <td>4470508.259</td>\n",
       "      <td>N</td>\n",
       "      <td>NaN</td>\n",
       "    </tr>\n",
       "    <tr>\n",
       "      <th>1</th>\n",
       "      <td>2020S019534</td>\n",
       "      <td>2021-01-01</td>\n",
       "      <td>04:30:00</td>\n",
       "      <td>AVDA. PABLO NERUDA / CALL. LEONESES</td>\n",
       "      <td>57</td>\n",
       "      <td>13.0</td>\n",
       "      <td>PUENTE DE VALLECAS</td>\n",
       "      <td>Colisión fronto-lateral</td>\n",
       "      <td>Despejado</td>\n",
       "      <td>Turismo</td>\n",
       "      <td>Conductor</td>\n",
       "      <td>De 35 a 39 años</td>\n",
       "      <td>Hombre</td>\n",
       "      <td>7.0</td>\n",
       "      <td>Asistencia sanitaria sólo en el lugar del acci...</td>\n",
       "      <td>444976.463</td>\n",
       "      <td>4470508.259</td>\n",
       "      <td>N</td>\n",
       "      <td>NaN</td>\n",
       "    </tr>\n",
       "  </tbody>\n",
       "</table>\n",
       "</div>"
      ],
      "text/plain": [
       "  num_expediente      fecha      hora                         localizacion  \\\n",
       "0    2020S019534 2021-01-01  04:30:00  AVDA. PABLO NERUDA / CALL. LEONESES   \n",
       "1    2020S019534 2021-01-01  04:30:00  AVDA. PABLO NERUDA / CALL. LEONESES   \n",
       "\n",
       "  numero  cod_distrito            distrito           tipo_accidente  \\\n",
       "0     57          13.0  PUENTE DE VALLECAS  Colisión fronto-lateral   \n",
       "1     57          13.0  PUENTE DE VALLECAS  Colisión fronto-lateral   \n",
       "\n",
       "  estado_meteorológico tipo_vehiculo tipo_persona       rango_edad    sexo  \\\n",
       "0            Despejado       Turismo    Conductor  De 30 a 34 años   Mujer   \n",
       "1            Despejado       Turismo    Conductor  De 35 a 39 años  Hombre   \n",
       "\n",
       "   cod_lesividad                                          lesividad  \\\n",
       "0           14.0                           Sin asistencia sanitaria   \n",
       "1            7.0  Asistencia sanitaria sólo en el lugar del acci...   \n",
       "\n",
       "   coordenada_x_utm  coordenada_y_utm positiva_alcohol  positiva_droga  \n",
       "0        444976.463       4470508.259                N             NaN  \n",
       "1        444976.463       4470508.259                N             NaN  "
      ]
     },
     "execution_count": 2,
     "metadata": {},
     "output_type": "execute_result"
    }
   ],
   "source": [
    "df = pd.read_excel(\"2021_Accidentalidad.xlsx\")\n",
    "df.head(2)"
   ]
  },
  {
   "cell_type": "markdown",
   "id": "bc423f96",
   "metadata": {},
   "source": [
    "# Duplicados"
   ]
  },
  {
   "cell_type": "markdown",
   "id": "e3c7e13a",
   "metadata": {},
   "source": [
    "Eliminamos duplicados"
   ]
  },
  {
   "cell_type": "code",
   "execution_count": 3,
   "id": "3e3e59c1",
   "metadata": {},
   "outputs": [],
   "source": [
    "df.drop_duplicates(inplace = True)"
   ]
  },
  {
   "cell_type": "markdown",
   "id": "1f5329aa",
   "metadata": {},
   "source": [
    "# Tipado de columnas"
   ]
  },
  {
   "cell_type": "code",
   "execution_count": 4,
   "id": "22adad36",
   "metadata": {
    "scrolled": false
   },
   "outputs": [
    {
     "data": {
      "text/plain": [
       "num_expediente                  object\n",
       "fecha                   datetime64[ns]\n",
       "hora                            object\n",
       "localizacion                    object\n",
       "numero                          object\n",
       "cod_distrito                   float64\n",
       "distrito                        object\n",
       "tipo_accidente                  object\n",
       "estado_meteorológico            object\n",
       "tipo_vehiculo                   object\n",
       "tipo_persona                    object\n",
       "rango_edad                      object\n",
       "sexo                            object\n",
       "cod_lesividad                  float64\n",
       "lesividad                       object\n",
       "coordenada_x_utm               float64\n",
       "coordenada_y_utm               float64\n",
       "positiva_alcohol                object\n",
       "positiva_droga                 float64\n",
       "dtype: object"
      ]
     },
     "execution_count": 4,
     "metadata": {},
     "output_type": "execute_result"
    }
   ],
   "source": [
    "df.dtypes"
   ]
  },
  {
   "cell_type": "markdown",
   "id": "cfe32d0b",
   "metadata": {},
   "source": [
    "Cambiamos el tipado de columnas que queremos"
   ]
  },
  {
   "cell_type": "code",
   "execution_count": 5,
   "id": "81a300fa",
   "metadata": {},
   "outputs": [],
   "source": [
    "df['cod_distrito'] = pd.to_numeric(df[\"cod_distrito\"], errors='coerce').astype('Int64')\n",
    "df['cod_lesividad'] = pd.to_numeric(df[\"cod_lesividad\"], errors='coerce').astype('Int64')\n",
    "df[\"positiva_droga\"] = df[\"positiva_droga\"].astype(\"category\")"
   ]
  },
  {
   "cell_type": "code",
   "execution_count": 6,
   "id": "49b80fb2",
   "metadata": {
    "scrolled": true
   },
   "outputs": [
    {
     "data": {
      "text/plain": [
       "(39966, 19)"
      ]
     },
     "execution_count": 6,
     "metadata": {},
     "output_type": "execute_result"
    }
   ],
   "source": [
    "df.shape"
   ]
  },
  {
   "cell_type": "markdown",
   "id": "95e8033a",
   "metadata": {},
   "source": [
    "# Añadimos columnas"
   ]
  },
  {
   "cell_type": "markdown",
   "id": "861b950e",
   "metadata": {},
   "source": [
    "Añadimos columna de interés como el día de la semana"
   ]
  },
  {
   "cell_type": "code",
   "execution_count": 7,
   "id": "f67ef628",
   "metadata": {},
   "outputs": [],
   "source": [
    "df['dia_semana'] = df['fecha'].dt.day_name()"
   ]
  },
  {
   "cell_type": "code",
   "execution_count": 8,
   "id": "ad85245b",
   "metadata": {
    "scrolled": true
   },
   "outputs": [
    {
     "data": {
      "text/html": [
       "<div>\n",
       "<style scoped>\n",
       "    .dataframe tbody tr th:only-of-type {\n",
       "        vertical-align: middle;\n",
       "    }\n",
       "\n",
       "    .dataframe tbody tr th {\n",
       "        vertical-align: top;\n",
       "    }\n",
       "\n",
       "    .dataframe thead th {\n",
       "        text-align: right;\n",
       "    }\n",
       "</style>\n",
       "<table border=\"1\" class=\"dataframe\">\n",
       "  <thead>\n",
       "    <tr style=\"text-align: right;\">\n",
       "      <th></th>\n",
       "      <th>num_expediente</th>\n",
       "      <th>fecha</th>\n",
       "      <th>hora</th>\n",
       "      <th>localizacion</th>\n",
       "      <th>numero</th>\n",
       "      <th>cod_distrito</th>\n",
       "      <th>distrito</th>\n",
       "      <th>tipo_accidente</th>\n",
       "      <th>estado_meteorológico</th>\n",
       "      <th>tipo_vehiculo</th>\n",
       "      <th>tipo_persona</th>\n",
       "      <th>rango_edad</th>\n",
       "      <th>sexo</th>\n",
       "      <th>cod_lesividad</th>\n",
       "      <th>lesividad</th>\n",
       "      <th>coordenada_x_utm</th>\n",
       "      <th>coordenada_y_utm</th>\n",
       "      <th>positiva_alcohol</th>\n",
       "      <th>positiva_droga</th>\n",
       "      <th>dia_semana</th>\n",
       "    </tr>\n",
       "  </thead>\n",
       "  <tbody>\n",
       "    <tr>\n",
       "      <th>0</th>\n",
       "      <td>2020S019534</td>\n",
       "      <td>2021-01-01</td>\n",
       "      <td>04:30:00</td>\n",
       "      <td>AVDA. PABLO NERUDA / CALL. LEONESES</td>\n",
       "      <td>57</td>\n",
       "      <td>13</td>\n",
       "      <td>PUENTE DE VALLECAS</td>\n",
       "      <td>Colisión fronto-lateral</td>\n",
       "      <td>Despejado</td>\n",
       "      <td>Turismo</td>\n",
       "      <td>Conductor</td>\n",
       "      <td>De 30 a 34 años</td>\n",
       "      <td>Mujer</td>\n",
       "      <td>14</td>\n",
       "      <td>Sin asistencia sanitaria</td>\n",
       "      <td>444976.463</td>\n",
       "      <td>4470508.259</td>\n",
       "      <td>N</td>\n",
       "      <td>NaN</td>\n",
       "      <td>Friday</td>\n",
       "    </tr>\n",
       "  </tbody>\n",
       "</table>\n",
       "</div>"
      ],
      "text/plain": [
       "  num_expediente      fecha      hora                         localizacion  \\\n",
       "0    2020S019534 2021-01-01  04:30:00  AVDA. PABLO NERUDA / CALL. LEONESES   \n",
       "\n",
       "  numero  cod_distrito            distrito           tipo_accidente  \\\n",
       "0     57            13  PUENTE DE VALLECAS  Colisión fronto-lateral   \n",
       "\n",
       "  estado_meteorológico tipo_vehiculo tipo_persona       rango_edad   sexo  \\\n",
       "0            Despejado       Turismo    Conductor  De 30 a 34 años  Mujer   \n",
       "\n",
       "   cod_lesividad                 lesividad  coordenada_x_utm  \\\n",
       "0             14  Sin asistencia sanitaria        444976.463   \n",
       "\n",
       "   coordenada_y_utm positiva_alcohol positiva_droga dia_semana  \n",
       "0       4470508.259                N            NaN     Friday  "
      ]
     },
     "execution_count": 8,
     "metadata": {},
     "output_type": "execute_result"
    }
   ],
   "source": [
    "df.head(1)"
   ]
  },
  {
   "cell_type": "markdown",
   "id": "33de5e34",
   "metadata": {},
   "source": [
    "# Eliminamos columnas"
   ]
  },
  {
   "cell_type": "markdown",
   "id": "8cbe3213",
   "metadata": {},
   "source": [
    "Eliminamos la columna de \"positiva_droga\" por tener la mayoría de campos en nulo y no aportar gran valor"
   ]
  },
  {
   "cell_type": "code",
   "execution_count": 9,
   "id": "8683732e",
   "metadata": {},
   "outputs": [],
   "source": [
    "df_limpio = df.drop([\"positiva_droga\"], axis = 1)"
   ]
  },
  {
   "cell_type": "code",
   "execution_count": 10,
   "id": "9c028402",
   "metadata": {},
   "outputs": [
    {
     "data": {
      "text/html": [
       "<div>\n",
       "<style scoped>\n",
       "    .dataframe tbody tr th:only-of-type {\n",
       "        vertical-align: middle;\n",
       "    }\n",
       "\n",
       "    .dataframe tbody tr th {\n",
       "        vertical-align: top;\n",
       "    }\n",
       "\n",
       "    .dataframe thead th {\n",
       "        text-align: right;\n",
       "    }\n",
       "</style>\n",
       "<table border=\"1\" class=\"dataframe\">\n",
       "  <thead>\n",
       "    <tr style=\"text-align: right;\">\n",
       "      <th></th>\n",
       "      <th>num_expediente</th>\n",
       "      <th>fecha</th>\n",
       "      <th>hora</th>\n",
       "      <th>localizacion</th>\n",
       "      <th>numero</th>\n",
       "      <th>cod_distrito</th>\n",
       "      <th>distrito</th>\n",
       "      <th>tipo_accidente</th>\n",
       "      <th>estado_meteorológico</th>\n",
       "      <th>tipo_vehiculo</th>\n",
       "      <th>tipo_persona</th>\n",
       "      <th>rango_edad</th>\n",
       "      <th>sexo</th>\n",
       "      <th>cod_lesividad</th>\n",
       "      <th>lesividad</th>\n",
       "      <th>coordenada_x_utm</th>\n",
       "      <th>coordenada_y_utm</th>\n",
       "      <th>positiva_alcohol</th>\n",
       "      <th>dia_semana</th>\n",
       "    </tr>\n",
       "  </thead>\n",
       "  <tbody>\n",
       "    <tr>\n",
       "      <th>0</th>\n",
       "      <td>2020S019534</td>\n",
       "      <td>2021-01-01</td>\n",
       "      <td>04:30:00</td>\n",
       "      <td>AVDA. PABLO NERUDA / CALL. LEONESES</td>\n",
       "      <td>57</td>\n",
       "      <td>13</td>\n",
       "      <td>PUENTE DE VALLECAS</td>\n",
       "      <td>Colisión fronto-lateral</td>\n",
       "      <td>Despejado</td>\n",
       "      <td>Turismo</td>\n",
       "      <td>Conductor</td>\n",
       "      <td>De 30 a 34 años</td>\n",
       "      <td>Mujer</td>\n",
       "      <td>14</td>\n",
       "      <td>Sin asistencia sanitaria</td>\n",
       "      <td>444976.463</td>\n",
       "      <td>4470508.259</td>\n",
       "      <td>N</td>\n",
       "      <td>Friday</td>\n",
       "    </tr>\n",
       "  </tbody>\n",
       "</table>\n",
       "</div>"
      ],
      "text/plain": [
       "  num_expediente      fecha      hora                         localizacion  \\\n",
       "0    2020S019534 2021-01-01  04:30:00  AVDA. PABLO NERUDA / CALL. LEONESES   \n",
       "\n",
       "  numero  cod_distrito            distrito           tipo_accidente  \\\n",
       "0     57            13  PUENTE DE VALLECAS  Colisión fronto-lateral   \n",
       "\n",
       "  estado_meteorológico tipo_vehiculo tipo_persona       rango_edad   sexo  \\\n",
       "0            Despejado       Turismo    Conductor  De 30 a 34 años  Mujer   \n",
       "\n",
       "   cod_lesividad                 lesividad  coordenada_x_utm  \\\n",
       "0             14  Sin asistencia sanitaria        444976.463   \n",
       "\n",
       "   coordenada_y_utm positiva_alcohol dia_semana  \n",
       "0       4470508.259                N     Friday  "
      ]
     },
     "execution_count": 10,
     "metadata": {},
     "output_type": "execute_result"
    }
   ],
   "source": [
    "df_limpio.head(1)"
   ]
  },
  {
   "cell_type": "markdown",
   "id": "5015efe6",
   "metadata": {},
   "source": [
    "# Gestión de Nulos"
   ]
  },
  {
   "cell_type": "markdown",
   "id": "8f96cf96",
   "metadata": {},
   "source": [
    "Eliminamos o sustituimos Nulos"
   ]
  },
  {
   "cell_type": "code",
   "execution_count": 11,
   "id": "20378bac",
   "metadata": {},
   "outputs": [
    {
     "data": {
      "text/plain": [
       "num_expediente              0\n",
       "fecha                       0\n",
       "hora                        0\n",
       "localizacion                0\n",
       "numero                      3\n",
       "cod_distrito                3\n",
       "distrito                    3\n",
       "tipo_accidente              4\n",
       "estado_meteorológico     4156\n",
       "tipo_vehiculo              54\n",
       "tipo_persona                3\n",
       "rango_edad                  0\n",
       "sexo                        0\n",
       "cod_lesividad           17489\n",
       "lesividad               17489\n",
       "coordenada_x_utm           12\n",
       "coordenada_y_utm           12\n",
       "positiva_alcohol          166\n",
       "dia_semana                  0\n",
       "dtype: int64"
      ]
     },
     "execution_count": 11,
     "metadata": {},
     "output_type": "execute_result"
    }
   ],
   "source": [
    "df_limpio.isnull().sum()"
   ]
  },
  {
   "cell_type": "markdown",
   "id": "eb6e89d0",
   "metadata": {},
   "source": [
    "1️⃣ Columna \"positiva_alcohol\""
   ]
  },
  {
   "cell_type": "code",
   "execution_count": 12,
   "id": "fa94e551",
   "metadata": {},
   "outputs": [
    {
     "data": {
      "text/plain": [
       "array(['N', 'S', nan], dtype=object)"
      ]
     },
     "execution_count": 12,
     "metadata": {},
     "output_type": "execute_result"
    }
   ],
   "source": [
    "df_limpio[\"positiva_alcohol\"].unique()"
   ]
  },
  {
   "cell_type": "code",
   "execution_count": 13,
   "id": "ec26b461",
   "metadata": {
    "scrolled": false
   },
   "outputs": [
    {
     "data": {
      "text/plain": [
       "N    38523\n",
       "S     1277\n",
       "Name: positiva_alcohol, dtype: int64"
      ]
     },
     "execution_count": 13,
     "metadata": {},
     "output_type": "execute_result"
    }
   ],
   "source": [
    "df_limpio[\"positiva_alcohol\"].value_counts()"
   ]
  },
  {
   "cell_type": "markdown",
   "id": "65376970",
   "metadata": {},
   "source": [
    "Sustituimos los nulos de la columna \"positiva_alcohol\" por \"Sin especificar\""
   ]
  },
  {
   "cell_type": "code",
   "execution_count": 14,
   "id": "9dd7c52c",
   "metadata": {},
   "outputs": [],
   "source": [
    "df_limpio['positiva_alcohol'] = df['positiva_alcohol'].fillna(\"Sin especificar\")"
   ]
  },
  {
   "cell_type": "markdown",
   "id": "1ca74fd3",
   "metadata": {},
   "source": [
    "2️⃣ Columna \"tipo_accidente\""
   ]
  },
  {
   "cell_type": "code",
   "execution_count": 15,
   "id": "5d5f88be",
   "metadata": {},
   "outputs": [
    {
     "data": {
      "text/plain": [
       "array(['Colisión fronto-lateral', 'Colisión frontal',\n",
       "       'Atropello a persona', 'Otro', 'Choque contra obstáculo fijo',\n",
       "       'Alcance', 'Colisión lateral', 'Caída', 'Colisión múltiple',\n",
       "       'Solo salida de la vía', 'Atropello a animal', 'Vuelco',\n",
       "       'Despeñamiento', nan], dtype=object)"
      ]
     },
     "execution_count": 15,
     "metadata": {},
     "output_type": "execute_result"
    }
   ],
   "source": [
    "df_limpio[\"tipo_accidente\"].unique()"
   ]
  },
  {
   "cell_type": "markdown",
   "id": "07bc85c1",
   "metadata": {},
   "source": [
    "Sustituimos los nulos de la columna \"tipo_accidente\" por \"Otro\""
   ]
  },
  {
   "cell_type": "code",
   "execution_count": 16,
   "id": "d8d8e89a",
   "metadata": {
    "scrolled": true
   },
   "outputs": [],
   "source": [
    "df_limpio['tipo_accidente'] = df['tipo_accidente'].fillna(\"Otro\")"
   ]
  },
  {
   "cell_type": "markdown",
   "id": "d408ad79",
   "metadata": {},
   "source": [
    "3️⃣ Columna \"Tipo_vehiculo\""
   ]
  },
  {
   "cell_type": "code",
   "execution_count": 17,
   "id": "6526767e",
   "metadata": {
    "scrolled": true
   },
   "outputs": [
    {
     "data": {
      "text/plain": [
       "array(['Turismo', 'Autobús', 'Motocicleta hasta 125cc', 'Todo terreno',\n",
       "       'Bicicleta', 'Motocicleta > 125cc', 'Furgoneta', 'Camión rígido',\n",
       "       'Sin especificar', 'Ciclomotor', 'Maquinaria de obras',\n",
       "       'Tractocamión', 'Otros vehículos con motor', 'VMU eléctrico',\n",
       "       'Cuadriciclo no ligero', 'Vehículo articulado', 'Autocaravana',\n",
       "       'Bicicleta EPAC (pedaleo asistido)', 'Autobús articulado',\n",
       "       'Autobus EMT', 'Ambulancia SAMUR', 'Cuadriciclo ligero',\n",
       "       'Patinete', 'Ciclomotor de tres ruedas', 'Semiremolque',\n",
       "       'Moto de tres ruedas > 125cc', 'Ciclo', 'Maquinaria agrícola',\n",
       "       'Remolque', 'Moto de tres ruedas hasta 125cc',\n",
       "       'Ciclomotor de dos ruedas L1e-B', 'Tren/metro',\n",
       "       'Otros vehículos sin motor', 'Camión de bomberos',\n",
       "       'Ciclo de motor L1e-A', 'Tranvía', 'Autobús articulado EMT', nan],\n",
       "      dtype=object)"
      ]
     },
     "execution_count": 17,
     "metadata": {},
     "output_type": "execute_result"
    }
   ],
   "source": [
    "df_limpio[\"tipo_vehiculo\"].unique()"
   ]
  },
  {
   "cell_type": "code",
   "execution_count": 18,
   "id": "82e423b3",
   "metadata": {
    "scrolled": true
   },
   "outputs": [
    {
     "data": {
      "text/plain": [
       "Turismo                              67.872692\n",
       "Motocicleta hasta 125cc               7.478857\n",
       "Furgoneta                             6.768253\n",
       "Motocicleta > 125cc                   4.176050\n",
       "Camión rígido                         2.422059\n",
       "Autobús                               2.354501\n",
       "Bicicleta                             1.728970\n",
       "Ciclomotor                            1.571336\n",
       "Todo terreno                          1.546314\n",
       "VMU eléctrico                         1.441225\n",
       "Tractocamión                          0.452885\n",
       "Bicicleta EPAC (pedaleo asistido)     0.385328\n",
       "Otros vehículos con motor             0.275234\n",
       "Maquinaria de obras                   0.260221\n",
       "Vehículo articulado                   0.195166\n",
       "Autobús articulado                    0.180153\n",
       "Autobus EMT                           0.170145\n",
       "Sin especificar                       0.137617\n",
       "Cuadriciclo ligero                    0.090077\n",
       "Patinete                              0.087574\n",
       "Ciclo                                 0.070060\n",
       "Autocaravana                          0.047540\n",
       "Moto de tres ruedas > 125cc           0.035030\n",
       "Cuadriciclo no ligero                 0.025021\n",
       "Ciclomotor de dos ruedas L1e-B        0.017515\n",
       "Ambulancia SAMUR                      0.015013\n",
       "Otros vehículos sin motor             0.012511\n",
       "Maquinaria agrícola                   0.007506\n",
       "Moto de tres ruedas hasta 125cc       0.007506\n",
       "Camión de bomberos                    0.007506\n",
       "Ciclo de motor L1e-A                  0.007506\n",
       "Semiremolque                          0.005004\n",
       "Ciclomotor de tres ruedas             0.002502\n",
       "Remolque                              0.002502\n",
       "Tren/metro                            0.002502\n",
       "Tranvía                               0.002502\n",
       "Autobús articulado EMT                0.002502\n",
       "Name: tipo_vehiculo, dtype: float64"
      ]
     },
     "execution_count": 18,
     "metadata": {},
     "output_type": "execute_result"
    }
   ],
   "source": [
    "df_limpio[\"tipo_vehiculo\"].value_counts() / df_limpio.shape[0] * 100"
   ]
  },
  {
   "cell_type": "markdown",
   "id": "85a24117",
   "metadata": {},
   "source": [
    "Todos los tipos de vehículo con una representación muy baja los agrupamos en \"Otros\""
   ]
  },
  {
   "cell_type": "code",
   "execution_count": 19,
   "id": "d570b4ef",
   "metadata": {},
   "outputs": [],
   "source": [
    "df_limpio ['tipo_vehiculo'] = df_limpio ['tipo_vehiculo']. replace ([\n",
    "       'Sin especificar', 'Maquinaria de obras',\n",
    "       'Tractocamión', 'Otros vehículos con motor',\n",
    "       'Cuadriciclo no ligero', 'Vehículo articulado', 'Autocaravana',\n",
    "       'Bicicleta EPAC (pedaleo asistido)', 'Autobús articulado',\n",
    "       'Autobus EMT', 'Ambulancia SAMUR', 'Cuadriciclo ligero',\n",
    "       'Patinete', 'Ciclomotor de tres ruedas', 'Semiremolque',\n",
    "       'Moto de tres ruedas > 125cc', 'Ciclo', 'Maquinaria agrícola',\n",
    "       'Remolque', 'Moto de tres ruedas hasta 125cc',\n",
    "       'Ciclomotor de dos ruedas L1e-B', 'Tren/metro',\n",
    "       'Otros vehículos sin motor', 'Camión de bomberos',\n",
    "       'Ciclo de motor L1e-A', 'Tranvía', 'Autobús articulado EMT', np.nan], [\"Otros\",\"Otros\",\"Otros\",\"Otros\",\"Otros\",\"Otros\",\"Otros\",\"Otros\",\"Otros\",\"Otros\",\"Otros\",\"Otros\",\"Otros\",\"Otros\",\"Otros\",\"Otros\",\"Otros\",\"Otros\",\"Otros\",\"Otros\",\"Otros\",\"Otros\",\"Otros\",\"Otros\",\"Otros\",\"Otros\",\"Otros\", \"Otros\"])"
   ]
  },
  {
   "cell_type": "markdown",
   "id": "77c13906",
   "metadata": {},
   "source": [
    "4️⃣ Distrito"
   ]
  },
  {
   "cell_type": "code",
   "execution_count": 20,
   "id": "5fab8e0c",
   "metadata": {},
   "outputs": [
    {
     "data": {
      "text/plain": [
       "array(['PUENTE DE VALLECAS', 'USERA', 'MORATALAZ', 'SALAMANCA',\n",
       "       'SAN BLAS-CANILLEJAS', 'TETUÁN', 'CARABANCHEL', 'LATINA',\n",
       "       'BARAJAS', 'HORTALEZA', 'VILLAVERDE', 'CIUDAD LINEAL',\n",
       "       'FUENCARRAL-EL PARDO', 'CHAMBERÍ', 'CENTRO', 'MONCLOA-ARAVACA',\n",
       "       'CHAMARTÍN', 'VILLA DE VALLECAS', 'RETIRO', 'ARGANZUELA',\n",
       "       'VICÁLVARO', nan], dtype=object)"
      ]
     },
     "execution_count": 20,
     "metadata": {},
     "output_type": "execute_result"
    }
   ],
   "source": [
    "df_limpio[\"distrito\"].unique()"
   ]
  },
  {
   "cell_type": "code",
   "execution_count": 21,
   "id": "ceaad5c1",
   "metadata": {
    "scrolled": true
   },
   "outputs": [
    {
     "data": {
      "text/plain": [
       "3"
      ]
     },
     "execution_count": 21,
     "metadata": {},
     "output_type": "execute_result"
    }
   ],
   "source": [
    "df_limpio[\"distrito\"].isnull().sum()"
   ]
  },
  {
   "cell_type": "code",
   "execution_count": 22,
   "id": "13863601",
   "metadata": {
    "scrolled": false
   },
   "outputs": [
    {
     "data": {
      "text/html": [
       "<div>\n",
       "<style scoped>\n",
       "    .dataframe tbody tr th:only-of-type {\n",
       "        vertical-align: middle;\n",
       "    }\n",
       "\n",
       "    .dataframe tbody tr th {\n",
       "        vertical-align: top;\n",
       "    }\n",
       "\n",
       "    .dataframe thead th {\n",
       "        text-align: right;\n",
       "    }\n",
       "</style>\n",
       "<table border=\"1\" class=\"dataframe\">\n",
       "  <thead>\n",
       "    <tr style=\"text-align: right;\">\n",
       "      <th></th>\n",
       "      <th>num_expediente</th>\n",
       "      <th>fecha</th>\n",
       "      <th>hora</th>\n",
       "      <th>localizacion</th>\n",
       "      <th>numero</th>\n",
       "      <th>cod_distrito</th>\n",
       "      <th>distrito</th>\n",
       "      <th>tipo_accidente</th>\n",
       "      <th>estado_meteorológico</th>\n",
       "      <th>tipo_vehiculo</th>\n",
       "      <th>tipo_persona</th>\n",
       "      <th>rango_edad</th>\n",
       "      <th>sexo</th>\n",
       "      <th>cod_lesividad</th>\n",
       "      <th>lesividad</th>\n",
       "      <th>coordenada_x_utm</th>\n",
       "      <th>coordenada_y_utm</th>\n",
       "      <th>positiva_alcohol</th>\n",
       "      <th>dia_semana</th>\n",
       "    </tr>\n",
       "  </thead>\n",
       "  <tbody>\n",
       "    <tr>\n",
       "      <th>25744</th>\n",
       "      <td>2021S015933</td>\n",
       "      <td>2021-09-11</td>\n",
       "      <td>19:40:00</td>\n",
       "      <td>AUTOV. M-500 / AUTOV. M-30</td>\n",
       "      <td>NaN</td>\n",
       "      <td>&lt;NA&gt;</td>\n",
       "      <td>NaN</td>\n",
       "      <td>Colisión fronto-lateral</td>\n",
       "      <td>Despejado</td>\n",
       "      <td>Turismo</td>\n",
       "      <td>Conductor</td>\n",
       "      <td>De 25 a 29 años</td>\n",
       "      <td>Hombre</td>\n",
       "      <td>&lt;NA&gt;</td>\n",
       "      <td>NaN</td>\n",
       "      <td>437390.155</td>\n",
       "      <td>4476258.031</td>\n",
       "      <td>N</td>\n",
       "      <td>Saturday</td>\n",
       "    </tr>\n",
       "    <tr>\n",
       "      <th>25745</th>\n",
       "      <td>2021S015933</td>\n",
       "      <td>2021-09-11</td>\n",
       "      <td>19:40:00</td>\n",
       "      <td>AUTOV. M-500 / AUTOV. M-30</td>\n",
       "      <td>NaN</td>\n",
       "      <td>&lt;NA&gt;</td>\n",
       "      <td>NaN</td>\n",
       "      <td>Colisión fronto-lateral</td>\n",
       "      <td>Despejado</td>\n",
       "      <td>Turismo</td>\n",
       "      <td>Conductor</td>\n",
       "      <td>De 55 a 59 años</td>\n",
       "      <td>Hombre</td>\n",
       "      <td>&lt;NA&gt;</td>\n",
       "      <td>NaN</td>\n",
       "      <td>437390.155</td>\n",
       "      <td>4476258.031</td>\n",
       "      <td>N</td>\n",
       "      <td>Saturday</td>\n",
       "    </tr>\n",
       "    <tr>\n",
       "      <th>25746</th>\n",
       "      <td>2021S015933</td>\n",
       "      <td>2021-09-11</td>\n",
       "      <td>19:40:00</td>\n",
       "      <td>AUTOV. M-500 / AUTOV. M-30</td>\n",
       "      <td>NaN</td>\n",
       "      <td>&lt;NA&gt;</td>\n",
       "      <td>NaN</td>\n",
       "      <td>Colisión fronto-lateral</td>\n",
       "      <td>Despejado</td>\n",
       "      <td>Turismo</td>\n",
       "      <td>Pasajero</td>\n",
       "      <td>De 55 a 59 años</td>\n",
       "      <td>Mujer</td>\n",
       "      <td>14</td>\n",
       "      <td>Sin asistencia sanitaria</td>\n",
       "      <td>437390.155</td>\n",
       "      <td>4476258.031</td>\n",
       "      <td>N</td>\n",
       "      <td>Saturday</td>\n",
       "    </tr>\n",
       "  </tbody>\n",
       "</table>\n",
       "</div>"
      ],
      "text/plain": [
       "      num_expediente      fecha      hora                localizacion numero  \\\n",
       "25744    2021S015933 2021-09-11  19:40:00  AUTOV. M-500 / AUTOV. M-30    NaN   \n",
       "25745    2021S015933 2021-09-11  19:40:00  AUTOV. M-500 / AUTOV. M-30    NaN   \n",
       "25746    2021S015933 2021-09-11  19:40:00  AUTOV. M-500 / AUTOV. M-30    NaN   \n",
       "\n",
       "       cod_distrito distrito           tipo_accidente estado_meteorológico  \\\n",
       "25744          <NA>      NaN  Colisión fronto-lateral            Despejado   \n",
       "25745          <NA>      NaN  Colisión fronto-lateral            Despejado   \n",
       "25746          <NA>      NaN  Colisión fronto-lateral            Despejado   \n",
       "\n",
       "      tipo_vehiculo tipo_persona       rango_edad    sexo  cod_lesividad  \\\n",
       "25744       Turismo    Conductor  De 25 a 29 años  Hombre           <NA>   \n",
       "25745       Turismo    Conductor  De 55 a 59 años  Hombre           <NA>   \n",
       "25746       Turismo     Pasajero  De 55 a 59 años   Mujer             14   \n",
       "\n",
       "                      lesividad  coordenada_x_utm  coordenada_y_utm  \\\n",
       "25744                       NaN        437390.155       4476258.031   \n",
       "25745                       NaN        437390.155       4476258.031   \n",
       "25746  Sin asistencia sanitaria        437390.155       4476258.031   \n",
       "\n",
       "      positiva_alcohol dia_semana  \n",
       "25744                N   Saturday  \n",
       "25745                N   Saturday  \n",
       "25746                N   Saturday  "
      ]
     },
     "execution_count": 22,
     "metadata": {},
     "output_type": "execute_result"
    }
   ],
   "source": [
    "df_limpio[df_limpio[\"distrito\"].isnull()]"
   ]
  },
  {
   "cell_type": "markdown",
   "id": "844e3ceb",
   "metadata": {},
   "source": [
    "Sustituimos los nulos de distrito"
   ]
  },
  {
   "cell_type": "code",
   "execution_count": 23,
   "id": "15ec52f3",
   "metadata": {},
   "outputs": [],
   "source": [
    "df_limpio[\"distrito\"].replace(np.nan, \"Manzanares\", inplace = True)"
   ]
  },
  {
   "cell_type": "markdown",
   "id": "8d2e9de9",
   "metadata": {},
   "source": [
    "5️⃣ Columna \"Tipo_persona\""
   ]
  },
  {
   "cell_type": "code",
   "execution_count": 24,
   "id": "d6a2756e",
   "metadata": {},
   "outputs": [
    {
     "data": {
      "text/plain": [
       "array(['Conductor', 'Pasajero', 'Peatón', nan], dtype=object)"
      ]
     },
     "execution_count": 24,
     "metadata": {},
     "output_type": "execute_result"
    }
   ],
   "source": [
    "df_limpio[\"tipo_persona\"].unique()"
   ]
  },
  {
   "cell_type": "code",
   "execution_count": 25,
   "id": "2701de28",
   "metadata": {
    "scrolled": false
   },
   "outputs": [
    {
     "data": {
      "text/html": [
       "<div>\n",
       "<style scoped>\n",
       "    .dataframe tbody tr th:only-of-type {\n",
       "        vertical-align: middle;\n",
       "    }\n",
       "\n",
       "    .dataframe tbody tr th {\n",
       "        vertical-align: top;\n",
       "    }\n",
       "\n",
       "    .dataframe thead th {\n",
       "        text-align: right;\n",
       "    }\n",
       "</style>\n",
       "<table border=\"1\" class=\"dataframe\">\n",
       "  <thead>\n",
       "    <tr style=\"text-align: right;\">\n",
       "      <th></th>\n",
       "      <th>num_expediente</th>\n",
       "      <th>fecha</th>\n",
       "      <th>hora</th>\n",
       "      <th>localizacion</th>\n",
       "      <th>numero</th>\n",
       "      <th>cod_distrito</th>\n",
       "      <th>distrito</th>\n",
       "      <th>tipo_accidente</th>\n",
       "      <th>estado_meteorológico</th>\n",
       "      <th>tipo_vehiculo</th>\n",
       "      <th>tipo_persona</th>\n",
       "      <th>rango_edad</th>\n",
       "      <th>sexo</th>\n",
       "      <th>cod_lesividad</th>\n",
       "      <th>lesividad</th>\n",
       "      <th>coordenada_x_utm</th>\n",
       "      <th>coordenada_y_utm</th>\n",
       "      <th>positiva_alcohol</th>\n",
       "      <th>dia_semana</th>\n",
       "    </tr>\n",
       "  </thead>\n",
       "  <tbody>\n",
       "    <tr>\n",
       "      <th>37104</th>\n",
       "      <td>2021S022518</td>\n",
       "      <td>2021-11-27</td>\n",
       "      <td>22:25:00</td>\n",
       "      <td>AVDA. HISPANIDAD, 34</td>\n",
       "      <td>34</td>\n",
       "      <td>21</td>\n",
       "      <td>BARAJAS</td>\n",
       "      <td>Alcance</td>\n",
       "      <td>Despejado</td>\n",
       "      <td>Turismo</td>\n",
       "      <td>NaN</td>\n",
       "      <td>Desconocido</td>\n",
       "      <td>Desconocido</td>\n",
       "      <td>&lt;NA&gt;</td>\n",
       "      <td>NaN</td>\n",
       "      <td>451305.806</td>\n",
       "      <td>4479449.657</td>\n",
       "      <td>N</td>\n",
       "      <td>Saturday</td>\n",
       "    </tr>\n",
       "    <tr>\n",
       "      <th>40495</th>\n",
       "      <td>2021S024425</td>\n",
       "      <td>2021-12-21</td>\n",
       "      <td>16:30:00</td>\n",
       "      <td>AVENIDA MANUEL FRAGA IRIBARNE NUMERO 2</td>\n",
       "      <td>35</td>\n",
       "      <td>21</td>\n",
       "      <td>BARAJAS</td>\n",
       "      <td>Alcance</td>\n",
       "      <td>Despejado</td>\n",
       "      <td>Turismo</td>\n",
       "      <td>NaN</td>\n",
       "      <td>Menor de 5 años</td>\n",
       "      <td>Hombre</td>\n",
       "      <td>&lt;NA&gt;</td>\n",
       "      <td>NaN</td>\n",
       "      <td>448419.744</td>\n",
       "      <td>4481821.540</td>\n",
       "      <td>N</td>\n",
       "      <td>Tuesday</td>\n",
       "    </tr>\n",
       "    <tr>\n",
       "      <th>41575</th>\n",
       "      <td>2021S024983</td>\n",
       "      <td>2021-12-30</td>\n",
       "      <td>17:50:00</td>\n",
       "      <td>CALL. VALDETORRES DE JARAMA / CALL. ANGEL LUIS...</td>\n",
       "      <td>2</td>\n",
       "      <td>16</td>\n",
       "      <td>HORTALEZA</td>\n",
       "      <td>Colisión fronto-lateral</td>\n",
       "      <td>Despejado</td>\n",
       "      <td>Motocicleta hasta 125cc</td>\n",
       "      <td>NaN</td>\n",
       "      <td>Desconocido</td>\n",
       "      <td>Desconocido</td>\n",
       "      <td>&lt;NA&gt;</td>\n",
       "      <td>NaN</td>\n",
       "      <td>445289.712</td>\n",
       "      <td>4480250.615</td>\n",
       "      <td>N</td>\n",
       "      <td>Thursday</td>\n",
       "    </tr>\n",
       "  </tbody>\n",
       "</table>\n",
       "</div>"
      ],
      "text/plain": [
       "      num_expediente      fecha      hora  \\\n",
       "37104    2021S022518 2021-11-27  22:25:00   \n",
       "40495    2021S024425 2021-12-21  16:30:00   \n",
       "41575    2021S024983 2021-12-30  17:50:00   \n",
       "\n",
       "                                            localizacion numero  cod_distrito  \\\n",
       "37104                               AVDA. HISPANIDAD, 34     34            21   \n",
       "40495             AVENIDA MANUEL FRAGA IRIBARNE NUMERO 2     35            21   \n",
       "41575  CALL. VALDETORRES DE JARAMA / CALL. ANGEL LUIS...      2            16   \n",
       "\n",
       "        distrito           tipo_accidente estado_meteorológico  \\\n",
       "37104    BARAJAS                  Alcance            Despejado   \n",
       "40495    BARAJAS                  Alcance            Despejado   \n",
       "41575  HORTALEZA  Colisión fronto-lateral            Despejado   \n",
       "\n",
       "                 tipo_vehiculo tipo_persona       rango_edad         sexo  \\\n",
       "37104                  Turismo          NaN      Desconocido  Desconocido   \n",
       "40495                  Turismo          NaN  Menor de 5 años       Hombre   \n",
       "41575  Motocicleta hasta 125cc          NaN      Desconocido  Desconocido   \n",
       "\n",
       "       cod_lesividad lesividad  coordenada_x_utm  coordenada_y_utm  \\\n",
       "37104           <NA>       NaN        451305.806       4479449.657   \n",
       "40495           <NA>       NaN        448419.744       4481821.540   \n",
       "41575           <NA>       NaN        445289.712       4480250.615   \n",
       "\n",
       "      positiva_alcohol dia_semana  \n",
       "37104                N   Saturday  \n",
       "40495                N    Tuesday  \n",
       "41575                N   Thursday  "
      ]
     },
     "execution_count": 25,
     "metadata": {},
     "output_type": "execute_result"
    }
   ],
   "source": [
    "df_limpio[df_limpio[\"tipo_persona\"].isnull()]"
   ]
  },
  {
   "cell_type": "markdown",
   "id": "ad8877e7",
   "metadata": {},
   "source": [
    "Manipulamos la columna \"Tipo_persona\" para que es los nulos diga \"sin especificar\""
   ]
  },
  {
   "cell_type": "code",
   "execution_count": 26,
   "id": "fbb9dd31",
   "metadata": {},
   "outputs": [],
   "source": [
    "df_limpio[\"tipo_persona\"].replace(np.nan, \"Sin especificar\", inplace = True)"
   ]
  },
  {
   "cell_type": "code",
   "execution_count": 27,
   "id": "54bc8e0d",
   "metadata": {},
   "outputs": [],
   "source": [
    "#para ver culquier nulo de cualquier columna\n",
    "#nan_rows = df_limpio[df_limpio.isnull().any(1)]\n",
    "#nan_rows.head(10)"
   ]
  },
  {
   "cell_type": "markdown",
   "id": "f015441f",
   "metadata": {},
   "source": [
    "6️⃣ Columna \"lesividad\""
   ]
  },
  {
   "cell_type": "code",
   "execution_count": 28,
   "id": "3419e482",
   "metadata": {
    "scrolled": true
   },
   "outputs": [
    {
     "data": {
      "text/plain": [
       "array(['Sin asistencia sanitaria',\n",
       "       'Asistencia sanitaria sólo en el lugar del accidente', nan,\n",
       "       'Ingreso inferior o igual a 24 horas',\n",
       "       'Ingreso superior a 24 horas',\n",
       "       'Atención en urgencias sin posterior ingreso',\n",
       "       'Asistencia sanitaria inmediata en centro de salud o mutua',\n",
       "       'Asistencia sanitaria ambulatoria con posterioridad',\n",
       "       'Fallecido 24 horas'], dtype=object)"
      ]
     },
     "execution_count": 28,
     "metadata": {},
     "output_type": "execute_result"
    }
   ],
   "source": [
    "df_limpio[\"lesividad\"].unique()"
   ]
  },
  {
   "cell_type": "code",
   "execution_count": 29,
   "id": "0637ca0b",
   "metadata": {
    "scrolled": true
   },
   "outputs": [
    {
     "data": {
      "text/plain": [
       "Sin asistencia sanitaria                                     12380\n",
       "Asistencia sanitaria sólo en el lugar del accidente           5193\n",
       "Ingreso inferior o igual a 24 horas                           1552\n",
       "Atención en urgencias sin posterior ingreso                   1322\n",
       "Asistencia sanitaria inmediata en centro de salud o mutua      947\n",
       "Ingreso superior a 24 horas                                    552\n",
       "Asistencia sanitaria ambulatoria con posterioridad             503\n",
       "Fallecido 24 horas                                              28\n",
       "Name: lesividad, dtype: int64"
      ]
     },
     "execution_count": 29,
     "metadata": {},
     "output_type": "execute_result"
    }
   ],
   "source": [
    "df_limpio[\"lesividad\"].value_counts()"
   ]
  },
  {
   "cell_type": "code",
   "execution_count": 30,
   "id": "64e5ebcd",
   "metadata": {},
   "outputs": [],
   "source": [
    "df_limpio['lesividad'] = df['lesividad'].fillna(\"Sin especificar\")"
   ]
  },
  {
   "cell_type": "markdown",
   "id": "c2a6b90f",
   "metadata": {},
   "source": [
    " 7️⃣ Columna \"Coordinadas\""
   ]
  },
  {
   "cell_type": "code",
   "execution_count": 31,
   "id": "0e89866d",
   "metadata": {},
   "outputs": [
    {
     "data": {
      "text/html": [
       "<div>\n",
       "<style scoped>\n",
       "    .dataframe tbody tr th:only-of-type {\n",
       "        vertical-align: middle;\n",
       "    }\n",
       "\n",
       "    .dataframe tbody tr th {\n",
       "        vertical-align: top;\n",
       "    }\n",
       "\n",
       "    .dataframe thead th {\n",
       "        text-align: right;\n",
       "    }\n",
       "</style>\n",
       "<table border=\"1\" class=\"dataframe\">\n",
       "  <thead>\n",
       "    <tr style=\"text-align: right;\">\n",
       "      <th></th>\n",
       "      <th>num_expediente</th>\n",
       "      <th>fecha</th>\n",
       "      <th>hora</th>\n",
       "      <th>localizacion</th>\n",
       "      <th>numero</th>\n",
       "      <th>cod_distrito</th>\n",
       "      <th>distrito</th>\n",
       "      <th>tipo_accidente</th>\n",
       "      <th>estado_meteorológico</th>\n",
       "      <th>tipo_vehiculo</th>\n",
       "      <th>tipo_persona</th>\n",
       "      <th>rango_edad</th>\n",
       "      <th>sexo</th>\n",
       "      <th>cod_lesividad</th>\n",
       "      <th>lesividad</th>\n",
       "      <th>coordenada_x_utm</th>\n",
       "      <th>coordenada_y_utm</th>\n",
       "      <th>positiva_alcohol</th>\n",
       "      <th>dia_semana</th>\n",
       "    </tr>\n",
       "  </thead>\n",
       "  <tbody>\n",
       "    <tr>\n",
       "      <th>30817</th>\n",
       "      <td>2021S018891</td>\n",
       "      <td>2021-10-17</td>\n",
       "      <td>12:20:00</td>\n",
       "      <td>RONDA. SUR / CALL. MARTOS</td>\n",
       "      <td>241</td>\n",
       "      <td>13</td>\n",
       "      <td>PUENTE DE VALLECAS</td>\n",
       "      <td>Alcance</td>\n",
       "      <td>Despejado</td>\n",
       "      <td>Furgoneta</td>\n",
       "      <td>Conductor</td>\n",
       "      <td>Desconocido</td>\n",
       "      <td>Desconocido</td>\n",
       "      <td>&lt;NA&gt;</td>\n",
       "      <td>Sin especificar</td>\n",
       "      <td>NaN</td>\n",
       "      <td>NaN</td>\n",
       "      <td>N</td>\n",
       "      <td>Sunday</td>\n",
       "    </tr>\n",
       "    <tr>\n",
       "      <th>30818</th>\n",
       "      <td>2021S018891</td>\n",
       "      <td>2021-10-17</td>\n",
       "      <td>12:20:00</td>\n",
       "      <td>RONDA. SUR / CALL. MARTOS</td>\n",
       "      <td>241</td>\n",
       "      <td>13</td>\n",
       "      <td>PUENTE DE VALLECAS</td>\n",
       "      <td>Alcance</td>\n",
       "      <td>Despejado</td>\n",
       "      <td>Turismo</td>\n",
       "      <td>Conductor</td>\n",
       "      <td>De 18 a 20 años</td>\n",
       "      <td>Hombre</td>\n",
       "      <td>&lt;NA&gt;</td>\n",
       "      <td>Sin especificar</td>\n",
       "      <td>NaN</td>\n",
       "      <td>NaN</td>\n",
       "      <td>N</td>\n",
       "      <td>Sunday</td>\n",
       "    </tr>\n",
       "    <tr>\n",
       "      <th>37939</th>\n",
       "      <td>2021S022950</td>\n",
       "      <td>2021-12-03</td>\n",
       "      <td>06:30:00</td>\n",
       "      <td>CALL. REY FRANCISCO, 28</td>\n",
       "      <td>28</td>\n",
       "      <td>9</td>\n",
       "      <td>MONCLOA-ARAVACA</td>\n",
       "      <td>Colisión múltiple</td>\n",
       "      <td>Despejado</td>\n",
       "      <td>Otros</td>\n",
       "      <td>Conductor</td>\n",
       "      <td>Desconocido</td>\n",
       "      <td>Desconocido</td>\n",
       "      <td>&lt;NA&gt;</td>\n",
       "      <td>Sin especificar</td>\n",
       "      <td>NaN</td>\n",
       "      <td>NaN</td>\n",
       "      <td>N</td>\n",
       "      <td>Friday</td>\n",
       "    </tr>\n",
       "    <tr>\n",
       "      <th>37940</th>\n",
       "      <td>2021S022950</td>\n",
       "      <td>2021-12-03</td>\n",
       "      <td>06:30:00</td>\n",
       "      <td>CALL. REY FRANCISCO, 28</td>\n",
       "      <td>28</td>\n",
       "      <td>9</td>\n",
       "      <td>MONCLOA-ARAVACA</td>\n",
       "      <td>Colisión múltiple</td>\n",
       "      <td>Despejado</td>\n",
       "      <td>Turismo</td>\n",
       "      <td>Conductor</td>\n",
       "      <td>De 21 a 24 años</td>\n",
       "      <td>Hombre</td>\n",
       "      <td>&lt;NA&gt;</td>\n",
       "      <td>Sin especificar</td>\n",
       "      <td>NaN</td>\n",
       "      <td>NaN</td>\n",
       "      <td>N</td>\n",
       "      <td>Friday</td>\n",
       "    </tr>\n",
       "    <tr>\n",
       "      <th>39443</th>\n",
       "      <td>2021S023850</td>\n",
       "      <td>2021-12-14</td>\n",
       "      <td>09:10:00</td>\n",
       "      <td>AUTOV. M-23, KM 0,700</td>\n",
       "      <td>0</td>\n",
       "      <td>14</td>\n",
       "      <td>MORATALAZ</td>\n",
       "      <td>Colisión múltiple</td>\n",
       "      <td>Despejado</td>\n",
       "      <td>Turismo</td>\n",
       "      <td>Conductor</td>\n",
       "      <td>De 45 a 49 años</td>\n",
       "      <td>Mujer</td>\n",
       "      <td>7</td>\n",
       "      <td>Asistencia sanitaria sólo en el lugar del acci...</td>\n",
       "      <td>NaN</td>\n",
       "      <td>NaN</td>\n",
       "      <td>N</td>\n",
       "      <td>Tuesday</td>\n",
       "    </tr>\n",
       "    <tr>\n",
       "      <th>39444</th>\n",
       "      <td>2021S023850</td>\n",
       "      <td>2021-12-14</td>\n",
       "      <td>09:10:00</td>\n",
       "      <td>AUTOV. M-23, KM 0,700</td>\n",
       "      <td>0</td>\n",
       "      <td>14</td>\n",
       "      <td>MORATALAZ</td>\n",
       "      <td>Colisión múltiple</td>\n",
       "      <td>Despejado</td>\n",
       "      <td>Turismo</td>\n",
       "      <td>Conductor</td>\n",
       "      <td>De 50 a 54 años</td>\n",
       "      <td>Hombre</td>\n",
       "      <td>14</td>\n",
       "      <td>Sin asistencia sanitaria</td>\n",
       "      <td>NaN</td>\n",
       "      <td>NaN</td>\n",
       "      <td>N</td>\n",
       "      <td>Tuesday</td>\n",
       "    </tr>\n",
       "    <tr>\n",
       "      <th>39445</th>\n",
       "      <td>2021S023850</td>\n",
       "      <td>2021-12-14</td>\n",
       "      <td>09:10:00</td>\n",
       "      <td>AUTOV. M-23, KM 0,700</td>\n",
       "      <td>0</td>\n",
       "      <td>14</td>\n",
       "      <td>MORATALAZ</td>\n",
       "      <td>Colisión múltiple</td>\n",
       "      <td>Despejado</td>\n",
       "      <td>Turismo</td>\n",
       "      <td>Conductor</td>\n",
       "      <td>De 60 a 64 años</td>\n",
       "      <td>Hombre</td>\n",
       "      <td>14</td>\n",
       "      <td>Sin asistencia sanitaria</td>\n",
       "      <td>NaN</td>\n",
       "      <td>NaN</td>\n",
       "      <td>N</td>\n",
       "      <td>Tuesday</td>\n",
       "    </tr>\n",
       "    <tr>\n",
       "      <th>41231</th>\n",
       "      <td>2021S024803</td>\n",
       "      <td>2021-12-27</td>\n",
       "      <td>02:10:00</td>\n",
       "      <td>PLAZA. AGUSTIN GONZALEZ / CALL. SANTA GENOVEVA</td>\n",
       "      <td>1</td>\n",
       "      <td>15</td>\n",
       "      <td>CIUDAD LINEAL</td>\n",
       "      <td>Otro</td>\n",
       "      <td>NaN</td>\n",
       "      <td>Turismo</td>\n",
       "      <td>Conductor</td>\n",
       "      <td>De 45 a 49 años</td>\n",
       "      <td>Hombre</td>\n",
       "      <td>&lt;NA&gt;</td>\n",
       "      <td>Sin especificar</td>\n",
       "      <td>NaN</td>\n",
       "      <td>NaN</td>\n",
       "      <td>S</td>\n",
       "      <td>Monday</td>\n",
       "    </tr>\n",
       "    <tr>\n",
       "      <th>41425</th>\n",
       "      <td>2021S024915</td>\n",
       "      <td>2021-12-29</td>\n",
       "      <td>00:00:00</td>\n",
       "      <td>URB. MANZANA DE AZCA / CALL. AGUSTIN DE BETANC...</td>\n",
       "      <td>0</td>\n",
       "      <td>6</td>\n",
       "      <td>TETUÁN</td>\n",
       "      <td>Choque contra obstáculo fijo</td>\n",
       "      <td>Despejado</td>\n",
       "      <td>Turismo</td>\n",
       "      <td>Conductor</td>\n",
       "      <td>Desconocido</td>\n",
       "      <td>Desconocido</td>\n",
       "      <td>&lt;NA&gt;</td>\n",
       "      <td>Sin especificar</td>\n",
       "      <td>NaN</td>\n",
       "      <td>NaN</td>\n",
       "      <td>N</td>\n",
       "      <td>Wednesday</td>\n",
       "    </tr>\n",
       "    <tr>\n",
       "      <th>41524</th>\n",
       "      <td>2021S024959</td>\n",
       "      <td>2021-12-29</td>\n",
       "      <td>13:55:00</td>\n",
       "      <td>CALL. GENERAL RICARDOS / CALL. BATALLA DE TORR...</td>\n",
       "      <td>220</td>\n",
       "      <td>11</td>\n",
       "      <td>CARABANCHEL</td>\n",
       "      <td>Alcance</td>\n",
       "      <td>Despejado</td>\n",
       "      <td>Otros</td>\n",
       "      <td>Conductor</td>\n",
       "      <td>De 45 a 49 años</td>\n",
       "      <td>Hombre</td>\n",
       "      <td>14</td>\n",
       "      <td>Sin asistencia sanitaria</td>\n",
       "      <td>NaN</td>\n",
       "      <td>NaN</td>\n",
       "      <td>N</td>\n",
       "      <td>Wednesday</td>\n",
       "    </tr>\n",
       "    <tr>\n",
       "      <th>41614</th>\n",
       "      <td>2021S024999</td>\n",
       "      <td>2021-12-30</td>\n",
       "      <td>23:10:00</td>\n",
       "      <td>CALL. ARROYO DE LA MEDIA LEGUA, 72</td>\n",
       "      <td>72</td>\n",
       "      <td>14</td>\n",
       "      <td>MORATALAZ</td>\n",
       "      <td>Atropello a persona</td>\n",
       "      <td>Se desconoce</td>\n",
       "      <td>Turismo</td>\n",
       "      <td>Conductor</td>\n",
       "      <td>De 45 a 49 años</td>\n",
       "      <td>Hombre</td>\n",
       "      <td>14</td>\n",
       "      <td>Sin asistencia sanitaria</td>\n",
       "      <td>NaN</td>\n",
       "      <td>NaN</td>\n",
       "      <td>N</td>\n",
       "      <td>Thursday</td>\n",
       "    </tr>\n",
       "    <tr>\n",
       "      <th>41615</th>\n",
       "      <td>2021S024999</td>\n",
       "      <td>2021-12-30</td>\n",
       "      <td>23:10:00</td>\n",
       "      <td>CALL. ARROYO DE LA MEDIA LEGUA, 72</td>\n",
       "      <td>72</td>\n",
       "      <td>14</td>\n",
       "      <td>MORATALAZ</td>\n",
       "      <td>Atropello a persona</td>\n",
       "      <td>Se desconoce</td>\n",
       "      <td>Turismo</td>\n",
       "      <td>Peatón</td>\n",
       "      <td>De 45 a 49 años</td>\n",
       "      <td>Hombre</td>\n",
       "      <td>3</td>\n",
       "      <td>Ingreso superior a 24 horas</td>\n",
       "      <td>NaN</td>\n",
       "      <td>NaN</td>\n",
       "      <td>N</td>\n",
       "      <td>Thursday</td>\n",
       "    </tr>\n",
       "  </tbody>\n",
       "</table>\n",
       "</div>"
      ],
      "text/plain": [
       "      num_expediente      fecha      hora  \\\n",
       "30817    2021S018891 2021-10-17  12:20:00   \n",
       "30818    2021S018891 2021-10-17  12:20:00   \n",
       "37939    2021S022950 2021-12-03  06:30:00   \n",
       "37940    2021S022950 2021-12-03  06:30:00   \n",
       "39443    2021S023850 2021-12-14  09:10:00   \n",
       "39444    2021S023850 2021-12-14  09:10:00   \n",
       "39445    2021S023850 2021-12-14  09:10:00   \n",
       "41231    2021S024803 2021-12-27  02:10:00   \n",
       "41425    2021S024915 2021-12-29  00:00:00   \n",
       "41524    2021S024959 2021-12-29  13:55:00   \n",
       "41614    2021S024999 2021-12-30  23:10:00   \n",
       "41615    2021S024999 2021-12-30  23:10:00   \n",
       "\n",
       "                                            localizacion numero  cod_distrito  \\\n",
       "30817                          RONDA. SUR / CALL. MARTOS    241            13   \n",
       "30818                          RONDA. SUR / CALL. MARTOS    241            13   \n",
       "37939                            CALL. REY FRANCISCO, 28     28             9   \n",
       "37940                            CALL. REY FRANCISCO, 28     28             9   \n",
       "39443                              AUTOV. M-23, KM 0,700      0            14   \n",
       "39444                              AUTOV. M-23, KM 0,700      0            14   \n",
       "39445                              AUTOV. M-23, KM 0,700      0            14   \n",
       "41231     PLAZA. AGUSTIN GONZALEZ / CALL. SANTA GENOVEVA      1            15   \n",
       "41425  URB. MANZANA DE AZCA / CALL. AGUSTIN DE BETANC...      0             6   \n",
       "41524  CALL. GENERAL RICARDOS / CALL. BATALLA DE TORR...    220            11   \n",
       "41614                 CALL. ARROYO DE LA MEDIA LEGUA, 72     72            14   \n",
       "41615                 CALL. ARROYO DE LA MEDIA LEGUA, 72     72            14   \n",
       "\n",
       "                 distrito                tipo_accidente estado_meteorológico  \\\n",
       "30817  PUENTE DE VALLECAS                       Alcance            Despejado   \n",
       "30818  PUENTE DE VALLECAS                       Alcance            Despejado   \n",
       "37939     MONCLOA-ARAVACA             Colisión múltiple            Despejado   \n",
       "37940     MONCLOA-ARAVACA             Colisión múltiple            Despejado   \n",
       "39443           MORATALAZ             Colisión múltiple            Despejado   \n",
       "39444           MORATALAZ             Colisión múltiple            Despejado   \n",
       "39445           MORATALAZ             Colisión múltiple            Despejado   \n",
       "41231       CIUDAD LINEAL                          Otro                  NaN   \n",
       "41425              TETUÁN  Choque contra obstáculo fijo            Despejado   \n",
       "41524         CARABANCHEL                       Alcance            Despejado   \n",
       "41614           MORATALAZ           Atropello a persona         Se desconoce   \n",
       "41615           MORATALAZ           Atropello a persona         Se desconoce   \n",
       "\n",
       "      tipo_vehiculo tipo_persona       rango_edad         sexo  cod_lesividad  \\\n",
       "30817     Furgoneta    Conductor      Desconocido  Desconocido           <NA>   \n",
       "30818       Turismo    Conductor  De 18 a 20 años       Hombre           <NA>   \n",
       "37939         Otros    Conductor      Desconocido  Desconocido           <NA>   \n",
       "37940       Turismo    Conductor  De 21 a 24 años       Hombre           <NA>   \n",
       "39443       Turismo    Conductor  De 45 a 49 años        Mujer              7   \n",
       "39444       Turismo    Conductor  De 50 a 54 años       Hombre             14   \n",
       "39445       Turismo    Conductor  De 60 a 64 años       Hombre             14   \n",
       "41231       Turismo    Conductor  De 45 a 49 años       Hombre           <NA>   \n",
       "41425       Turismo    Conductor      Desconocido  Desconocido           <NA>   \n",
       "41524         Otros    Conductor  De 45 a 49 años       Hombre             14   \n",
       "41614       Turismo    Conductor  De 45 a 49 años       Hombre             14   \n",
       "41615       Turismo       Peatón  De 45 a 49 años       Hombre              3   \n",
       "\n",
       "                                               lesividad  coordenada_x_utm  \\\n",
       "30817                                    Sin especificar               NaN   \n",
       "30818                                    Sin especificar               NaN   \n",
       "37939                                    Sin especificar               NaN   \n",
       "37940                                    Sin especificar               NaN   \n",
       "39443  Asistencia sanitaria sólo en el lugar del acci...               NaN   \n",
       "39444                           Sin asistencia sanitaria               NaN   \n",
       "39445                           Sin asistencia sanitaria               NaN   \n",
       "41231                                    Sin especificar               NaN   \n",
       "41425                                    Sin especificar               NaN   \n",
       "41524                           Sin asistencia sanitaria               NaN   \n",
       "41614                           Sin asistencia sanitaria               NaN   \n",
       "41615                        Ingreso superior a 24 horas               NaN   \n",
       "\n",
       "       coordenada_y_utm positiva_alcohol dia_semana  \n",
       "30817               NaN                N     Sunday  \n",
       "30818               NaN                N     Sunday  \n",
       "37939               NaN                N     Friday  \n",
       "37940               NaN                N     Friday  \n",
       "39443               NaN                N    Tuesday  \n",
       "39444               NaN                N    Tuesday  \n",
       "39445               NaN                N    Tuesday  \n",
       "41231               NaN                S     Monday  \n",
       "41425               NaN                N  Wednesday  \n",
       "41524               NaN                N  Wednesday  \n",
       "41614               NaN                N   Thursday  \n",
       "41615               NaN                N   Thursday  "
      ]
     },
     "execution_count": 31,
     "metadata": {},
     "output_type": "execute_result"
    }
   ],
   "source": [
    "df_limpio[df_limpio[\"coordenada_x_utm\"].isnull()]"
   ]
  },
  {
   "cell_type": "code",
   "execution_count": 32,
   "id": "ce8b63bb",
   "metadata": {
    "scrolled": true
   },
   "outputs": [],
   "source": [
    "#df ['hora'] = pd. to_datetime.time (df['hora'])"
   ]
  },
  {
   "cell_type": "markdown",
   "id": "5c8199a6",
   "metadata": {},
   "source": [
    "# Manipulación de columnas"
   ]
  },
  {
   "cell_type": "markdown",
   "id": "33715e25",
   "metadata": {},
   "source": [
    "1️⃣ Distrito --> Poner el string en minúsculas con la primera letra mayúscula"
   ]
  },
  {
   "cell_type": "code",
   "execution_count": 33,
   "id": "b38bcc51",
   "metadata": {},
   "outputs": [
    {
     "data": {
      "text/html": [
       "<div>\n",
       "<style scoped>\n",
       "    .dataframe tbody tr th:only-of-type {\n",
       "        vertical-align: middle;\n",
       "    }\n",
       "\n",
       "    .dataframe tbody tr th {\n",
       "        vertical-align: top;\n",
       "    }\n",
       "\n",
       "    .dataframe thead th {\n",
       "        text-align: right;\n",
       "    }\n",
       "</style>\n",
       "<table border=\"1\" class=\"dataframe\">\n",
       "  <thead>\n",
       "    <tr style=\"text-align: right;\">\n",
       "      <th></th>\n",
       "      <th>num_expediente</th>\n",
       "      <th>fecha</th>\n",
       "      <th>hora</th>\n",
       "      <th>localizacion</th>\n",
       "      <th>numero</th>\n",
       "      <th>cod_distrito</th>\n",
       "      <th>distrito</th>\n",
       "      <th>tipo_accidente</th>\n",
       "      <th>estado_meteorológico</th>\n",
       "      <th>tipo_vehiculo</th>\n",
       "      <th>tipo_persona</th>\n",
       "      <th>rango_edad</th>\n",
       "      <th>sexo</th>\n",
       "      <th>cod_lesividad</th>\n",
       "      <th>lesividad</th>\n",
       "      <th>coordenada_x_utm</th>\n",
       "      <th>coordenada_y_utm</th>\n",
       "      <th>positiva_alcohol</th>\n",
       "      <th>dia_semana</th>\n",
       "    </tr>\n",
       "  </thead>\n",
       "  <tbody>\n",
       "    <tr>\n",
       "      <th>0</th>\n",
       "      <td>2020S019534</td>\n",
       "      <td>2021-01-01</td>\n",
       "      <td>04:30:00</td>\n",
       "      <td>AVDA. PABLO NERUDA / CALL. LEONESES</td>\n",
       "      <td>57</td>\n",
       "      <td>13</td>\n",
       "      <td>Puente de vallecas</td>\n",
       "      <td>Colisión fronto-lateral</td>\n",
       "      <td>Despejado</td>\n",
       "      <td>Turismo</td>\n",
       "      <td>Conductor</td>\n",
       "      <td>De 30 a 34 años</td>\n",
       "      <td>Mujer</td>\n",
       "      <td>14</td>\n",
       "      <td>Sin asistencia sanitaria</td>\n",
       "      <td>444976.463</td>\n",
       "      <td>4470508.259</td>\n",
       "      <td>N</td>\n",
       "      <td>Friday</td>\n",
       "    </tr>\n",
       "    <tr>\n",
       "      <th>1</th>\n",
       "      <td>2020S019534</td>\n",
       "      <td>2021-01-01</td>\n",
       "      <td>04:30:00</td>\n",
       "      <td>AVDA. PABLO NERUDA / CALL. LEONESES</td>\n",
       "      <td>57</td>\n",
       "      <td>13</td>\n",
       "      <td>Puente de vallecas</td>\n",
       "      <td>Colisión fronto-lateral</td>\n",
       "      <td>Despejado</td>\n",
       "      <td>Turismo</td>\n",
       "      <td>Conductor</td>\n",
       "      <td>De 35 a 39 años</td>\n",
       "      <td>Hombre</td>\n",
       "      <td>7</td>\n",
       "      <td>Asistencia sanitaria sólo en el lugar del acci...</td>\n",
       "      <td>444976.463</td>\n",
       "      <td>4470508.259</td>\n",
       "      <td>N</td>\n",
       "      <td>Friday</td>\n",
       "    </tr>\n",
       "  </tbody>\n",
       "</table>\n",
       "</div>"
      ],
      "text/plain": [
       "  num_expediente      fecha      hora                         localizacion  \\\n",
       "0    2020S019534 2021-01-01  04:30:00  AVDA. PABLO NERUDA / CALL. LEONESES   \n",
       "1    2020S019534 2021-01-01  04:30:00  AVDA. PABLO NERUDA / CALL. LEONESES   \n",
       "\n",
       "  numero  cod_distrito            distrito           tipo_accidente  \\\n",
       "0     57            13  Puente de vallecas  Colisión fronto-lateral   \n",
       "1     57            13  Puente de vallecas  Colisión fronto-lateral   \n",
       "\n",
       "  estado_meteorológico tipo_vehiculo tipo_persona       rango_edad    sexo  \\\n",
       "0            Despejado       Turismo    Conductor  De 30 a 34 años   Mujer   \n",
       "1            Despejado       Turismo    Conductor  De 35 a 39 años  Hombre   \n",
       "\n",
       "   cod_lesividad                                          lesividad  \\\n",
       "0             14                           Sin asistencia sanitaria   \n",
       "1              7  Asistencia sanitaria sólo en el lugar del acci...   \n",
       "\n",
       "   coordenada_x_utm  coordenada_y_utm positiva_alcohol dia_semana  \n",
       "0        444976.463       4470508.259                N     Friday  \n",
       "1        444976.463       4470508.259                N     Friday  "
      ]
     },
     "execution_count": 33,
     "metadata": {},
     "output_type": "execute_result"
    }
   ],
   "source": [
    "df_limpio[\"distrito\"] = df_limpio[\"distrito\"].str.capitalize()\n",
    "df_limpio.head(2)"
   ]
  },
  {
   "cell_type": "markdown",
   "id": "8c7e4561",
   "metadata": {},
   "source": [
    "2️⃣ Localización --> Poner el string en minúsculas con la primera letra mayúscula"
   ]
  },
  {
   "cell_type": "code",
   "execution_count": 34,
   "id": "0013acfc",
   "metadata": {},
   "outputs": [
    {
     "data": {
      "text/html": [
       "<div>\n",
       "<style scoped>\n",
       "    .dataframe tbody tr th:only-of-type {\n",
       "        vertical-align: middle;\n",
       "    }\n",
       "\n",
       "    .dataframe tbody tr th {\n",
       "        vertical-align: top;\n",
       "    }\n",
       "\n",
       "    .dataframe thead th {\n",
       "        text-align: right;\n",
       "    }\n",
       "</style>\n",
       "<table border=\"1\" class=\"dataframe\">\n",
       "  <thead>\n",
       "    <tr style=\"text-align: right;\">\n",
       "      <th></th>\n",
       "      <th>num_expediente</th>\n",
       "      <th>fecha</th>\n",
       "      <th>hora</th>\n",
       "      <th>localizacion</th>\n",
       "      <th>numero</th>\n",
       "      <th>cod_distrito</th>\n",
       "      <th>distrito</th>\n",
       "      <th>tipo_accidente</th>\n",
       "      <th>estado_meteorológico</th>\n",
       "      <th>tipo_vehiculo</th>\n",
       "      <th>tipo_persona</th>\n",
       "      <th>rango_edad</th>\n",
       "      <th>sexo</th>\n",
       "      <th>cod_lesividad</th>\n",
       "      <th>lesividad</th>\n",
       "      <th>coordenada_x_utm</th>\n",
       "      <th>coordenada_y_utm</th>\n",
       "      <th>positiva_alcohol</th>\n",
       "      <th>dia_semana</th>\n",
       "    </tr>\n",
       "  </thead>\n",
       "  <tbody>\n",
       "    <tr>\n",
       "      <th>0</th>\n",
       "      <td>2020S019534</td>\n",
       "      <td>2021-01-01</td>\n",
       "      <td>04:30:00</td>\n",
       "      <td>Avda. pablo neruda / call. leoneses</td>\n",
       "      <td>57</td>\n",
       "      <td>13</td>\n",
       "      <td>Puente de vallecas</td>\n",
       "      <td>Colisión fronto-lateral</td>\n",
       "      <td>Despejado</td>\n",
       "      <td>Turismo</td>\n",
       "      <td>Conductor</td>\n",
       "      <td>De 30 a 34 años</td>\n",
       "      <td>Mujer</td>\n",
       "      <td>14</td>\n",
       "      <td>Sin asistencia sanitaria</td>\n",
       "      <td>444976.463</td>\n",
       "      <td>4470508.259</td>\n",
       "      <td>N</td>\n",
       "      <td>Friday</td>\n",
       "    </tr>\n",
       "    <tr>\n",
       "      <th>1</th>\n",
       "      <td>2020S019534</td>\n",
       "      <td>2021-01-01</td>\n",
       "      <td>04:30:00</td>\n",
       "      <td>Avda. pablo neruda / call. leoneses</td>\n",
       "      <td>57</td>\n",
       "      <td>13</td>\n",
       "      <td>Puente de vallecas</td>\n",
       "      <td>Colisión fronto-lateral</td>\n",
       "      <td>Despejado</td>\n",
       "      <td>Turismo</td>\n",
       "      <td>Conductor</td>\n",
       "      <td>De 35 a 39 años</td>\n",
       "      <td>Hombre</td>\n",
       "      <td>7</td>\n",
       "      <td>Asistencia sanitaria sólo en el lugar del acci...</td>\n",
       "      <td>444976.463</td>\n",
       "      <td>4470508.259</td>\n",
       "      <td>N</td>\n",
       "      <td>Friday</td>\n",
       "    </tr>\n",
       "  </tbody>\n",
       "</table>\n",
       "</div>"
      ],
      "text/plain": [
       "  num_expediente      fecha      hora                         localizacion  \\\n",
       "0    2020S019534 2021-01-01  04:30:00  Avda. pablo neruda / call. leoneses   \n",
       "1    2020S019534 2021-01-01  04:30:00  Avda. pablo neruda / call. leoneses   \n",
       "\n",
       "  numero  cod_distrito            distrito           tipo_accidente  \\\n",
       "0     57            13  Puente de vallecas  Colisión fronto-lateral   \n",
       "1     57            13  Puente de vallecas  Colisión fronto-lateral   \n",
       "\n",
       "  estado_meteorológico tipo_vehiculo tipo_persona       rango_edad    sexo  \\\n",
       "0            Despejado       Turismo    Conductor  De 30 a 34 años   Mujer   \n",
       "1            Despejado       Turismo    Conductor  De 35 a 39 años  Hombre   \n",
       "\n",
       "   cod_lesividad                                          lesividad  \\\n",
       "0             14                           Sin asistencia sanitaria   \n",
       "1              7  Asistencia sanitaria sólo en el lugar del acci...   \n",
       "\n",
       "   coordenada_x_utm  coordenada_y_utm positiva_alcohol dia_semana  \n",
       "0        444976.463       4470508.259                N     Friday  \n",
       "1        444976.463       4470508.259                N     Friday  "
      ]
     },
     "execution_count": 34,
     "metadata": {},
     "output_type": "execute_result"
    }
   ],
   "source": [
    "df_limpio[\"localizacion\"] = df_limpio[\"localizacion\"].str.capitalize()\n",
    "df_limpio.head(2)"
   ]
  },
  {
   "cell_type": "markdown",
   "id": "38d73b8b",
   "metadata": {},
   "source": [
    "# Eliminación de columnas"
   ]
  },
  {
   "cell_type": "code",
   "execution_count": 35,
   "id": "b9eccc09",
   "metadata": {},
   "outputs": [],
   "source": [
    "eliminar = [\"cod_lesividad\"]"
   ]
  },
  {
   "cell_type": "code",
   "execution_count": 36,
   "id": "bf37856e",
   "metadata": {},
   "outputs": [],
   "source": [
    "df_limpio = df_limpio.drop(eliminar, axis = 1)"
   ]
  },
  {
   "cell_type": "markdown",
   "id": "9bd9c4db",
   "metadata": {},
   "source": [
    "# Groupby"
   ]
  },
  {
   "cell_type": "markdown",
   "id": "3ebf55da",
   "metadata": {},
   "source": [
    "Agrupación por número de expediente"
   ]
  },
  {
   "cell_type": "code",
   "execution_count": 37,
   "id": "4b6b44b5",
   "metadata": {
    "scrolled": false
   },
   "outputs": [
    {
     "name": "stderr",
     "output_type": "stream",
     "text": [
      "/var/folders/hb/9zbycmb97bx0n1b4ggqr8s_c0000gn/T/ipykernel_31759/4186470162.py:1: FutureWarning: Indexing with multiple keys (implicitly converted to a tuple of keys) will be deprecated, use a list instead.\n",
      "  df_pie = pd.DataFrame(df_limpio.groupby(['num_expediente', 'distrito'])[\"tipo_vehiculo\", \"tipo_accidente\", \"tipo_persona\"].count())\n"
     ]
    },
    {
     "data": {
      "text/html": [
       "<div>\n",
       "<style scoped>\n",
       "    .dataframe tbody tr th:only-of-type {\n",
       "        vertical-align: middle;\n",
       "    }\n",
       "\n",
       "    .dataframe tbody tr th {\n",
       "        vertical-align: top;\n",
       "    }\n",
       "\n",
       "    .dataframe thead th {\n",
       "        text-align: right;\n",
       "    }\n",
       "</style>\n",
       "<table border=\"1\" class=\"dataframe\">\n",
       "  <thead>\n",
       "    <tr style=\"text-align: right;\">\n",
       "      <th></th>\n",
       "      <th></th>\n",
       "      <th>tipo_vehiculo</th>\n",
       "      <th>tipo_accidente</th>\n",
       "      <th>tipo_persona</th>\n",
       "    </tr>\n",
       "    <tr>\n",
       "      <th>num_expediente</th>\n",
       "      <th>distrito</th>\n",
       "      <th></th>\n",
       "      <th></th>\n",
       "      <th></th>\n",
       "    </tr>\n",
       "  </thead>\n",
       "  <tbody>\n",
       "    <tr>\n",
       "      <th>2020S019534</th>\n",
       "      <th>Puente de vallecas</th>\n",
       "      <td>5</td>\n",
       "      <td>5</td>\n",
       "      <td>5</td>\n",
       "    </tr>\n",
       "  </tbody>\n",
       "</table>\n",
       "</div>"
      ],
      "text/plain": [
       "                                   tipo_vehiculo  tipo_accidente  tipo_persona\n",
       "num_expediente distrito                                                       \n",
       "2020S019534    Puente de vallecas              5               5             5"
      ]
     },
     "execution_count": 37,
     "metadata": {},
     "output_type": "execute_result"
    }
   ],
   "source": [
    "df_pie = pd.DataFrame(df_limpio.groupby(['num_expediente', 'distrito'])[\"tipo_vehiculo\", \"tipo_accidente\", \"tipo_persona\"].count())\n",
    "\n",
    "df_pie.head(1)"
   ]
  },
  {
   "cell_type": "code",
   "execution_count": 38,
   "id": "d52a8ce5",
   "metadata": {
    "scrolled": true
   },
   "outputs": [
    {
     "data": {
      "text/html": [
       "<div>\n",
       "<style scoped>\n",
       "    .dataframe tbody tr th:only-of-type {\n",
       "        vertical-align: middle;\n",
       "    }\n",
       "\n",
       "    .dataframe tbody tr th {\n",
       "        vertical-align: top;\n",
       "    }\n",
       "\n",
       "    .dataframe thead th {\n",
       "        text-align: right;\n",
       "    }\n",
       "</style>\n",
       "<table border=\"1\" class=\"dataframe\">\n",
       "  <thead>\n",
       "    <tr style=\"text-align: right;\">\n",
       "      <th></th>\n",
       "      <th>num_expediente</th>\n",
       "      <th>distrito</th>\n",
       "      <th>tipo_vehiculo</th>\n",
       "      <th>tipo_accidente</th>\n",
       "      <th>tipo_persona</th>\n",
       "    </tr>\n",
       "  </thead>\n",
       "  <tbody>\n",
       "    <tr>\n",
       "      <th>0</th>\n",
       "      <td>2020S019534</td>\n",
       "      <td>Puente de vallecas</td>\n",
       "      <td>5</td>\n",
       "      <td>5</td>\n",
       "      <td>5</td>\n",
       "    </tr>\n",
       "    <tr>\n",
       "      <th>1</th>\n",
       "      <td>2021S000001</td>\n",
       "      <td>Usera</td>\n",
       "      <td>5</td>\n",
       "      <td>5</td>\n",
       "      <td>5</td>\n",
       "    </tr>\n",
       "  </tbody>\n",
       "</table>\n",
       "</div>"
      ],
      "text/plain": [
       "  num_expediente            distrito  tipo_vehiculo  tipo_accidente  \\\n",
       "0    2020S019534  Puente de vallecas              5               5   \n",
       "1    2021S000001               Usera              5               5   \n",
       "\n",
       "   tipo_persona  \n",
       "0             5  \n",
       "1             5  "
      ]
     },
     "execution_count": 38,
     "metadata": {},
     "output_type": "execute_result"
    }
   ],
   "source": [
    "df_pie.reset_index(inplace = True)\n",
    "df_pie.head(2)"
   ]
  },
  {
   "cell_type": "code",
   "execution_count": 39,
   "id": "67185d2b",
   "metadata": {},
   "outputs": [
    {
     "data": {
      "text/plain": [
       "(17952, 5)"
      ]
     },
     "execution_count": 39,
     "metadata": {},
     "output_type": "execute_result"
    }
   ],
   "source": [
    "df_pie.shape"
   ]
  },
  {
   "cell_type": "markdown",
   "id": "bf9b222e",
   "metadata": {},
   "source": [
    "Agrupación por distrito"
   ]
  },
  {
   "cell_type": "code",
   "execution_count": 40,
   "id": "255a0977",
   "metadata": {
    "scrolled": true
   },
   "outputs": [
    {
     "data": {
      "text/html": [
       "<div>\n",
       "<style scoped>\n",
       "    .dataframe tbody tr th:only-of-type {\n",
       "        vertical-align: middle;\n",
       "    }\n",
       "\n",
       "    .dataframe tbody tr th {\n",
       "        vertical-align: top;\n",
       "    }\n",
       "\n",
       "    .dataframe thead th {\n",
       "        text-align: right;\n",
       "    }\n",
       "</style>\n",
       "<table border=\"1\" class=\"dataframe\">\n",
       "  <thead>\n",
       "    <tr style=\"text-align: right;\">\n",
       "      <th></th>\n",
       "      <th>num_expediente</th>\n",
       "    </tr>\n",
       "    <tr>\n",
       "      <th>distrito</th>\n",
       "      <th></th>\n",
       "    </tr>\n",
       "  </thead>\n",
       "  <tbody>\n",
       "    <tr>\n",
       "      <th>Arganzuela</th>\n",
       "      <td>843</td>\n",
       "    </tr>\n",
       "    <tr>\n",
       "      <th>Barajas</th>\n",
       "      <td>315</td>\n",
       "    </tr>\n",
       "  </tbody>\n",
       "</table>\n",
       "</div>"
      ],
      "text/plain": [
       "            num_expediente\n",
       "distrito                  \n",
       "Arganzuela             843\n",
       "Barajas                315"
      ]
     },
     "execution_count": 40,
     "metadata": {},
     "output_type": "execute_result"
    }
   ],
   "source": [
    "df_pie_1 = pd.DataFrame(df_pie.groupby(['distrito'])[\"num_expediente\"].count())\n",
    "\n",
    "df_pie_1.head(2)"
   ]
  },
  {
   "cell_type": "markdown",
   "id": "8116e329",
   "metadata": {},
   "source": [
    "Agrupación por dia de la semana"
   ]
  },
  {
   "cell_type": "code",
   "execution_count": 41,
   "id": "0ffbd7ad",
   "metadata": {
    "scrolled": true
   },
   "outputs": [
    {
     "name": "stderr",
     "output_type": "stream",
     "text": [
      "/var/folders/hb/9zbycmb97bx0n1b4ggqr8s_c0000gn/T/ipykernel_31759/572054545.py:1: FutureWarning: Indexing with multiple keys (implicitly converted to a tuple of keys) will be deprecated, use a list instead.\n",
      "  df_pie_3 = pd.DataFrame(df_limpio.groupby(['num_expediente', 'dia_semana'])[\"tipo_vehiculo\", \"tipo_accidente\", \"tipo_persona\"].count())\n"
     ]
    },
    {
     "data": {
      "text/html": [
       "<div>\n",
       "<style scoped>\n",
       "    .dataframe tbody tr th:only-of-type {\n",
       "        vertical-align: middle;\n",
       "    }\n",
       "\n",
       "    .dataframe tbody tr th {\n",
       "        vertical-align: top;\n",
       "    }\n",
       "\n",
       "    .dataframe thead th {\n",
       "        text-align: right;\n",
       "    }\n",
       "</style>\n",
       "<table border=\"1\" class=\"dataframe\">\n",
       "  <thead>\n",
       "    <tr style=\"text-align: right;\">\n",
       "      <th></th>\n",
       "      <th></th>\n",
       "      <th>tipo_vehiculo</th>\n",
       "      <th>tipo_accidente</th>\n",
       "      <th>tipo_persona</th>\n",
       "    </tr>\n",
       "    <tr>\n",
       "      <th>num_expediente</th>\n",
       "      <th>dia_semana</th>\n",
       "      <th></th>\n",
       "      <th></th>\n",
       "      <th></th>\n",
       "    </tr>\n",
       "  </thead>\n",
       "  <tbody>\n",
       "    <tr>\n",
       "      <th>2020S019534</th>\n",
       "      <th>Friday</th>\n",
       "      <td>5</td>\n",
       "      <td>5</td>\n",
       "      <td>5</td>\n",
       "    </tr>\n",
       "  </tbody>\n",
       "</table>\n",
       "</div>"
      ],
      "text/plain": [
       "                           tipo_vehiculo  tipo_accidente  tipo_persona\n",
       "num_expediente dia_semana                                             \n",
       "2020S019534    Friday                  5               5             5"
      ]
     },
     "execution_count": 41,
     "metadata": {},
     "output_type": "execute_result"
    }
   ],
   "source": [
    "df_pie_3 = pd.DataFrame(df_limpio.groupby(['num_expediente', 'dia_semana'])[\"tipo_vehiculo\", \"tipo_accidente\", \"tipo_persona\"].count())\n",
    "\n",
    "df_pie_3.head(1)"
   ]
  },
  {
   "cell_type": "code",
   "execution_count": 42,
   "id": "f04c5353",
   "metadata": {
    "scrolled": true
   },
   "outputs": [
    {
     "data": {
      "text/html": [
       "<div>\n",
       "<style scoped>\n",
       "    .dataframe tbody tr th:only-of-type {\n",
       "        vertical-align: middle;\n",
       "    }\n",
       "\n",
       "    .dataframe tbody tr th {\n",
       "        vertical-align: top;\n",
       "    }\n",
       "\n",
       "    .dataframe thead th {\n",
       "        text-align: right;\n",
       "    }\n",
       "</style>\n",
       "<table border=\"1\" class=\"dataframe\">\n",
       "  <thead>\n",
       "    <tr style=\"text-align: right;\">\n",
       "      <th></th>\n",
       "      <th>num_expediente</th>\n",
       "      <th>dia_semana</th>\n",
       "      <th>tipo_vehiculo</th>\n",
       "      <th>tipo_accidente</th>\n",
       "      <th>tipo_persona</th>\n",
       "    </tr>\n",
       "  </thead>\n",
       "  <tbody>\n",
       "    <tr>\n",
       "      <th>0</th>\n",
       "      <td>2020S019534</td>\n",
       "      <td>Friday</td>\n",
       "      <td>5</td>\n",
       "      <td>5</td>\n",
       "      <td>5</td>\n",
       "    </tr>\n",
       "    <tr>\n",
       "      <th>1</th>\n",
       "      <td>2021S000001</td>\n",
       "      <td>Friday</td>\n",
       "      <td>5</td>\n",
       "      <td>5</td>\n",
       "      <td>5</td>\n",
       "    </tr>\n",
       "  </tbody>\n",
       "</table>\n",
       "</div>"
      ],
      "text/plain": [
       "  num_expediente dia_semana  tipo_vehiculo  tipo_accidente  tipo_persona\n",
       "0    2020S019534     Friday              5               5             5\n",
       "1    2021S000001     Friday              5               5             5"
      ]
     },
     "execution_count": 42,
     "metadata": {},
     "output_type": "execute_result"
    }
   ],
   "source": [
    "df_pie_3.reset_index(inplace = True)\n",
    "df_pie_3.head(2)"
   ]
  },
  {
   "cell_type": "code",
   "execution_count": 43,
   "id": "1147b93c",
   "metadata": {},
   "outputs": [
    {
     "data": {
      "text/plain": [
       "(17952, 5)"
      ]
     },
     "execution_count": 43,
     "metadata": {},
     "output_type": "execute_result"
    }
   ],
   "source": [
    "df_pie_3.shape"
   ]
  },
  {
   "cell_type": "code",
   "execution_count": 44,
   "id": "1bd464c5",
   "metadata": {},
   "outputs": [
    {
     "data": {
      "text/html": [
       "<div>\n",
       "<style scoped>\n",
       "    .dataframe tbody tr th:only-of-type {\n",
       "        vertical-align: middle;\n",
       "    }\n",
       "\n",
       "    .dataframe tbody tr th {\n",
       "        vertical-align: top;\n",
       "    }\n",
       "\n",
       "    .dataframe thead th {\n",
       "        text-align: right;\n",
       "    }\n",
       "</style>\n",
       "<table border=\"1\" class=\"dataframe\">\n",
       "  <thead>\n",
       "    <tr style=\"text-align: right;\">\n",
       "      <th></th>\n",
       "      <th>num_expediente</th>\n",
       "    </tr>\n",
       "    <tr>\n",
       "      <th>dia_semana</th>\n",
       "      <th></th>\n",
       "    </tr>\n",
       "  </thead>\n",
       "  <tbody>\n",
       "    <tr>\n",
       "      <th>Friday</th>\n",
       "      <td>3099</td>\n",
       "    </tr>\n",
       "    <tr>\n",
       "      <th>Monday</th>\n",
       "      <td>2469</td>\n",
       "    </tr>\n",
       "  </tbody>\n",
       "</table>\n",
       "</div>"
      ],
      "text/plain": [
       "            num_expediente\n",
       "dia_semana                \n",
       "Friday                3099\n",
       "Monday                2469"
      ]
     },
     "execution_count": 44,
     "metadata": {},
     "output_type": "execute_result"
    }
   ],
   "source": [
    "df_pie_4 = pd.DataFrame(df_pie_3.groupby(['dia_semana'])[\"num_expediente\"].count())\n",
    "\n",
    "df_pie_4.head(2)"
   ]
  },
  {
   "cell_type": "code",
   "execution_count": 45,
   "id": "130ac7d5",
   "metadata": {},
   "outputs": [],
   "source": [
    "#df_pie2 = pd.DataFrame(df_pie1.groupby([\"distrito\", \"num_expediente\"])[\"num_expediente\"].count())\n",
    "\n",
    "#df_pie2.head(20)"
   ]
  },
  {
   "cell_type": "code",
   "execution_count": 46,
   "id": "76c8d0f0",
   "metadata": {},
   "outputs": [],
   "source": [
    "df_limpio.to_excel(\"df_limpio3.xlsx\")"
   ]
  },
  {
   "cell_type": "markdown",
   "id": "3a31bbba",
   "metadata": {},
   "source": [
    "# Coordenadas"
   ]
  },
  {
   "cell_type": "code",
   "execution_count": 47,
   "id": "23981340",
   "metadata": {},
   "outputs": [
    {
     "data": {
      "text/plain": [
       "(40.43460948264402, -3.738180465794323)"
      ]
     },
     "execution_count": 47,
     "metadata": {},
     "output_type": "execute_result"
    }
   ],
   "source": [
    "test_coordenada = utm.to_latlon(437390.155, 4476258.031, 30, 'T')\n",
    "test_coordenada"
   ]
  },
  {
   "cell_type": "code",
   "execution_count": 48,
   "id": "d3776a00",
   "metadata": {},
   "outputs": [],
   "source": [
    "latitud =test_coordenada[0]"
   ]
  },
  {
   "cell_type": "code",
   "execution_count": 49,
   "id": "4e98ecf0",
   "metadata": {},
   "outputs": [],
   "source": [
    "longitud = test_coordenada[1]"
   ]
  },
  {
   "cell_type": "code",
   "execution_count": 50,
   "id": "7956d7ab",
   "metadata": {},
   "outputs": [],
   "source": [
    "def utm_converter(cosa1, cosa2):\n",
    "    coordenada = utm.to_latlon(cosa1, cosa2, 30, 'T')\n",
    "    return coordenada[0], coordenada[1]"
   ]
  },
  {
   "cell_type": "code",
   "execution_count": 51,
   "id": "837360e0",
   "metadata": {},
   "outputs": [
    {
     "ename": "OutOfRangeError",
     "evalue": "easting out of range (must be between 100.000 m and 999.999 m)",
     "output_type": "error",
     "traceback": [
      "\u001b[0;31m---------------------------------------------------------------------------\u001b[0m",
      "\u001b[0;31mOutOfRangeError\u001b[0m                           Traceback (most recent call last)",
      "Input \u001b[0;32mIn [51]\u001b[0m, in \u001b[0;36m<cell line: 1>\u001b[0;34m()\u001b[0m\n\u001b[0;32m----> 1\u001b[0m df_limpio[\u001b[38;5;124m\"\u001b[39m\u001b[38;5;124mcoordenadas\u001b[39m\u001b[38;5;124m\"\u001b[39m] \u001b[38;5;241m=\u001b[39m \u001b[43mdf_limpio\u001b[49m\u001b[38;5;241;43m.\u001b[39;49m\u001b[43mapply\u001b[49m\u001b[43m(\u001b[49m\u001b[38;5;28;43;01mlambda\u001b[39;49;00m\u001b[43m \u001b[49m\u001b[43mdatos\u001b[49m\u001b[43m:\u001b[49m\u001b[43m \u001b[49m\u001b[43mutm_converter\u001b[49m\u001b[43m(\u001b[49m\u001b[43mdatos\u001b[49m\u001b[43m[\u001b[49m\u001b[38;5;124;43m\"\u001b[39;49m\u001b[38;5;124;43mcoordenada_x_utm\u001b[39;49m\u001b[38;5;124;43m\"\u001b[39;49m\u001b[43m]\u001b[49m\u001b[43m,\u001b[49m\n\u001b[1;32m      2\u001b[0m \u001b[43m                                            \u001b[49m\u001b[43mdatos\u001b[49m\u001b[43m[\u001b[49m\u001b[38;5;124;43m\"\u001b[39;49m\u001b[38;5;124;43mcoordenada_y_utm\u001b[39;49m\u001b[38;5;124;43m\"\u001b[39;49m\u001b[43m]\u001b[49m\u001b[43m)\u001b[49m\u001b[43m,\u001b[49m\u001b[43m \u001b[49m\u001b[43maxis\u001b[49m\u001b[43m \u001b[49m\u001b[38;5;241;43m=\u001b[39;49m\u001b[38;5;241;43m1\u001b[39;49m\u001b[43m)\u001b[49m\n",
      "File \u001b[0;32m/usr/local/Caskroom/miniconda/base/lib/python3.9/site-packages/pandas/core/frame.py:8833\u001b[0m, in \u001b[0;36mDataFrame.apply\u001b[0;34m(self, func, axis, raw, result_type, args, **kwargs)\u001b[0m\n\u001b[1;32m   8822\u001b[0m \u001b[38;5;28;01mfrom\u001b[39;00m \u001b[38;5;21;01mpandas\u001b[39;00m\u001b[38;5;21;01m.\u001b[39;00m\u001b[38;5;21;01mcore\u001b[39;00m\u001b[38;5;21;01m.\u001b[39;00m\u001b[38;5;21;01mapply\u001b[39;00m \u001b[38;5;28;01mimport\u001b[39;00m frame_apply\n\u001b[1;32m   8824\u001b[0m op \u001b[38;5;241m=\u001b[39m frame_apply(\n\u001b[1;32m   8825\u001b[0m     \u001b[38;5;28mself\u001b[39m,\n\u001b[1;32m   8826\u001b[0m     func\u001b[38;5;241m=\u001b[39mfunc,\n\u001b[0;32m   (...)\u001b[0m\n\u001b[1;32m   8831\u001b[0m     kwargs\u001b[38;5;241m=\u001b[39mkwargs,\n\u001b[1;32m   8832\u001b[0m )\n\u001b[0;32m-> 8833\u001b[0m \u001b[38;5;28;01mreturn\u001b[39;00m \u001b[43mop\u001b[49m\u001b[38;5;241;43m.\u001b[39;49m\u001b[43mapply\u001b[49m\u001b[43m(\u001b[49m\u001b[43m)\u001b[49m\u001b[38;5;241m.\u001b[39m__finalize__(\u001b[38;5;28mself\u001b[39m, method\u001b[38;5;241m=\u001b[39m\u001b[38;5;124m\"\u001b[39m\u001b[38;5;124mapply\u001b[39m\u001b[38;5;124m\"\u001b[39m)\n",
      "File \u001b[0;32m/usr/local/Caskroom/miniconda/base/lib/python3.9/site-packages/pandas/core/apply.py:727\u001b[0m, in \u001b[0;36mFrameApply.apply\u001b[0;34m(self)\u001b[0m\n\u001b[1;32m    724\u001b[0m \u001b[38;5;28;01melif\u001b[39;00m \u001b[38;5;28mself\u001b[39m\u001b[38;5;241m.\u001b[39mraw:\n\u001b[1;32m    725\u001b[0m     \u001b[38;5;28;01mreturn\u001b[39;00m \u001b[38;5;28mself\u001b[39m\u001b[38;5;241m.\u001b[39mapply_raw()\n\u001b[0;32m--> 727\u001b[0m \u001b[38;5;28;01mreturn\u001b[39;00m \u001b[38;5;28;43mself\u001b[39;49m\u001b[38;5;241;43m.\u001b[39;49m\u001b[43mapply_standard\u001b[49m\u001b[43m(\u001b[49m\u001b[43m)\u001b[49m\n",
      "File \u001b[0;32m/usr/local/Caskroom/miniconda/base/lib/python3.9/site-packages/pandas/core/apply.py:851\u001b[0m, in \u001b[0;36mFrameApply.apply_standard\u001b[0;34m(self)\u001b[0m\n\u001b[1;32m    850\u001b[0m \u001b[38;5;28;01mdef\u001b[39;00m \u001b[38;5;21mapply_standard\u001b[39m(\u001b[38;5;28mself\u001b[39m):\n\u001b[0;32m--> 851\u001b[0m     results, res_index \u001b[38;5;241m=\u001b[39m \u001b[38;5;28;43mself\u001b[39;49m\u001b[38;5;241;43m.\u001b[39;49m\u001b[43mapply_series_generator\u001b[49m\u001b[43m(\u001b[49m\u001b[43m)\u001b[49m\n\u001b[1;32m    853\u001b[0m     \u001b[38;5;66;03m# wrap results\u001b[39;00m\n\u001b[1;32m    854\u001b[0m     \u001b[38;5;28;01mreturn\u001b[39;00m \u001b[38;5;28mself\u001b[39m\u001b[38;5;241m.\u001b[39mwrap_results(results, res_index)\n",
      "File \u001b[0;32m/usr/local/Caskroom/miniconda/base/lib/python3.9/site-packages/pandas/core/apply.py:867\u001b[0m, in \u001b[0;36mFrameApply.apply_series_generator\u001b[0;34m(self)\u001b[0m\n\u001b[1;32m    864\u001b[0m \u001b[38;5;28;01mwith\u001b[39;00m option_context(\u001b[38;5;124m\"\u001b[39m\u001b[38;5;124mmode.chained_assignment\u001b[39m\u001b[38;5;124m\"\u001b[39m, \u001b[38;5;28;01mNone\u001b[39;00m):\n\u001b[1;32m    865\u001b[0m     \u001b[38;5;28;01mfor\u001b[39;00m i, v \u001b[38;5;129;01min\u001b[39;00m \u001b[38;5;28menumerate\u001b[39m(series_gen):\n\u001b[1;32m    866\u001b[0m         \u001b[38;5;66;03m# ignore SettingWithCopy here in case the user mutates\u001b[39;00m\n\u001b[0;32m--> 867\u001b[0m         results[i] \u001b[38;5;241m=\u001b[39m \u001b[38;5;28;43mself\u001b[39;49m\u001b[38;5;241;43m.\u001b[39;49m\u001b[43mf\u001b[49m\u001b[43m(\u001b[49m\u001b[43mv\u001b[49m\u001b[43m)\u001b[49m\n\u001b[1;32m    868\u001b[0m         \u001b[38;5;28;01mif\u001b[39;00m \u001b[38;5;28misinstance\u001b[39m(results[i], ABCSeries):\n\u001b[1;32m    869\u001b[0m             \u001b[38;5;66;03m# If we have a view on v, we need to make a copy because\u001b[39;00m\n\u001b[1;32m    870\u001b[0m             \u001b[38;5;66;03m#  series_generator will swap out the underlying data\u001b[39;00m\n\u001b[1;32m    871\u001b[0m             results[i] \u001b[38;5;241m=\u001b[39m results[i]\u001b[38;5;241m.\u001b[39mcopy(deep\u001b[38;5;241m=\u001b[39m\u001b[38;5;28;01mFalse\u001b[39;00m)\n",
      "Input \u001b[0;32mIn [51]\u001b[0m, in \u001b[0;36m<lambda>\u001b[0;34m(datos)\u001b[0m\n\u001b[0;32m----> 1\u001b[0m df_limpio[\u001b[38;5;124m\"\u001b[39m\u001b[38;5;124mcoordenadas\u001b[39m\u001b[38;5;124m\"\u001b[39m] \u001b[38;5;241m=\u001b[39m df_limpio\u001b[38;5;241m.\u001b[39mapply(\u001b[38;5;28;01mlambda\u001b[39;00m datos: \u001b[43mutm_converter\u001b[49m\u001b[43m(\u001b[49m\u001b[43mdatos\u001b[49m\u001b[43m[\u001b[49m\u001b[38;5;124;43m\"\u001b[39;49m\u001b[38;5;124;43mcoordenada_x_utm\u001b[39;49m\u001b[38;5;124;43m\"\u001b[39;49m\u001b[43m]\u001b[49m\u001b[43m,\u001b[49m\n\u001b[1;32m      2\u001b[0m \u001b[43m                                            \u001b[49m\u001b[43mdatos\u001b[49m\u001b[43m[\u001b[49m\u001b[38;5;124;43m\"\u001b[39;49m\u001b[38;5;124;43mcoordenada_y_utm\u001b[39;49m\u001b[38;5;124;43m\"\u001b[39;49m\u001b[43m]\u001b[49m\u001b[43m)\u001b[49m, axis \u001b[38;5;241m=\u001b[39m\u001b[38;5;241m1\u001b[39m)\n",
      "Input \u001b[0;32mIn [50]\u001b[0m, in \u001b[0;36mutm_converter\u001b[0;34m(cosa1, cosa2)\u001b[0m\n\u001b[1;32m      1\u001b[0m \u001b[38;5;28;01mdef\u001b[39;00m \u001b[38;5;21mutm_converter\u001b[39m(cosa1, cosa2):\n\u001b[0;32m----> 2\u001b[0m     coordenada \u001b[38;5;241m=\u001b[39m \u001b[43mutm\u001b[49m\u001b[38;5;241;43m.\u001b[39;49m\u001b[43mto_latlon\u001b[49m\u001b[43m(\u001b[49m\u001b[43mcosa1\u001b[49m\u001b[43m,\u001b[49m\u001b[43m \u001b[49m\u001b[43mcosa2\u001b[49m\u001b[43m,\u001b[49m\u001b[43m \u001b[49m\u001b[38;5;241;43m30\u001b[39;49m\u001b[43m,\u001b[49m\u001b[43m \u001b[49m\u001b[38;5;124;43m'\u001b[39;49m\u001b[38;5;124;43mT\u001b[39;49m\u001b[38;5;124;43m'\u001b[39;49m\u001b[43m)\u001b[49m\n\u001b[1;32m      3\u001b[0m     \u001b[38;5;28;01mreturn\u001b[39;00m coordenada[\u001b[38;5;241m0\u001b[39m], coordenada[\u001b[38;5;241m1\u001b[39m]\n",
      "File \u001b[0;32m/usr/local/Caskroom/miniconda/base/lib/python3.9/site-packages/utm/conversion.py:69\u001b[0m, in \u001b[0;36mto_latlon\u001b[0;34m(easting, northing, zone_number, zone_letter, northern, strict)\u001b[0m\n\u001b[1;32m     67\u001b[0m \u001b[38;5;28;01mif\u001b[39;00m strict:\n\u001b[1;32m     68\u001b[0m     \u001b[38;5;28;01mif\u001b[39;00m \u001b[38;5;129;01mnot\u001b[39;00m \u001b[38;5;241m100000\u001b[39m \u001b[38;5;241m<\u001b[39m\u001b[38;5;241m=\u001b[39m easting \u001b[38;5;241m<\u001b[39m \u001b[38;5;241m1000000\u001b[39m:\n\u001b[0;32m---> 69\u001b[0m         \u001b[38;5;28;01mraise\u001b[39;00m OutOfRangeError(\u001b[38;5;124m'\u001b[39m\u001b[38;5;124measting out of range (must be between 100.000 m and 999.999 m)\u001b[39m\u001b[38;5;124m'\u001b[39m)\n\u001b[1;32m     70\u001b[0m     \u001b[38;5;28;01mif\u001b[39;00m \u001b[38;5;129;01mnot\u001b[39;00m \u001b[38;5;241m0\u001b[39m \u001b[38;5;241m<\u001b[39m\u001b[38;5;241m=\u001b[39m northing \u001b[38;5;241m<\u001b[39m\u001b[38;5;241m=\u001b[39m \u001b[38;5;241m10000000\u001b[39m:\n\u001b[1;32m     71\u001b[0m         \u001b[38;5;28;01mraise\u001b[39;00m OutOfRangeError(\u001b[38;5;124m'\u001b[39m\u001b[38;5;124mnorthing out of range (must be between 0 m and 10.000.000 m)\u001b[39m\u001b[38;5;124m'\u001b[39m)\n",
      "\u001b[0;31mOutOfRangeError\u001b[0m: easting out of range (must be between 100.000 m and 999.999 m)"
     ]
    }
   ],
   "source": [
    "df_limpio[\"coordenadas\"] = df_limpio.apply(lambda datos: utm_converter(datos[\"coordenada_x_utm\"],\n",
    "                                            datos[\"coordenada_y_utm\"]), axis =1)"
   ]
  },
  {
   "cell_type": "code",
   "execution_count": null,
   "id": "b9fdc22d",
   "metadata": {},
   "outputs": [],
   "source": [
    "df_prueba[\"coordenadas\"] = df_prueba.apply(lambda datos: utm_converter(datos[\"coordenada_x_utm\"],\n",
    "                                            datos[\"coordenada_y_utm\"]), axis =1)"
   ]
  },
  {
   "cell_type": "code",
   "execution_count": null,
   "id": "035fd0d8",
   "metadata": {},
   "outputs": [],
   "source": [
    "df_limpio[df_limpio[\"coordenadas\"].isnull()]"
   ]
  },
  {
   "cell_type": "code",
   "execution_count": null,
   "id": "e42021d3",
   "metadata": {},
   "outputs": [],
   "source": [
    "df_prueba[\"coordenadas\"] = df_prueba.apply(lambda datos: utm_converter(datos[\"coordenada_x_utm\"],\n",
    "                                            datos[\"coordenada_y_utm\"]), axis =1)\n"
   ]
  },
  {
   "cell_type": "code",
   "execution_count": null,
   "id": "02a0fca9",
   "metadata": {},
   "outputs": [],
   "source": [
    "df_prueba[df_prueba[\"coordenadas\"].isnull()]"
   ]
  },
  {
   "cell_type": "code",
   "execution_count": null,
   "id": "c1b0a968",
   "metadata": {},
   "outputs": [],
   "source": [
    "df_limpio.head(2)"
   ]
  },
  {
   "cell_type": "code",
   "execution_count": null,
   "id": "263caf08",
   "metadata": {},
   "outputs": [],
   "source": [
    "df_limpio[\"coordenadas\"].unique()"
   ]
  },
  {
   "cell_type": "code",
   "execution_count": null,
   "id": "cf126074",
   "metadata": {},
   "outputs": [],
   "source": [
    "def utm_lat(cosa1, cosa2):\n",
    "    coordenada = utm.to_latlon(cosa1, cosa2, 30, 'T')\n",
    "    return coordenada[0]"
   ]
  },
  {
   "cell_type": "code",
   "execution_count": null,
   "id": "d88d3206",
   "metadata": {},
   "outputs": [],
   "source": [
    "def utm_lon(cosa1, cosa2):\n",
    "    coordenada = utm.to_latlon(cosa1, cosa2, 30, 'T')\n",
    "    return test_coordenada[1]"
   ]
  },
  {
   "cell_type": "code",
   "execution_count": null,
   "id": "a89c49ee",
   "metadata": {},
   "outputs": [],
   "source": [
    "def utm_lat1(lat, lon):\n",
    "    try:\n",
    "        coordenada = utm.to_latlon(lat, lon, 30, 'T')\n",
    "        return test_coordenada[0]\n",
    "    except:\n",
    "        return None"
   ]
  },
  {
   "cell_type": "code",
   "execution_count": null,
   "id": "47bf6c94",
   "metadata": {},
   "outputs": [],
   "source": [
    "df_limpio[\"latidud_\"] = df_limpio.apply(lambda datos: utm_lat1(\n",
    "                                    datos[\"coordenada_x_utm\"],[\"coordenada_y_utm\"]), \n",
    "                                        axis = 1)"
   ]
  },
  {
   "cell_type": "code",
   "execution_count": null,
   "id": "b26156fb",
   "metadata": {},
   "outputs": [],
   "source": [
    "df_limpio"
   ]
  },
  {
   "cell_type": "code",
   "execution_count": null,
   "id": "7bc47c5b",
   "metadata": {},
   "outputs": [],
   "source": []
  },
  {
   "cell_type": "code",
   "execution_count": null,
   "id": "55703e77",
   "metadata": {},
   "outputs": [],
   "source": []
  },
  {
   "cell_type": "code",
   "execution_count": null,
   "id": "ef308d8f",
   "metadata": {},
   "outputs": [],
   "source": [
    "\"\"\"utm_lat2(lat, lon):\n",
    "    try:\n",
    "        coordenada = utm.to_latlon(row[\"coordenada_x_utm\"], row[\"coordenada_y_utm\"], 30, 'T')\n",
    "        return test_coordenada[0]\n",
    "    except:\n",
    "        return None\"\"\""
   ]
  },
  {
   "cell_type": "code",
   "execution_count": null,
   "id": "3f515250",
   "metadata": {},
   "outputs": [],
   "source": [
    "\"\"\"df_prueba[\"latidud_2\"] = df_prueba.apply(lambda datos: utm_lat2(\n",
    "                                    datos[\"coordenada_x_utm\"]),\n",
    "                                         axis = 1)\"\"\""
   ]
  },
  {
   "cell_type": "code",
   "execution_count": null,
   "id": "b50ca196",
   "metadata": {},
   "outputs": [],
   "source": [
    "df_prueba"
   ]
  },
  {
   "cell_type": "code",
   "execution_count": null,
   "id": "771711c9",
   "metadata": {},
   "outputs": [],
   "source": [
    "#df_prueba[\"latidud_\"] = df_prueba.apply(lambda lat,lon: utm_lat1(\n",
    "                                    row[\"coordenada_x_utm\"], row[\"coordenada_y_utm\"]), axis = 1)"
   ]
  },
  {
   "cell_type": "code",
   "execution_count": null,
   "id": "a4bda98a",
   "metadata": {},
   "outputs": [],
   "source": [
    "df_prueba = df_limpio.head(20).copy()\n",
    "df_prueba "
   ]
  },
  {
   "cell_type": "code",
   "execution_count": null,
   "id": "749da199",
   "metadata": {},
   "outputs": [],
   "source": []
  },
  {
   "cell_type": "code",
   "execution_count": null,
   "id": "4bc06697",
   "metadata": {},
   "outputs": [],
   "source": []
  },
  {
   "cell_type": "code",
   "execution_count": null,
   "id": "157d3123",
   "metadata": {},
   "outputs": [],
   "source": []
  },
  {
   "cell_type": "code",
   "execution_count": null,
   "id": "89f6f91e",
   "metadata": {},
   "outputs": [],
   "source": []
  },
  {
   "cell_type": "code",
   "execution_count": null,
   "id": "f8ce1981",
   "metadata": {},
   "outputs": [],
   "source": []
  },
  {
   "cell_type": "code",
   "execution_count": null,
   "id": "a9ac5855",
   "metadata": {},
   "outputs": [],
   "source": [
    "df_limpio[\"coordenada_x_utm\"].min()"
   ]
  },
  {
   "cell_type": "code",
   "execution_count": null,
   "id": "300c9c43",
   "metadata": {
    "scrolled": true
   },
   "outputs": [],
   "source": [
    "df_limpio[\"coordenada_x_utm\"].max()"
   ]
  },
  {
   "cell_type": "code",
   "execution_count": null,
   "id": "9317ab58",
   "metadata": {},
   "outputs": [],
   "source": []
  },
  {
   "cell_type": "code",
   "execution_count": null,
   "id": "4a3d9ea2",
   "metadata": {},
   "outputs": [],
   "source": [
    "def rule(row):\n",
    "    lat, lon = utm.to_latlon(row[\"coordenada_x_utm\"], row[\"coordenada_y_utm\"], 30, \"T\")\n",
    "    return pd.Series({\"lat\": lat, \"lon\": lon})\n",
    "print ()"
   ]
  },
  {
   "cell_type": "code",
   "execution_count": null,
   "id": "6089a00c",
   "metadata": {},
   "outputs": [],
   "source": [
    "df_limpio.merge(df_limpio.apply(rule, axis=1), left_index= True, right_index= True)"
   ]
  },
  {
   "cell_type": "code",
   "execution_count": null,
   "id": "d6c1f1b3",
   "metadata": {},
   "outputs": [],
   "source": [
    "def convert_utm_lat(row):\n",
    "    return utm.to_latlon(row[\"coordenada_x_utm\"], row[\"coordenada_y_utm\"], 11, 'T')[0] "
   ]
  },
  {
   "cell_type": "code",
   "execution_count": null,
   "id": "fb6be0a3",
   "metadata": {},
   "outputs": [],
   "source": [
    "df_limpio.merge(df_limpio.apply(convert_utm_lat, axis=1), left_index= True, right_index= True)"
   ]
  }
 ],
 "metadata": {
  "kernelspec": {
   "display_name": "Python 3 (ipykernel)",
   "language": "python",
   "name": "python3"
  },
  "language_info": {
   "codemirror_mode": {
    "name": "ipython",
    "version": 3
   },
   "file_extension": ".py",
   "mimetype": "text/x-python",
   "name": "python",
   "nbconvert_exporter": "python",
   "pygments_lexer": "ipython3",
   "version": "3.9.7"
  }
 },
 "nbformat": 4,
 "nbformat_minor": 5
}
