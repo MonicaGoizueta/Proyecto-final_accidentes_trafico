{
 "cells": [
  {
   "cell_type": "code",
   "execution_count": 1,
   "id": "ab4a8e73",
   "metadata": {},
   "outputs": [],
   "source": [
    "import pandas as pd\n",
    "import numpy as np\n",
    "import datetime\n",
    "import time\n",
    "\n",
    "pd.options.display.max_columns = None"
   ]
  },
  {
   "cell_type": "code",
   "execution_count": 2,
   "id": "8fe3e667",
   "metadata": {
    "scrolled": true
   },
   "outputs": [
    {
     "data": {
      "text/html": [
       "<div>\n",
       "<style scoped>\n",
       "    .dataframe tbody tr th:only-of-type {\n",
       "        vertical-align: middle;\n",
       "    }\n",
       "\n",
       "    .dataframe tbody tr th {\n",
       "        vertical-align: top;\n",
       "    }\n",
       "\n",
       "    .dataframe thead th {\n",
       "        text-align: right;\n",
       "    }\n",
       "</style>\n",
       "<table border=\"1\" class=\"dataframe\">\n",
       "  <thead>\n",
       "    <tr style=\"text-align: right;\">\n",
       "      <th></th>\n",
       "      <th>num_expediente</th>\n",
       "      <th>fecha</th>\n",
       "      <th>hora</th>\n",
       "      <th>localizacion</th>\n",
       "      <th>numero</th>\n",
       "      <th>cod_distrito</th>\n",
       "      <th>distrito</th>\n",
       "      <th>tipo_accidente</th>\n",
       "      <th>estado_meteorológico</th>\n",
       "      <th>tipo_vehiculo</th>\n",
       "      <th>tipo_persona</th>\n",
       "      <th>rango_edad</th>\n",
       "      <th>sexo</th>\n",
       "      <th>cod_lesividad</th>\n",
       "      <th>lesividad</th>\n",
       "      <th>coordenada_x_utm</th>\n",
       "      <th>coordenada_y_utm</th>\n",
       "      <th>positiva_alcohol</th>\n",
       "      <th>positiva_droga</th>\n",
       "    </tr>\n",
       "  </thead>\n",
       "  <tbody>\n",
       "    <tr>\n",
       "      <th>0</th>\n",
       "      <td>2020S019534</td>\n",
       "      <td>2021-01-01</td>\n",
       "      <td>04:30:00</td>\n",
       "      <td>AVDA. PABLO NERUDA / CALL. LEONESES</td>\n",
       "      <td>57</td>\n",
       "      <td>13.0</td>\n",
       "      <td>PUENTE DE VALLECAS</td>\n",
       "      <td>Colisión fronto-lateral</td>\n",
       "      <td>Despejado</td>\n",
       "      <td>Turismo</td>\n",
       "      <td>Conductor</td>\n",
       "      <td>De 30 a 34 años</td>\n",
       "      <td>Mujer</td>\n",
       "      <td>14.0</td>\n",
       "      <td>Sin asistencia sanitaria</td>\n",
       "      <td>444976.463</td>\n",
       "      <td>4470508.259</td>\n",
       "      <td>N</td>\n",
       "      <td>NaN</td>\n",
       "    </tr>\n",
       "    <tr>\n",
       "      <th>1</th>\n",
       "      <td>2020S019534</td>\n",
       "      <td>2021-01-01</td>\n",
       "      <td>04:30:00</td>\n",
       "      <td>AVDA. PABLO NERUDA / CALL. LEONESES</td>\n",
       "      <td>57</td>\n",
       "      <td>13.0</td>\n",
       "      <td>PUENTE DE VALLECAS</td>\n",
       "      <td>Colisión fronto-lateral</td>\n",
       "      <td>Despejado</td>\n",
       "      <td>Turismo</td>\n",
       "      <td>Conductor</td>\n",
       "      <td>De 35 a 39 años</td>\n",
       "      <td>Hombre</td>\n",
       "      <td>7.0</td>\n",
       "      <td>Asistencia sanitaria sólo en el lugar del acci...</td>\n",
       "      <td>444976.463</td>\n",
       "      <td>4470508.259</td>\n",
       "      <td>N</td>\n",
       "      <td>NaN</td>\n",
       "    </tr>\n",
       "    <tr>\n",
       "      <th>2</th>\n",
       "      <td>2020S019534</td>\n",
       "      <td>2021-01-01</td>\n",
       "      <td>04:30:00</td>\n",
       "      <td>AVDA. PABLO NERUDA / CALL. LEONESES</td>\n",
       "      <td>57</td>\n",
       "      <td>13.0</td>\n",
       "      <td>PUENTE DE VALLECAS</td>\n",
       "      <td>Colisión fronto-lateral</td>\n",
       "      <td>Despejado</td>\n",
       "      <td>Turismo</td>\n",
       "      <td>Conductor</td>\n",
       "      <td>Desconocido</td>\n",
       "      <td>Desconocido</td>\n",
       "      <td>NaN</td>\n",
       "      <td>NaN</td>\n",
       "      <td>444976.463</td>\n",
       "      <td>4470508.259</td>\n",
       "      <td>N</td>\n",
       "      <td>NaN</td>\n",
       "    </tr>\n",
       "  </tbody>\n",
       "</table>\n",
       "</div>"
      ],
      "text/plain": [
       "  num_expediente      fecha      hora                         localizacion  \\\n",
       "0    2020S019534 2021-01-01  04:30:00  AVDA. PABLO NERUDA / CALL. LEONESES   \n",
       "1    2020S019534 2021-01-01  04:30:00  AVDA. PABLO NERUDA / CALL. LEONESES   \n",
       "2    2020S019534 2021-01-01  04:30:00  AVDA. PABLO NERUDA / CALL. LEONESES   \n",
       "\n",
       "  numero  cod_distrito            distrito           tipo_accidente  \\\n",
       "0     57          13.0  PUENTE DE VALLECAS  Colisión fronto-lateral   \n",
       "1     57          13.0  PUENTE DE VALLECAS  Colisión fronto-lateral   \n",
       "2     57          13.0  PUENTE DE VALLECAS  Colisión fronto-lateral   \n",
       "\n",
       "  estado_meteorológico tipo_vehiculo tipo_persona       rango_edad  \\\n",
       "0            Despejado       Turismo    Conductor  De 30 a 34 años   \n",
       "1            Despejado       Turismo    Conductor  De 35 a 39 años   \n",
       "2            Despejado       Turismo    Conductor      Desconocido   \n",
       "\n",
       "          sexo  cod_lesividad  \\\n",
       "0        Mujer           14.0   \n",
       "1       Hombre            7.0   \n",
       "2  Desconocido            NaN   \n",
       "\n",
       "                                           lesividad  coordenada_x_utm  \\\n",
       "0                           Sin asistencia sanitaria        444976.463   \n",
       "1  Asistencia sanitaria sólo en el lugar del acci...        444976.463   \n",
       "2                                                NaN        444976.463   \n",
       "\n",
       "   coordenada_y_utm positiva_alcohol  positiva_droga  \n",
       "0       4470508.259                N             NaN  \n",
       "1       4470508.259                N             NaN  \n",
       "2       4470508.259                N             NaN  "
      ]
     },
     "execution_count": 2,
     "metadata": {},
     "output_type": "execute_result"
    }
   ],
   "source": [
    "df = pd.read_excel(\"2021_Accidentalidad.xlsx\")\n",
    "df.head(3)"
   ]
  },
  {
   "cell_type": "markdown",
   "id": "bc423f96",
   "metadata": {},
   "source": [
    "# Duplicados"
   ]
  },
  {
   "cell_type": "markdown",
   "id": "e3c7e13a",
   "metadata": {},
   "source": [
    "Eliminamos duplicados"
   ]
  },
  {
   "cell_type": "code",
   "execution_count": 3,
   "id": "3e3e59c1",
   "metadata": {},
   "outputs": [],
   "source": [
    "df.drop_duplicates(inplace = True)"
   ]
  },
  {
   "cell_type": "code",
   "execution_count": 4,
   "id": "f4ccfbae",
   "metadata": {},
   "outputs": [],
   "source": [
    "df.to_csv(\"df_limpio.csv\")"
   ]
  },
  {
   "cell_type": "markdown",
   "id": "1f5329aa",
   "metadata": {},
   "source": [
    "# Tipado de columnas"
   ]
  },
  {
   "cell_type": "code",
   "execution_count": 5,
   "id": "22adad36",
   "metadata": {
    "scrolled": false
   },
   "outputs": [
    {
     "data": {
      "text/plain": [
       "num_expediente                  object\n",
       "fecha                   datetime64[ns]\n",
       "hora                            object\n",
       "localizacion                    object\n",
       "numero                          object\n",
       "cod_distrito                   float64\n",
       "distrito                        object\n",
       "tipo_accidente                  object\n",
       "estado_meteorológico            object\n",
       "tipo_vehiculo                   object\n",
       "tipo_persona                    object\n",
       "rango_edad                      object\n",
       "sexo                            object\n",
       "cod_lesividad                  float64\n",
       "lesividad                       object\n",
       "coordenada_x_utm               float64\n",
       "coordenada_y_utm               float64\n",
       "positiva_alcohol                object\n",
       "positiva_droga                 float64\n",
       "dtype: object"
      ]
     },
     "execution_count": 5,
     "metadata": {},
     "output_type": "execute_result"
    }
   ],
   "source": [
    "df.dtypes"
   ]
  },
  {
   "cell_type": "markdown",
   "id": "cfe32d0b",
   "metadata": {},
   "source": [
    "Cambiamos el tipado de columnas que queremos"
   ]
  },
  {
   "cell_type": "code",
   "execution_count": 6,
   "id": "81a300fa",
   "metadata": {},
   "outputs": [],
   "source": [
    "df['numero'] = pd.to_numeric(df[\"numero\"], errors='coerce').astype('Int64')\n",
    "df['cod_distrito'] = pd.to_numeric(df[\"cod_distrito\"], errors='coerce').astype('Int64')\n",
    "df['cod_lesividad'] = pd.to_numeric(df[\"cod_lesividad\"], errors='coerce').astype('Int64')\n",
    "df[\"positiva_droga\"] = df[\"positiva_droga\"].astype(\"category\")"
   ]
  },
  {
   "cell_type": "code",
   "execution_count": 7,
   "id": "49b80fb2",
   "metadata": {
    "scrolled": true
   },
   "outputs": [
    {
     "data": {
      "text/plain": [
       "(39966, 19)"
      ]
     },
     "execution_count": 7,
     "metadata": {},
     "output_type": "execute_result"
    }
   ],
   "source": [
    "df.shape"
   ]
  },
  {
   "cell_type": "markdown",
   "id": "95e8033a",
   "metadata": {},
   "source": [
    "# Añadimos columnas"
   ]
  },
  {
   "cell_type": "markdown",
   "id": "861b950e",
   "metadata": {},
   "source": [
    "Añadimos columna de interés como el día de la semana"
   ]
  },
  {
   "cell_type": "code",
   "execution_count": 8,
   "id": "f67ef628",
   "metadata": {},
   "outputs": [],
   "source": [
    "df['dia_semana'] = df['fecha'].dt.day_name()"
   ]
  },
  {
   "cell_type": "code",
   "execution_count": 9,
   "id": "ad85245b",
   "metadata": {
    "scrolled": true
   },
   "outputs": [
    {
     "data": {
      "text/html": [
       "<div>\n",
       "<style scoped>\n",
       "    .dataframe tbody tr th:only-of-type {\n",
       "        vertical-align: middle;\n",
       "    }\n",
       "\n",
       "    .dataframe tbody tr th {\n",
       "        vertical-align: top;\n",
       "    }\n",
       "\n",
       "    .dataframe thead th {\n",
       "        text-align: right;\n",
       "    }\n",
       "</style>\n",
       "<table border=\"1\" class=\"dataframe\">\n",
       "  <thead>\n",
       "    <tr style=\"text-align: right;\">\n",
       "      <th></th>\n",
       "      <th>num_expediente</th>\n",
       "      <th>fecha</th>\n",
       "      <th>hora</th>\n",
       "      <th>localizacion</th>\n",
       "      <th>numero</th>\n",
       "      <th>cod_distrito</th>\n",
       "      <th>distrito</th>\n",
       "      <th>tipo_accidente</th>\n",
       "      <th>estado_meteorológico</th>\n",
       "      <th>tipo_vehiculo</th>\n",
       "      <th>tipo_persona</th>\n",
       "      <th>rango_edad</th>\n",
       "      <th>sexo</th>\n",
       "      <th>cod_lesividad</th>\n",
       "      <th>lesividad</th>\n",
       "      <th>coordenada_x_utm</th>\n",
       "      <th>coordenada_y_utm</th>\n",
       "      <th>positiva_alcohol</th>\n",
       "      <th>positiva_droga</th>\n",
       "      <th>dia_semana</th>\n",
       "    </tr>\n",
       "  </thead>\n",
       "  <tbody>\n",
       "    <tr>\n",
       "      <th>0</th>\n",
       "      <td>2020S019534</td>\n",
       "      <td>2021-01-01</td>\n",
       "      <td>04:30:00</td>\n",
       "      <td>AVDA. PABLO NERUDA / CALL. LEONESES</td>\n",
       "      <td>57</td>\n",
       "      <td>13</td>\n",
       "      <td>PUENTE DE VALLECAS</td>\n",
       "      <td>Colisión fronto-lateral</td>\n",
       "      <td>Despejado</td>\n",
       "      <td>Turismo</td>\n",
       "      <td>Conductor</td>\n",
       "      <td>De 30 a 34 años</td>\n",
       "      <td>Mujer</td>\n",
       "      <td>14</td>\n",
       "      <td>Sin asistencia sanitaria</td>\n",
       "      <td>444976.463</td>\n",
       "      <td>4470508.259</td>\n",
       "      <td>N</td>\n",
       "      <td>NaN</td>\n",
       "      <td>Friday</td>\n",
       "    </tr>\n",
       "    <tr>\n",
       "      <th>1</th>\n",
       "      <td>2020S019534</td>\n",
       "      <td>2021-01-01</td>\n",
       "      <td>04:30:00</td>\n",
       "      <td>AVDA. PABLO NERUDA / CALL. LEONESES</td>\n",
       "      <td>57</td>\n",
       "      <td>13</td>\n",
       "      <td>PUENTE DE VALLECAS</td>\n",
       "      <td>Colisión fronto-lateral</td>\n",
       "      <td>Despejado</td>\n",
       "      <td>Turismo</td>\n",
       "      <td>Conductor</td>\n",
       "      <td>De 35 a 39 años</td>\n",
       "      <td>Hombre</td>\n",
       "      <td>7</td>\n",
       "      <td>Asistencia sanitaria sólo en el lugar del acci...</td>\n",
       "      <td>444976.463</td>\n",
       "      <td>4470508.259</td>\n",
       "      <td>N</td>\n",
       "      <td>NaN</td>\n",
       "      <td>Friday</td>\n",
       "    </tr>\n",
       "  </tbody>\n",
       "</table>\n",
       "</div>"
      ],
      "text/plain": [
       "  num_expediente      fecha      hora                         localizacion  \\\n",
       "0    2020S019534 2021-01-01  04:30:00  AVDA. PABLO NERUDA / CALL. LEONESES   \n",
       "1    2020S019534 2021-01-01  04:30:00  AVDA. PABLO NERUDA / CALL. LEONESES   \n",
       "\n",
       "   numero  cod_distrito            distrito           tipo_accidente  \\\n",
       "0      57            13  PUENTE DE VALLECAS  Colisión fronto-lateral   \n",
       "1      57            13  PUENTE DE VALLECAS  Colisión fronto-lateral   \n",
       "\n",
       "  estado_meteorológico tipo_vehiculo tipo_persona       rango_edad    sexo  \\\n",
       "0            Despejado       Turismo    Conductor  De 30 a 34 años   Mujer   \n",
       "1            Despejado       Turismo    Conductor  De 35 a 39 años  Hombre   \n",
       "\n",
       "   cod_lesividad                                          lesividad  \\\n",
       "0             14                           Sin asistencia sanitaria   \n",
       "1              7  Asistencia sanitaria sólo en el lugar del acci...   \n",
       "\n",
       "   coordenada_x_utm  coordenada_y_utm positiva_alcohol positiva_droga  \\\n",
       "0        444976.463       4470508.259                N            NaN   \n",
       "1        444976.463       4470508.259                N            NaN   \n",
       "\n",
       "  dia_semana  \n",
       "0     Friday  \n",
       "1     Friday  "
      ]
     },
     "execution_count": 9,
     "metadata": {},
     "output_type": "execute_result"
    }
   ],
   "source": [
    "df.head(2)"
   ]
  },
  {
   "cell_type": "markdown",
   "id": "33de5e34",
   "metadata": {},
   "source": [
    "# Eliminamos columnas"
   ]
  },
  {
   "cell_type": "markdown",
   "id": "8cbe3213",
   "metadata": {},
   "source": [
    "Eliminamos la columna de \"positiva_droga\" por tener la mayoría de campos en nulo y no aportar gran valor"
   ]
  },
  {
   "cell_type": "code",
   "execution_count": 10,
   "id": "8683732e",
   "metadata": {},
   "outputs": [],
   "source": [
    "df_limpio = df.drop([\"positiva_droga\"], axis = 1)"
   ]
  },
  {
   "cell_type": "code",
   "execution_count": 11,
   "id": "9c028402",
   "metadata": {},
   "outputs": [
    {
     "data": {
      "text/html": [
       "<div>\n",
       "<style scoped>\n",
       "    .dataframe tbody tr th:only-of-type {\n",
       "        vertical-align: middle;\n",
       "    }\n",
       "\n",
       "    .dataframe tbody tr th {\n",
       "        vertical-align: top;\n",
       "    }\n",
       "\n",
       "    .dataframe thead th {\n",
       "        text-align: right;\n",
       "    }\n",
       "</style>\n",
       "<table border=\"1\" class=\"dataframe\">\n",
       "  <thead>\n",
       "    <tr style=\"text-align: right;\">\n",
       "      <th></th>\n",
       "      <th>num_expediente</th>\n",
       "      <th>fecha</th>\n",
       "      <th>hora</th>\n",
       "      <th>localizacion</th>\n",
       "      <th>numero</th>\n",
       "      <th>cod_distrito</th>\n",
       "      <th>distrito</th>\n",
       "      <th>tipo_accidente</th>\n",
       "      <th>estado_meteorológico</th>\n",
       "      <th>tipo_vehiculo</th>\n",
       "      <th>tipo_persona</th>\n",
       "      <th>rango_edad</th>\n",
       "      <th>sexo</th>\n",
       "      <th>cod_lesividad</th>\n",
       "      <th>lesividad</th>\n",
       "      <th>coordenada_x_utm</th>\n",
       "      <th>coordenada_y_utm</th>\n",
       "      <th>positiva_alcohol</th>\n",
       "      <th>dia_semana</th>\n",
       "    </tr>\n",
       "  </thead>\n",
       "  <tbody>\n",
       "    <tr>\n",
       "      <th>0</th>\n",
       "      <td>2020S019534</td>\n",
       "      <td>2021-01-01</td>\n",
       "      <td>04:30:00</td>\n",
       "      <td>AVDA. PABLO NERUDA / CALL. LEONESES</td>\n",
       "      <td>57</td>\n",
       "      <td>13</td>\n",
       "      <td>PUENTE DE VALLECAS</td>\n",
       "      <td>Colisión fronto-lateral</td>\n",
       "      <td>Despejado</td>\n",
       "      <td>Turismo</td>\n",
       "      <td>Conductor</td>\n",
       "      <td>De 30 a 34 años</td>\n",
       "      <td>Mujer</td>\n",
       "      <td>14</td>\n",
       "      <td>Sin asistencia sanitaria</td>\n",
       "      <td>444976.463</td>\n",
       "      <td>4470508.259</td>\n",
       "      <td>N</td>\n",
       "      <td>Friday</td>\n",
       "    </tr>\n",
       "    <tr>\n",
       "      <th>1</th>\n",
       "      <td>2020S019534</td>\n",
       "      <td>2021-01-01</td>\n",
       "      <td>04:30:00</td>\n",
       "      <td>AVDA. PABLO NERUDA / CALL. LEONESES</td>\n",
       "      <td>57</td>\n",
       "      <td>13</td>\n",
       "      <td>PUENTE DE VALLECAS</td>\n",
       "      <td>Colisión fronto-lateral</td>\n",
       "      <td>Despejado</td>\n",
       "      <td>Turismo</td>\n",
       "      <td>Conductor</td>\n",
       "      <td>De 35 a 39 años</td>\n",
       "      <td>Hombre</td>\n",
       "      <td>7</td>\n",
       "      <td>Asistencia sanitaria sólo en el lugar del acci...</td>\n",
       "      <td>444976.463</td>\n",
       "      <td>4470508.259</td>\n",
       "      <td>N</td>\n",
       "      <td>Friday</td>\n",
       "    </tr>\n",
       "  </tbody>\n",
       "</table>\n",
       "</div>"
      ],
      "text/plain": [
       "  num_expediente      fecha      hora                         localizacion  \\\n",
       "0    2020S019534 2021-01-01  04:30:00  AVDA. PABLO NERUDA / CALL. LEONESES   \n",
       "1    2020S019534 2021-01-01  04:30:00  AVDA. PABLO NERUDA / CALL. LEONESES   \n",
       "\n",
       "   numero  cod_distrito            distrito           tipo_accidente  \\\n",
       "0      57            13  PUENTE DE VALLECAS  Colisión fronto-lateral   \n",
       "1      57            13  PUENTE DE VALLECAS  Colisión fronto-lateral   \n",
       "\n",
       "  estado_meteorológico tipo_vehiculo tipo_persona       rango_edad    sexo  \\\n",
       "0            Despejado       Turismo    Conductor  De 30 a 34 años   Mujer   \n",
       "1            Despejado       Turismo    Conductor  De 35 a 39 años  Hombre   \n",
       "\n",
       "   cod_lesividad                                          lesividad  \\\n",
       "0             14                           Sin asistencia sanitaria   \n",
       "1              7  Asistencia sanitaria sólo en el lugar del acci...   \n",
       "\n",
       "   coordenada_x_utm  coordenada_y_utm positiva_alcohol dia_semana  \n",
       "0        444976.463       4470508.259                N     Friday  \n",
       "1        444976.463       4470508.259                N     Friday  "
      ]
     },
     "execution_count": 11,
     "metadata": {},
     "output_type": "execute_result"
    }
   ],
   "source": [
    "df_limpio.head(2)"
   ]
  },
  {
   "cell_type": "markdown",
   "id": "5015efe6",
   "metadata": {},
   "source": [
    "# Gestión de Nulos"
   ]
  },
  {
   "cell_type": "markdown",
   "id": "8f96cf96",
   "metadata": {},
   "source": [
    "Eliminamos o sustituimos Nulos"
   ]
  },
  {
   "cell_type": "code",
   "execution_count": 12,
   "id": "fa94e551",
   "metadata": {},
   "outputs": [
    {
     "data": {
      "text/plain": [
       "array(['N', 'S', nan], dtype=object)"
      ]
     },
     "execution_count": 12,
     "metadata": {},
     "output_type": "execute_result"
    }
   ],
   "source": [
    "df_limpio[\"positiva_alcohol\"].unique()"
   ]
  },
  {
   "cell_type": "code",
   "execution_count": 13,
   "id": "ec26b461",
   "metadata": {
    "scrolled": false
   },
   "outputs": [
    {
     "data": {
      "text/plain": [
       "N    38523\n",
       "S     1277\n",
       "Name: positiva_alcohol, dtype: int64"
      ]
     },
     "execution_count": 13,
     "metadata": {},
     "output_type": "execute_result"
    }
   ],
   "source": [
    "df_limpio[\"positiva_alcohol\"].value_counts()"
   ]
  },
  {
   "cell_type": "code",
   "execution_count": 14,
   "id": "9dd7c52c",
   "metadata": {},
   "outputs": [],
   "source": [
    "df_limpio['positiva_alcohol'] = df['positiva_alcohol'].fillna(\"Sin especificar\")"
   ]
  },
  {
   "cell_type": "code",
   "execution_count": null,
   "id": "19e2b8f6",
   "metadata": {},
   "outputs": [],
   "source": []
  },
  {
   "cell_type": "code",
   "execution_count": null,
   "id": "0e56e243",
   "metadata": {},
   "outputs": [],
   "source": []
  },
  {
   "cell_type": "code",
   "execution_count": null,
   "id": "ceaad5c1",
   "metadata": {},
   "outputs": [],
   "source": []
  },
  {
   "cell_type": "code",
   "execution_count": 15,
   "id": "c3a68144",
   "metadata": {
    "scrolled": true
   },
   "outputs": [
    {
     "data": {
      "text/plain": [
       "True"
      ]
     },
     "execution_count": 15,
     "metadata": {},
     "output_type": "execute_result"
    }
   ],
   "source": [
    "df_limpio.isnull().values.any()"
   ]
  },
  {
   "cell_type": "code",
   "execution_count": 16,
   "id": "8777bcad",
   "metadata": {},
   "outputs": [
    {
     "data": {
      "text/html": [
       "<div>\n",
       "<style scoped>\n",
       "    .dataframe tbody tr th:only-of-type {\n",
       "        vertical-align: middle;\n",
       "    }\n",
       "\n",
       "    .dataframe tbody tr th {\n",
       "        vertical-align: top;\n",
       "    }\n",
       "\n",
       "    .dataframe thead th {\n",
       "        text-align: right;\n",
       "    }\n",
       "</style>\n",
       "<table border=\"1\" class=\"dataframe\">\n",
       "  <thead>\n",
       "    <tr style=\"text-align: right;\">\n",
       "      <th></th>\n",
       "      <th>num_expediente</th>\n",
       "      <th>fecha</th>\n",
       "      <th>hora</th>\n",
       "      <th>localizacion</th>\n",
       "      <th>numero</th>\n",
       "      <th>cod_distrito</th>\n",
       "      <th>distrito</th>\n",
       "      <th>tipo_accidente</th>\n",
       "      <th>estado_meteorológico</th>\n",
       "      <th>tipo_vehiculo</th>\n",
       "      <th>tipo_persona</th>\n",
       "      <th>rango_edad</th>\n",
       "      <th>sexo</th>\n",
       "      <th>cod_lesividad</th>\n",
       "      <th>lesividad</th>\n",
       "      <th>coordenada_x_utm</th>\n",
       "      <th>coordenada_y_utm</th>\n",
       "      <th>positiva_alcohol</th>\n",
       "      <th>dia_semana</th>\n",
       "    </tr>\n",
       "  </thead>\n",
       "  <tbody>\n",
       "  </tbody>\n",
       "</table>\n",
       "</div>"
      ],
      "text/plain": [
       "Empty DataFrame\n",
       "Columns: [num_expediente, fecha, hora, localizacion, numero, cod_distrito, distrito, tipo_accidente, estado_meteorológico, tipo_vehiculo, tipo_persona, rango_edad, sexo, cod_lesividad, lesividad, coordenada_x_utm, coordenada_y_utm, positiva_alcohol, dia_semana]\n",
       "Index: []"
      ]
     },
     "execution_count": 16,
     "metadata": {},
     "output_type": "execute_result"
    }
   ],
   "source": [
    "df_limpio[df_limpio[\"distrito\"] == \"null\" ]"
   ]
  },
  {
   "cell_type": "code",
   "execution_count": 34,
   "id": "54bc8e0d",
   "metadata": {},
   "outputs": [
    {
     "data": {
      "text/html": [
       "<div>\n",
       "<style scoped>\n",
       "    .dataframe tbody tr th:only-of-type {\n",
       "        vertical-align: middle;\n",
       "    }\n",
       "\n",
       "    .dataframe tbody tr th {\n",
       "        vertical-align: top;\n",
       "    }\n",
       "\n",
       "    .dataframe thead th {\n",
       "        text-align: right;\n",
       "    }\n",
       "</style>\n",
       "<table border=\"1\" class=\"dataframe\">\n",
       "  <thead>\n",
       "    <tr style=\"text-align: right;\">\n",
       "      <th></th>\n",
       "      <th>num_expediente</th>\n",
       "      <th>fecha</th>\n",
       "      <th>hora</th>\n",
       "      <th>localizacion</th>\n",
       "      <th>numero</th>\n",
       "      <th>cod_distrito</th>\n",
       "      <th>distrito</th>\n",
       "      <th>tipo_accidente</th>\n",
       "      <th>estado_meteorológico</th>\n",
       "      <th>tipo_vehiculo</th>\n",
       "      <th>tipo_persona</th>\n",
       "      <th>rango_edad</th>\n",
       "      <th>sexo</th>\n",
       "      <th>cod_lesividad</th>\n",
       "      <th>lesividad</th>\n",
       "      <th>coordenada_x_utm</th>\n",
       "      <th>coordenada_y_utm</th>\n",
       "      <th>positiva_alcohol</th>\n",
       "      <th>dia_semana</th>\n",
       "    </tr>\n",
       "  </thead>\n",
       "  <tbody>\n",
       "    <tr>\n",
       "      <th>2</th>\n",
       "      <td>2020S019534</td>\n",
       "      <td>2021-01-01</td>\n",
       "      <td>04:30:00</td>\n",
       "      <td>AVDA. PABLO NERUDA / CALL. LEONESES</td>\n",
       "      <td>57</td>\n",
       "      <td>13</td>\n",
       "      <td>PUENTE DE VALLECAS</td>\n",
       "      <td>Colisión fronto-lateral</td>\n",
       "      <td>Despejado</td>\n",
       "      <td>Turismo</td>\n",
       "      <td>Conductor</td>\n",
       "      <td>Desconocido</td>\n",
       "      <td>Desconocido</td>\n",
       "      <td>&lt;NA&gt;</td>\n",
       "      <td>NaN</td>\n",
       "      <td>444976.463</td>\n",
       "      <td>4470508.259</td>\n",
       "      <td>N</td>\n",
       "      <td>Friday</td>\n",
       "    </tr>\n",
       "    <tr>\n",
       "      <th>16</th>\n",
       "      <td>2021S000006</td>\n",
       "      <td>2021-01-01</td>\n",
       "      <td>01:35:00</td>\n",
       "      <td>CALL. JULIAN CAMARILLO, 21</td>\n",
       "      <td>21</td>\n",
       "      <td>20</td>\n",
       "      <td>SAN BLAS-CANILLEJAS</td>\n",
       "      <td>Otro</td>\n",
       "      <td>Nublado</td>\n",
       "      <td>Turismo</td>\n",
       "      <td>Conductor</td>\n",
       "      <td>De 45 a 49 años</td>\n",
       "      <td>Hombre</td>\n",
       "      <td>&lt;NA&gt;</td>\n",
       "      <td>NaN</td>\n",
       "      <td>446546.575</td>\n",
       "      <td>4476147.465</td>\n",
       "      <td>N</td>\n",
       "      <td>Friday</td>\n",
       "    </tr>\n",
       "  </tbody>\n",
       "</table>\n",
       "</div>"
      ],
      "text/plain": [
       "   num_expediente      fecha      hora                         localizacion  \\\n",
       "2     2020S019534 2021-01-01  04:30:00  AVDA. PABLO NERUDA / CALL. LEONESES   \n",
       "16    2021S000006 2021-01-01  01:35:00           CALL. JULIAN CAMARILLO, 21   \n",
       "\n",
       "    numero  cod_distrito             distrito           tipo_accidente  \\\n",
       "2       57            13   PUENTE DE VALLECAS  Colisión fronto-lateral   \n",
       "16      21            20  SAN BLAS-CANILLEJAS                     Otro   \n",
       "\n",
       "   estado_meteorológico tipo_vehiculo tipo_persona       rango_edad  \\\n",
       "2             Despejado       Turismo    Conductor      Desconocido   \n",
       "16              Nublado       Turismo    Conductor  De 45 a 49 años   \n",
       "\n",
       "           sexo  cod_lesividad lesividad  coordenada_x_utm  coordenada_y_utm  \\\n",
       "2   Desconocido           <NA>       NaN        444976.463       4470508.259   \n",
       "16       Hombre           <NA>       NaN        446546.575       4476147.465   \n",
       "\n",
       "   positiva_alcohol dia_semana  \n",
       "2                 N     Friday  \n",
       "16                N     Friday  "
      ]
     },
     "execution_count": 34,
     "metadata": {},
     "output_type": "execute_result"
    }
   ],
   "source": [
    "nan_rows = df_limpio[df_limpio.isnull().any(1)]\n",
    "nan_rows.head(2)"
   ]
  },
  {
   "cell_type": "code",
   "execution_count": 19,
   "id": "6c9e6193",
   "metadata": {},
   "outputs": [
    {
     "data": {
      "text/plain": [
       "num_expediente              0\n",
       "fecha                       0\n",
       "hora                        0\n",
       "localizacion                0\n",
       "numero                   5623\n",
       "cod_distrito                3\n",
       "distrito                    3\n",
       "tipo_accidente              4\n",
       "estado_meteorológico     4156\n",
       "tipo_vehiculo              54\n",
       "tipo_persona                3\n",
       "rango_edad                  0\n",
       "sexo                        0\n",
       "cod_lesividad           17489\n",
       "lesividad               17489\n",
       "coordenada_x_utm           12\n",
       "coordenada_y_utm           12\n",
       "positiva_alcohol            0\n",
       "dia_semana                  0\n",
       "dtype: int64"
      ]
     },
     "execution_count": 19,
     "metadata": {},
     "output_type": "execute_result"
    }
   ],
   "source": [
    "df_limpio.isnull().sum()"
   ]
  },
  {
   "cell_type": "code",
   "execution_count": 20,
   "id": "ce8b63bb",
   "metadata": {
    "scrolled": true
   },
   "outputs": [],
   "source": [
    "#df ['hora'] = pd. to_datetime.time (df['hora'])"
   ]
  },
  {
   "cell_type": "code",
   "execution_count": 21,
   "id": "4b6b44b5",
   "metadata": {
    "scrolled": false
   },
   "outputs": [
    {
     "name": "stderr",
     "output_type": "stream",
     "text": [
      "/var/folders/hb/9zbycmb97bx0n1b4ggqr8s_c0000gn/T/ipykernel_26094/4186470162.py:1: FutureWarning: Indexing with multiple keys (implicitly converted to a tuple of keys) will be deprecated, use a list instead.\n",
      "  df_pie = pd.DataFrame(df_limpio.groupby(['num_expediente', 'distrito'])[\"tipo_vehiculo\", \"tipo_accidente\", \"tipo_persona\"].count())\n"
     ]
    },
    {
     "data": {
      "text/html": [
       "<div>\n",
       "<style scoped>\n",
       "    .dataframe tbody tr th:only-of-type {\n",
       "        vertical-align: middle;\n",
       "    }\n",
       "\n",
       "    .dataframe tbody tr th {\n",
       "        vertical-align: top;\n",
       "    }\n",
       "\n",
       "    .dataframe thead th {\n",
       "        text-align: right;\n",
       "    }\n",
       "</style>\n",
       "<table border=\"1\" class=\"dataframe\">\n",
       "  <thead>\n",
       "    <tr style=\"text-align: right;\">\n",
       "      <th></th>\n",
       "      <th></th>\n",
       "      <th>tipo_vehiculo</th>\n",
       "      <th>tipo_accidente</th>\n",
       "      <th>tipo_persona</th>\n",
       "    </tr>\n",
       "    <tr>\n",
       "      <th>num_expediente</th>\n",
       "      <th>distrito</th>\n",
       "      <th></th>\n",
       "      <th></th>\n",
       "      <th></th>\n",
       "    </tr>\n",
       "  </thead>\n",
       "  <tbody>\n",
       "    <tr>\n",
       "      <th>2020S019534</th>\n",
       "      <th>PUENTE DE VALLECAS</th>\n",
       "      <td>5</td>\n",
       "      <td>5</td>\n",
       "      <td>5</td>\n",
       "    </tr>\n",
       "  </tbody>\n",
       "</table>\n",
       "</div>"
      ],
      "text/plain": [
       "                                   tipo_vehiculo  tipo_accidente  tipo_persona\n",
       "num_expediente distrito                                                       \n",
       "2020S019534    PUENTE DE VALLECAS              5               5             5"
      ]
     },
     "execution_count": 21,
     "metadata": {},
     "output_type": "execute_result"
    }
   ],
   "source": [
    "df_pie = pd.DataFrame(df_limpio.groupby(['num_expediente', 'distrito'])[\"tipo_vehiculo\", \"tipo_accidente\", \"tipo_persona\"].count())\n",
    "\n",
    "df_pie.head(1)"
   ]
  },
  {
   "cell_type": "code",
   "execution_count": 36,
   "id": "d52a8ce5",
   "metadata": {
    "scrolled": true
   },
   "outputs": [
    {
     "data": {
      "text/html": [
       "<div>\n",
       "<style scoped>\n",
       "    .dataframe tbody tr th:only-of-type {\n",
       "        vertical-align: middle;\n",
       "    }\n",
       "\n",
       "    .dataframe tbody tr th {\n",
       "        vertical-align: top;\n",
       "    }\n",
       "\n",
       "    .dataframe thead th {\n",
       "        text-align: right;\n",
       "    }\n",
       "</style>\n",
       "<table border=\"1\" class=\"dataframe\">\n",
       "  <thead>\n",
       "    <tr style=\"text-align: right;\">\n",
       "      <th></th>\n",
       "      <th>index</th>\n",
       "      <th>num_expediente</th>\n",
       "      <th>distrito</th>\n",
       "      <th>tipo_vehiculo</th>\n",
       "      <th>tipo_accidente</th>\n",
       "      <th>tipo_persona</th>\n",
       "    </tr>\n",
       "  </thead>\n",
       "  <tbody>\n",
       "    <tr>\n",
       "      <th>0</th>\n",
       "      <td>0</td>\n",
       "      <td>2020S019534</td>\n",
       "      <td>PUENTE DE VALLECAS</td>\n",
       "      <td>5</td>\n",
       "      <td>5</td>\n",
       "      <td>5</td>\n",
       "    </tr>\n",
       "    <tr>\n",
       "      <th>1</th>\n",
       "      <td>1</td>\n",
       "      <td>2021S000001</td>\n",
       "      <td>USERA</td>\n",
       "      <td>5</td>\n",
       "      <td>5</td>\n",
       "      <td>5</td>\n",
       "    </tr>\n",
       "  </tbody>\n",
       "</table>\n",
       "</div>"
      ],
      "text/plain": [
       "   index num_expediente            distrito  tipo_vehiculo  tipo_accidente  \\\n",
       "0      0    2020S019534  PUENTE DE VALLECAS              5               5   \n",
       "1      1    2021S000001               USERA              5               5   \n",
       "\n",
       "   tipo_persona  \n",
       "0             5  \n",
       "1             5  "
      ]
     },
     "execution_count": 36,
     "metadata": {},
     "output_type": "execute_result"
    }
   ],
   "source": [
    "df_pie.reset_index(inplace = True)\n",
    "df_pie.head(2)"
   ]
  },
  {
   "cell_type": "code",
   "execution_count": 23,
   "id": "67185d2b",
   "metadata": {},
   "outputs": [
    {
     "data": {
      "text/plain": [
       "(17951, 5)"
      ]
     },
     "execution_count": 23,
     "metadata": {},
     "output_type": "execute_result"
    }
   ],
   "source": [
    "df_pie.shape"
   ]
  },
  {
   "cell_type": "code",
   "execution_count": 35,
   "id": "255a0977",
   "metadata": {},
   "outputs": [
    {
     "data": {
      "text/html": [
       "<div>\n",
       "<style scoped>\n",
       "    .dataframe tbody tr th:only-of-type {\n",
       "        vertical-align: middle;\n",
       "    }\n",
       "\n",
       "    .dataframe tbody tr th {\n",
       "        vertical-align: top;\n",
       "    }\n",
       "\n",
       "    .dataframe thead th {\n",
       "        text-align: right;\n",
       "    }\n",
       "</style>\n",
       "<table border=\"1\" class=\"dataframe\">\n",
       "  <thead>\n",
       "    <tr style=\"text-align: right;\">\n",
       "      <th></th>\n",
       "      <th>num_expediente</th>\n",
       "    </tr>\n",
       "    <tr>\n",
       "      <th>distrito</th>\n",
       "      <th></th>\n",
       "    </tr>\n",
       "  </thead>\n",
       "  <tbody>\n",
       "    <tr>\n",
       "      <th>ARGANZUELA</th>\n",
       "      <td>843</td>\n",
       "    </tr>\n",
       "    <tr>\n",
       "      <th>BARAJAS</th>\n",
       "      <td>315</td>\n",
       "    </tr>\n",
       "  </tbody>\n",
       "</table>\n",
       "</div>"
      ],
      "text/plain": [
       "            num_expediente\n",
       "distrito                  \n",
       "ARGANZUELA             843\n",
       "BARAJAS                315"
      ]
     },
     "execution_count": 35,
     "metadata": {},
     "output_type": "execute_result"
    }
   ],
   "source": [
    "df_pie_1 = pd.DataFrame(df_pie.groupby(['distrito'])[\"num_expediente\"].count())\n",
    "\n",
    "df_pie_1.head(2)"
   ]
  },
  {
   "cell_type": "code",
   "execution_count": 25,
   "id": "130ac7d5",
   "metadata": {},
   "outputs": [],
   "source": [
    "#df_pie2 = pd.DataFrame(df_pie1.groupby([\"distrito\", \"num_expediente\"])[\"num_expediente\"].count())\n",
    "\n",
    "#df_pie2.head(20)"
   ]
  },
  {
   "cell_type": "code",
   "execution_count": null,
   "id": "76c8d0f0",
   "metadata": {},
   "outputs": [],
   "source": []
  }
 ],
 "metadata": {
  "kernelspec": {
   "display_name": "Python 3 (ipykernel)",
   "language": "python",
   "name": "python3"
  },
  "language_info": {
   "codemirror_mode": {
    "name": "ipython",
    "version": 3
   },
   "file_extension": ".py",
   "mimetype": "text/x-python",
   "name": "python",
   "nbconvert_exporter": "python",
   "pygments_lexer": "ipython3",
   "version": "3.9.7"
  }
 },
 "nbformat": 4,
 "nbformat_minor": 5
}
